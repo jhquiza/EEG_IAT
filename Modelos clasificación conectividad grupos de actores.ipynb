{
 "cells": [
  {
   "cell_type": "code",
   "execution_count": 1,
   "metadata": {
    "collapsed": true
   },
   "outputs": [],
   "source": [
    "import numpy as np\n",
    "import pandas as pd\n",
    "from sklearn.model_selection import train_test_split\n",
    "from sklearn.compose import ColumnTransformer\n",
    "from sklearn.preprocessing import StandardScaler, MinMaxScaler, PowerTransformer\n",
    "from sklearn.decomposition import PCA\n",
    "from sklearn.pipeline import Pipeline\n",
    "from sklearn.model_selection import cross_val_score\n",
    "from mango import Tuner, scheduler\n",
    "from mango.domain.distribution import loguniform\n",
    "from scipy.stats import uniform\n",
    "from sklearn.linear_model import LogisticRegression\n",
    "from sklearn.neighbors import KNeighborsClassifier\n",
    "from sklearn.ensemble import RandomForestClassifier, GradientBoostingClassifier\n",
    "from sklearn.svm import SVC\n",
    "from xgboost import XGBClassifier"
   ]
  },
  {
   "cell_type": "code",
   "execution_count": 2,
   "outputs": [
    {
     "name": "stdout",
     "output_type": "stream",
     "text": [
      "<class 'pandas.core.frame.DataFrame'>\n",
      "Int64Index: 91 entries, 21100 to 24101\n",
      "Columns: 146 entries, diameter_ac to IH\n",
      "dtypes: float64(120), int64(21), object(5)\n",
      "memory usage: 104.5+ KB\n"
     ]
    }
   ],
   "source": [
    "data = pd.read_csv('medidas_conectividad_globales_comportamentales_demograficos_2.csv')\n",
    "data.set_index('subject', inplace=True)\n",
    "data = data.drop(columns=['type','IAT_score_ind','IAT_score_level','dscore_1','dscore_2','dscore_3','dscore_5','dscore_6','dscore_7','dscore_8','modo_0','modo_1','modo_2'], axis=1)\n",
    "data.info()"
   ],
   "metadata": {
    "collapsed": false
   }
  },
  {
   "cell_type": "markdown",
   "source": [
    "# Features engineering"
   ],
   "metadata": {
    "collapsed": false
   }
  },
  {
   "cell_type": "code",
   "execution_count": 3,
   "outputs": [],
   "source": [
    "# Imputación de datos\n",
    "# Datos ordinales se imputan con la mediana del grupo redondeada, datos nominales con el más frecuente del grupo\n",
    "data['EX2_score'].fillna(data.groupby('group')['EX2_score'].transform(lambda x: np.around(x.median())), inplace=True)\n",
    "data['IRI_PT'].fillna(data.groupby('group')['IRI_PT'].transform(lambda x: np.around(x.median())), inplace=True)\n",
    "data['IRI_PD'].fillna(data.groupby('group')['IRI_PD'].transform(lambda x: np.around(x.median())), inplace=True)\n",
    "data['IRI_EC'].fillna(data.groupby('group')['IRI_EC'].transform(lambda x: np.around(x.median())), inplace=True)\n",
    "data['IRI_FS'].fillna(data.groupby('group')['IRI_FS'].transform(lambda x: np.around(x.median())), inplace=True)\n",
    "data['IMA'].fillna(data.groupby('group')['IMA'].transform(lambda x: np.around(x.median())), inplace=True)\n",
    "data['RPQ AR'].fillna(data.groupby('group')['RPQ AR'].transform(lambda x: np.around(x.median())), inplace=True)\n",
    "data['RPQ AP'].fillna(data.groupby('group')['RPQ AP'].transform(lambda x: np.around(x.median())), inplace=True)\n",
    "data['victims_self'].fillna(method='backfill', inplace=True)"
   ],
   "metadata": {
    "collapsed": false
   }
  },
  {
   "cell_type": "code",
   "execution_count": 4,
   "outputs": [
    {
     "name": "stdout",
     "output_type": "stream",
     "text": [
      "<class 'pandas.core.frame.DataFrame'>\n",
      "Int64Index: 91 entries, 21100 to 24101\n",
      "Columns: 146 entries, diameter_ac to IH\n",
      "dtypes: float64(113), int64(28), object(5)\n",
      "memory usage: 104.5+ KB\n"
     ]
    }
   ],
   "source": [
    "data[['IRI_PT', 'IRI_FS', 'IRI_EC', 'IRI_PD', 'IMA', 'RPQ AR', 'RPQ AP']] = data[['IRI_PT', 'IRI_FS', 'IRI_EC', 'IRI_PD', 'IMA', 'RPQ AR', 'RPQ AP']].astype('int64')\n",
    "data.info()"
   ],
   "metadata": {
    "collapsed": false
   }
  },
  {
   "cell_type": "code",
   "execution_count": 6,
   "outputs": [],
   "source": [
    "# La variable de salida son los grupos de actores\n",
    "X= data.drop(['group'], axis=1).copy()\n",
    "y = data['group'].copy()"
   ],
   "metadata": {
    "collapsed": false
   }
  },
  {
   "cell_type": "code",
   "execution_count": 7,
   "outputs": [
    {
     "name": "stdout",
     "output_type": "stream",
     "text": [
      "<class 'pandas.core.frame.DataFrame'>\n",
      "Int64Index: 91 entries, 21100 to 24101\n",
      "Columns: 145 entries, diameter_ac to IH\n",
      "dtypes: float64(113), int64(32)\n",
      "memory usage: 103.8 KB\n"
     ]
    }
   ],
   "source": [
    "# codificación variables binarias\n",
    "X['victims_self'] = pd.factorize(X['victims_self'])[0]\n",
    "X['gender'] = pd.factorize(X['gender'])[0]\n",
    "X['laterality'] = pd.factorize(X['laterality'])[0]\n",
    "X['exposure_level'] = pd.factorize(X['exposure_level'])[0]\n",
    "X.info()"
   ],
   "metadata": {
    "collapsed": false
   }
  },
  {
   "cell_type": "code",
   "execution_count": 8,
   "outputs": [],
   "source": [
    "# separación datos de prueba\n",
    "X_train, X_test, y_train, y_test = train_test_split(X, y, test_size=0.2, random_state=77, stratify=y)"
   ],
   "metadata": {
    "collapsed": false
   }
  },
  {
   "cell_type": "code",
   "execution_count": 20,
   "outputs": [
    {
     "data": {
      "text/plain": "         power__diameter_ac  power__diameter_ai  power__diameter_ad  \\\nsubject                                                               \n21152              0.007027           -0.074626            0.023649   \n21103              0.887008            1.577346           -0.813635   \n21116             -1.113745            1.215295           -1.555049   \n21121              1.369081            0.520173            0.725098   \n22115             -0.336412            1.006123           -1.007308   \n\n         power__diameter_b1c  power__diameter_b1i  power__diameter_b1d  \\\nsubject                                                                  \n21152               0.192505            -0.376535             0.451027   \n21103              -0.553469             0.028833            -0.347379   \n21116              -0.174881             0.406388            -0.347379   \n21121              -0.943747             0.758343            -1.192616   \n22115              -0.553469            -0.376535            -0.076112   \n\n         power__diameter_b2c  power__diameter_b2i  power__diameter_b2d  \\\nsubject                                                                  \n21152              -0.477933             0.058373            -0.406998   \n21103               1.428304             0.058373             1.071135   \n21116              -1.968296            -0.654534            -0.684727   \n21121               1.094930            -0.290907             1.071135   \n22115               1.741192            -1.428011             2.702904   \n\n         power__diameter_dc  ...  min_max__school_years  min_max__gender  \\\nsubject                      ...                                           \n21152              0.451955  ...               0.500000              1.0   \n21103              0.725939  ...               1.000000              1.0   \n21116              0.725939  ...               0.666667              1.0   \n21121             -1.003266  ...               0.611111              1.0   \n22115              0.451955  ...               0.666667              1.0   \n\n         min_max__laterality  min_max__IRI_PT  min_max__IRI_FS  \\\nsubject                                                          \n21152                    0.0             1.00         0.583333   \n21103                    0.0             0.64         0.791667   \n21116                    0.0             0.92         0.375000   \n21121                    0.0             0.76         0.500000   \n22115                    0.0             0.00         0.000000   \n\n         min_max__IRI_EC  min_max__IRI_PD  min_max__IMA  min_max__RPQ AR  \\\nsubject                                                                    \n21152               0.95         0.789474      0.526316         0.666667   \n21103               0.80         0.631579      0.561404         0.592593   \n21116               0.65         0.368421      0.491228         0.666667   \n21121               0.75         0.526316      0.649123         0.814815   \n22115               0.00         0.000000      0.000000         0.000000   \n\n         min_max__RPQ AP  \nsubject                   \n21152           0.500000  \n21103           0.576923  \n21116           0.653846  \n21121           0.461538  \n22115           0.000000  \n\n[5 rows x 145 columns]",
      "text/html": "<div>\n<style scoped>\n    .dataframe tbody tr th:only-of-type {\n        vertical-align: middle;\n    }\n\n    .dataframe tbody tr th {\n        vertical-align: top;\n    }\n\n    .dataframe thead th {\n        text-align: right;\n    }\n</style>\n<table border=\"1\" class=\"dataframe\">\n  <thead>\n    <tr style=\"text-align: right;\">\n      <th></th>\n      <th>power__diameter_ac</th>\n      <th>power__diameter_ai</th>\n      <th>power__diameter_ad</th>\n      <th>power__diameter_b1c</th>\n      <th>power__diameter_b1i</th>\n      <th>power__diameter_b1d</th>\n      <th>power__diameter_b2c</th>\n      <th>power__diameter_b2i</th>\n      <th>power__diameter_b2d</th>\n      <th>power__diameter_dc</th>\n      <th>...</th>\n      <th>min_max__school_years</th>\n      <th>min_max__gender</th>\n      <th>min_max__laterality</th>\n      <th>min_max__IRI_PT</th>\n      <th>min_max__IRI_FS</th>\n      <th>min_max__IRI_EC</th>\n      <th>min_max__IRI_PD</th>\n      <th>min_max__IMA</th>\n      <th>min_max__RPQ AR</th>\n      <th>min_max__RPQ AP</th>\n    </tr>\n    <tr>\n      <th>subject</th>\n      <th></th>\n      <th></th>\n      <th></th>\n      <th></th>\n      <th></th>\n      <th></th>\n      <th></th>\n      <th></th>\n      <th></th>\n      <th></th>\n      <th></th>\n      <th></th>\n      <th></th>\n      <th></th>\n      <th></th>\n      <th></th>\n      <th></th>\n      <th></th>\n      <th></th>\n      <th></th>\n      <th></th>\n    </tr>\n  </thead>\n  <tbody>\n    <tr>\n      <th>21152</th>\n      <td>0.007027</td>\n      <td>-0.074626</td>\n      <td>0.023649</td>\n      <td>0.192505</td>\n      <td>-0.376535</td>\n      <td>0.451027</td>\n      <td>-0.477933</td>\n      <td>0.058373</td>\n      <td>-0.406998</td>\n      <td>0.451955</td>\n      <td>...</td>\n      <td>0.500000</td>\n      <td>1.0</td>\n      <td>0.0</td>\n      <td>1.00</td>\n      <td>0.583333</td>\n      <td>0.95</td>\n      <td>0.789474</td>\n      <td>0.526316</td>\n      <td>0.666667</td>\n      <td>0.500000</td>\n    </tr>\n    <tr>\n      <th>21103</th>\n      <td>0.887008</td>\n      <td>1.577346</td>\n      <td>-0.813635</td>\n      <td>-0.553469</td>\n      <td>0.028833</td>\n      <td>-0.347379</td>\n      <td>1.428304</td>\n      <td>0.058373</td>\n      <td>1.071135</td>\n      <td>0.725939</td>\n      <td>...</td>\n      <td>1.000000</td>\n      <td>1.0</td>\n      <td>0.0</td>\n      <td>0.64</td>\n      <td>0.791667</td>\n      <td>0.80</td>\n      <td>0.631579</td>\n      <td>0.561404</td>\n      <td>0.592593</td>\n      <td>0.576923</td>\n    </tr>\n    <tr>\n      <th>21116</th>\n      <td>-1.113745</td>\n      <td>1.215295</td>\n      <td>-1.555049</td>\n      <td>-0.174881</td>\n      <td>0.406388</td>\n      <td>-0.347379</td>\n      <td>-1.968296</td>\n      <td>-0.654534</td>\n      <td>-0.684727</td>\n      <td>0.725939</td>\n      <td>...</td>\n      <td>0.666667</td>\n      <td>1.0</td>\n      <td>0.0</td>\n      <td>0.92</td>\n      <td>0.375000</td>\n      <td>0.65</td>\n      <td>0.368421</td>\n      <td>0.491228</td>\n      <td>0.666667</td>\n      <td>0.653846</td>\n    </tr>\n    <tr>\n      <th>21121</th>\n      <td>1.369081</td>\n      <td>0.520173</td>\n      <td>0.725098</td>\n      <td>-0.943747</td>\n      <td>0.758343</td>\n      <td>-1.192616</td>\n      <td>1.094930</td>\n      <td>-0.290907</td>\n      <td>1.071135</td>\n      <td>-1.003266</td>\n      <td>...</td>\n      <td>0.611111</td>\n      <td>1.0</td>\n      <td>0.0</td>\n      <td>0.76</td>\n      <td>0.500000</td>\n      <td>0.75</td>\n      <td>0.526316</td>\n      <td>0.649123</td>\n      <td>0.814815</td>\n      <td>0.461538</td>\n    </tr>\n    <tr>\n      <th>22115</th>\n      <td>-0.336412</td>\n      <td>1.006123</td>\n      <td>-1.007308</td>\n      <td>-0.553469</td>\n      <td>-0.376535</td>\n      <td>-0.076112</td>\n      <td>1.741192</td>\n      <td>-1.428011</td>\n      <td>2.702904</td>\n      <td>0.451955</td>\n      <td>...</td>\n      <td>0.666667</td>\n      <td>1.0</td>\n      <td>0.0</td>\n      <td>0.00</td>\n      <td>0.000000</td>\n      <td>0.00</td>\n      <td>0.000000</td>\n      <td>0.000000</td>\n      <td>0.000000</td>\n      <td>0.000000</td>\n    </tr>\n  </tbody>\n</table>\n<p>5 rows × 145 columns</p>\n</div>"
     },
     "execution_count": 20,
     "metadata": {},
     "output_type": "execute_result"
    }
   ],
   "source": [
    "# normalización\n",
    "from sklearn.preprocessing import StandardScaler, MinMaxScaler,PowerTransformer\n",
    "continuas_cols = X_train.select_dtypes(include=['float64']).columns.to_list()\n",
    "discretas_cols = X_train.select_dtypes(include=['int64']).columns.to_list()\n",
    "preprocessor = ColumnTransformer([('power', PowerTransformer(), continuas_cols), ('min_max', MinMaxScaler(), discretas_cols)], remainder='passthrough')\n",
    "X_train_normalizado = preprocessor.fit_transform(X_train)\n",
    "X_train_preprocesado = pd.DataFrame(data=X_train_normalizado, columns=preprocessor.get_feature_names_out(), index=X_train.index)\n",
    "X_train_preprocesado.head()"
   ],
   "metadata": {
    "collapsed": false
   }
  },
  {
   "cell_type": "markdown",
   "source": [
    "## Selección de atributos"
   ],
   "metadata": {
    "collapsed": false
   }
  },
  {
   "cell_type": "code",
   "execution_count": 21,
   "outputs": [
    {
     "data": {
      "text/plain": "                        features_lsvc\npower__mean_mpli_b1c                1\npower__mean_mpli_b1i                1\npower__mean_mpli_b2d                1\npower__mean_mpli_dc                 1\npower__dscore_4                     1\npower__AN                           1\npower__AL                           1\npower__IH                           1\nmin_max__max_degree_ti              1\nmin_max__exposure_level             1\nmin_max__victims_self               1\nmin_max__gender                     1\nmin_max__IRI_PT                     1",
      "text/html": "<div>\n<style scoped>\n    .dataframe tbody tr th:only-of-type {\n        vertical-align: middle;\n    }\n\n    .dataframe tbody tr th {\n        vertical-align: top;\n    }\n\n    .dataframe thead th {\n        text-align: right;\n    }\n</style>\n<table border=\"1\" class=\"dataframe\">\n  <thead>\n    <tr style=\"text-align: right;\">\n      <th></th>\n      <th>features_lsvc</th>\n    </tr>\n  </thead>\n  <tbody>\n    <tr>\n      <th>power__mean_mpli_b1c</th>\n      <td>1</td>\n    </tr>\n    <tr>\n      <th>power__mean_mpli_b1i</th>\n      <td>1</td>\n    </tr>\n    <tr>\n      <th>power__mean_mpli_b2d</th>\n      <td>1</td>\n    </tr>\n    <tr>\n      <th>power__mean_mpli_dc</th>\n      <td>1</td>\n    </tr>\n    <tr>\n      <th>power__dscore_4</th>\n      <td>1</td>\n    </tr>\n    <tr>\n      <th>power__AN</th>\n      <td>1</td>\n    </tr>\n    <tr>\n      <th>power__AL</th>\n      <td>1</td>\n    </tr>\n    <tr>\n      <th>power__IH</th>\n      <td>1</td>\n    </tr>\n    <tr>\n      <th>min_max__max_degree_ti</th>\n      <td>1</td>\n    </tr>\n    <tr>\n      <th>min_max__exposure_level</th>\n      <td>1</td>\n    </tr>\n    <tr>\n      <th>min_max__victims_self</th>\n      <td>1</td>\n    </tr>\n    <tr>\n      <th>min_max__gender</th>\n      <td>1</td>\n    </tr>\n    <tr>\n      <th>min_max__IRI_PT</th>\n      <td>1</td>\n    </tr>\n  </tbody>\n</table>\n</div>"
     },
     "execution_count": 21,
     "metadata": {},
     "output_type": "execute_result"
    }
   ],
   "source": [
    "# Por selección por modelos\n",
    "# SVC\n",
    "X_train_df = X_train_preprocesado.copy()\n",
    "from sklearn.svm import LinearSVC\n",
    "from sklearn.feature_selection import SelectFromModel\n",
    "lsvc = LinearSVC(random_state=72).fit(X_train_df, y_train)\n",
    "model = SelectFromModel(lsvc, threshold='1.5*mean', prefit=True)\n",
    "X_new = model.transform(X_train_df)\n",
    "features_lsvc = model.get_feature_names_out(input_features=X_train_df.columns)\n",
    "features_svc = pd.DataFrame(data=np.ones_like(features_lsvc), columns=['features_lsvc'], index=features_lsvc)\n",
    "features_svc"
   ],
   "metadata": {
    "collapsed": false
   }
  },
  {
   "cell_type": "code",
   "execution_count": 22,
   "outputs": [
    {
     "data": {
      "text/plain": "                             features_lrl2\npower__diameter_b2i                      1\npower__diameter_dc                       1\npower__leaf_fraction_b1c                 1\npower__leaf_fraction_b2i                 1\npower__max_betweenness_ad                1\npower__mean_eccentricity_b2i             1\npower__mean_eccentricity_di              1\npower__mean_mpli_b1c                     1\npower__mean_mpli_b1i                     1\npower__mean_mpli_b2i                     1\npower__mean_mpli_dc                      1\npower__mean_mpli_di                      1\npower__mean_mpli_gd                      1\npower__tree_hierarchy_ti                 1\npower__dscore_4                          1\npower__AN                                1\npower__AL                                1\npower__IH                                1\nmin_max__exposure_level                  1\nmin_max__victims_self                    1\nmin_max__gender                          1\nmin_max__IRI_PT                          1",
      "text/html": "<div>\n<style scoped>\n    .dataframe tbody tr th:only-of-type {\n        vertical-align: middle;\n    }\n\n    .dataframe tbody tr th {\n        vertical-align: top;\n    }\n\n    .dataframe thead th {\n        text-align: right;\n    }\n</style>\n<table border=\"1\" class=\"dataframe\">\n  <thead>\n    <tr style=\"text-align: right;\">\n      <th></th>\n      <th>features_lrl2</th>\n    </tr>\n  </thead>\n  <tbody>\n    <tr>\n      <th>power__diameter_b2i</th>\n      <td>1</td>\n    </tr>\n    <tr>\n      <th>power__diameter_dc</th>\n      <td>1</td>\n    </tr>\n    <tr>\n      <th>power__leaf_fraction_b1c</th>\n      <td>1</td>\n    </tr>\n    <tr>\n      <th>power__leaf_fraction_b2i</th>\n      <td>1</td>\n    </tr>\n    <tr>\n      <th>power__max_betweenness_ad</th>\n      <td>1</td>\n    </tr>\n    <tr>\n      <th>power__mean_eccentricity_b2i</th>\n      <td>1</td>\n    </tr>\n    <tr>\n      <th>power__mean_eccentricity_di</th>\n      <td>1</td>\n    </tr>\n    <tr>\n      <th>power__mean_mpli_b1c</th>\n      <td>1</td>\n    </tr>\n    <tr>\n      <th>power__mean_mpli_b1i</th>\n      <td>1</td>\n    </tr>\n    <tr>\n      <th>power__mean_mpli_b2i</th>\n      <td>1</td>\n    </tr>\n    <tr>\n      <th>power__mean_mpli_dc</th>\n      <td>1</td>\n    </tr>\n    <tr>\n      <th>power__mean_mpli_di</th>\n      <td>1</td>\n    </tr>\n    <tr>\n      <th>power__mean_mpli_gd</th>\n      <td>1</td>\n    </tr>\n    <tr>\n      <th>power__tree_hierarchy_ti</th>\n      <td>1</td>\n    </tr>\n    <tr>\n      <th>power__dscore_4</th>\n      <td>1</td>\n    </tr>\n    <tr>\n      <th>power__AN</th>\n      <td>1</td>\n    </tr>\n    <tr>\n      <th>power__AL</th>\n      <td>1</td>\n    </tr>\n    <tr>\n      <th>power__IH</th>\n      <td>1</td>\n    </tr>\n    <tr>\n      <th>min_max__exposure_level</th>\n      <td>1</td>\n    </tr>\n    <tr>\n      <th>min_max__victims_self</th>\n      <td>1</td>\n    </tr>\n    <tr>\n      <th>min_max__gender</th>\n      <td>1</td>\n    </tr>\n    <tr>\n      <th>min_max__IRI_PT</th>\n      <td>1</td>\n    </tr>\n  </tbody>\n</table>\n</div>"
     },
     "execution_count": 22,
     "metadata": {},
     "output_type": "execute_result"
    }
   ],
   "source": [
    "\n",
    "# regresión logística l2\n",
    "from sklearn.linear_model import LogisticRegression\n",
    "from sklearn.feature_selection import SelectFromModel\n",
    "lr = LogisticRegression(penalty=\"l2\", solver='saga', max_iter=10000, random_state=72).fit(X_train_df, y_train)\n",
    "model = SelectFromModel(lr, threshold='1.5*mean', prefit=True)\n",
    "X_new = model.transform(X_train_df)\n",
    "features_lrl2 = model.get_feature_names_out(input_features=X_train_df.columns)\n",
    "features_l2 = pd.DataFrame(data=np.ones_like(features_lrl2), columns=['features_lrl2'], index=features_lrl2)\n",
    "features_l2"
   ],
   "metadata": {
    "collapsed": false
   }
  },
  {
   "cell_type": "code",
   "execution_count": 23,
   "outputs": [
    {
     "data": {
      "text/plain": "                             features_lrl1\npower__diameter_ai                       1\npower__diameter_b1i                      1\npower__diameter_b2i                      1\npower__diameter_dc                       1\npower__diameter_gi                       1\npower__diameter_ti                       1\npower__leaf_fraction_b2i                 1\npower__leaf_fraction_b2d                 1\npower__max_betweenness_ac                1\npower__max_betweenness_b1d               1\npower__max_betweenness_b2i               1\npower__max_betweenness_ti                1\npower__mean_eccentricity_b2d             1\npower__mean_eccentricity_dd              1\npower__mean_mpli_b1c                     1\npower__mean_mpli_b1i                     1\npower__mean_mpli_dc                      1\npower__mean_mpli_gd                      1\npower__tree_hierarchy_ad                 1\npower__tree_hierarchy_gc                 1\npower__tree_hierarchy_ti                 1\npower__dscore_4                          1\npower__AN                                1\npower__AL                                1\npower__IH                                1\nmin_max__exposure_level                  1\nmin_max__victims_self                    1\nmin_max__gender                          1",
      "text/html": "<div>\n<style scoped>\n    .dataframe tbody tr th:only-of-type {\n        vertical-align: middle;\n    }\n\n    .dataframe tbody tr th {\n        vertical-align: top;\n    }\n\n    .dataframe thead th {\n        text-align: right;\n    }\n</style>\n<table border=\"1\" class=\"dataframe\">\n  <thead>\n    <tr style=\"text-align: right;\">\n      <th></th>\n      <th>features_lrl1</th>\n    </tr>\n  </thead>\n  <tbody>\n    <tr>\n      <th>power__diameter_ai</th>\n      <td>1</td>\n    </tr>\n    <tr>\n      <th>power__diameter_b1i</th>\n      <td>1</td>\n    </tr>\n    <tr>\n      <th>power__diameter_b2i</th>\n      <td>1</td>\n    </tr>\n    <tr>\n      <th>power__diameter_dc</th>\n      <td>1</td>\n    </tr>\n    <tr>\n      <th>power__diameter_gi</th>\n      <td>1</td>\n    </tr>\n    <tr>\n      <th>power__diameter_ti</th>\n      <td>1</td>\n    </tr>\n    <tr>\n      <th>power__leaf_fraction_b2i</th>\n      <td>1</td>\n    </tr>\n    <tr>\n      <th>power__leaf_fraction_b2d</th>\n      <td>1</td>\n    </tr>\n    <tr>\n      <th>power__max_betweenness_ac</th>\n      <td>1</td>\n    </tr>\n    <tr>\n      <th>power__max_betweenness_b1d</th>\n      <td>1</td>\n    </tr>\n    <tr>\n      <th>power__max_betweenness_b2i</th>\n      <td>1</td>\n    </tr>\n    <tr>\n      <th>power__max_betweenness_ti</th>\n      <td>1</td>\n    </tr>\n    <tr>\n      <th>power__mean_eccentricity_b2d</th>\n      <td>1</td>\n    </tr>\n    <tr>\n      <th>power__mean_eccentricity_dd</th>\n      <td>1</td>\n    </tr>\n    <tr>\n      <th>power__mean_mpli_b1c</th>\n      <td>1</td>\n    </tr>\n    <tr>\n      <th>power__mean_mpli_b1i</th>\n      <td>1</td>\n    </tr>\n    <tr>\n      <th>power__mean_mpli_dc</th>\n      <td>1</td>\n    </tr>\n    <tr>\n      <th>power__mean_mpli_gd</th>\n      <td>1</td>\n    </tr>\n    <tr>\n      <th>power__tree_hierarchy_ad</th>\n      <td>1</td>\n    </tr>\n    <tr>\n      <th>power__tree_hierarchy_gc</th>\n      <td>1</td>\n    </tr>\n    <tr>\n      <th>power__tree_hierarchy_ti</th>\n      <td>1</td>\n    </tr>\n    <tr>\n      <th>power__dscore_4</th>\n      <td>1</td>\n    </tr>\n    <tr>\n      <th>power__AN</th>\n      <td>1</td>\n    </tr>\n    <tr>\n      <th>power__AL</th>\n      <td>1</td>\n    </tr>\n    <tr>\n      <th>power__IH</th>\n      <td>1</td>\n    </tr>\n    <tr>\n      <th>min_max__exposure_level</th>\n      <td>1</td>\n    </tr>\n    <tr>\n      <th>min_max__victims_self</th>\n      <td>1</td>\n    </tr>\n    <tr>\n      <th>min_max__gender</th>\n      <td>1</td>\n    </tr>\n  </tbody>\n</table>\n</div>"
     },
     "execution_count": 23,
     "metadata": {},
     "output_type": "execute_result"
    }
   ],
   "source": [
    "\n",
    "# regresión logística l1\n",
    "from sklearn.linear_model import LogisticRegression\n",
    "from sklearn.feature_selection import SelectFromModel\n",
    "lr = LogisticRegression(penalty=\"l1\", solver='saga', max_iter=10000, random_state=72).fit(X_train_df, y_train)\n",
    "model = SelectFromModel(lr, threshold='1.5*mean', prefit=True)\n",
    "X_new = model.transform(X_train_df)\n",
    "features_lrl1 = model.get_feature_names_out(input_features=X_train_df.columns)\n",
    "features_l1 = pd.DataFrame(data=np.ones_like(features_lrl1), columns=['features_lrl1'], index=features_lrl1)\n",
    "features_l1"
   ],
   "metadata": {
    "collapsed": false
   }
  },
  {
   "cell_type": "code",
   "execution_count": 24,
   "outputs": [
    {
     "data": {
      "text/plain": "                             features_rf\npower__diameter_b2i                    1\npower__diameter_ti                     1\npower__max_betweenness_td              1\npower__mean_eccentricity_b2i           1\npower__mean_eccentricity_di            1\npower__mean_eccentricity_gi            1\npower__mean_eccentricity_ti            1\npower__mean_eccentricity_td            1\npower__mean_mpli_ai                    1\npower__mean_mpli_ad                    1\npower__tree_hierarchy_td               1\npower__dscore_4                        1\npower__AN                              1\npower__AL                              1\nmin_max__exposure_level                1\nmin_max__victims_self                  1\nmin_max__EX2_score                     1\nmin_max__gender                        1\nmin_max__IRI_PT                        1\nmin_max__IRI_PD                        1",
      "text/html": "<div>\n<style scoped>\n    .dataframe tbody tr th:only-of-type {\n        vertical-align: middle;\n    }\n\n    .dataframe tbody tr th {\n        vertical-align: top;\n    }\n\n    .dataframe thead th {\n        text-align: right;\n    }\n</style>\n<table border=\"1\" class=\"dataframe\">\n  <thead>\n    <tr style=\"text-align: right;\">\n      <th></th>\n      <th>features_rf</th>\n    </tr>\n  </thead>\n  <tbody>\n    <tr>\n      <th>power__diameter_b2i</th>\n      <td>1</td>\n    </tr>\n    <tr>\n      <th>power__diameter_ti</th>\n      <td>1</td>\n    </tr>\n    <tr>\n      <th>power__max_betweenness_td</th>\n      <td>1</td>\n    </tr>\n    <tr>\n      <th>power__mean_eccentricity_b2i</th>\n      <td>1</td>\n    </tr>\n    <tr>\n      <th>power__mean_eccentricity_di</th>\n      <td>1</td>\n    </tr>\n    <tr>\n      <th>power__mean_eccentricity_gi</th>\n      <td>1</td>\n    </tr>\n    <tr>\n      <th>power__mean_eccentricity_ti</th>\n      <td>1</td>\n    </tr>\n    <tr>\n      <th>power__mean_eccentricity_td</th>\n      <td>1</td>\n    </tr>\n    <tr>\n      <th>power__mean_mpli_ai</th>\n      <td>1</td>\n    </tr>\n    <tr>\n      <th>power__mean_mpli_ad</th>\n      <td>1</td>\n    </tr>\n    <tr>\n      <th>power__tree_hierarchy_td</th>\n      <td>1</td>\n    </tr>\n    <tr>\n      <th>power__dscore_4</th>\n      <td>1</td>\n    </tr>\n    <tr>\n      <th>power__AN</th>\n      <td>1</td>\n    </tr>\n    <tr>\n      <th>power__AL</th>\n      <td>1</td>\n    </tr>\n    <tr>\n      <th>min_max__exposure_level</th>\n      <td>1</td>\n    </tr>\n    <tr>\n      <th>min_max__victims_self</th>\n      <td>1</td>\n    </tr>\n    <tr>\n      <th>min_max__EX2_score</th>\n      <td>1</td>\n    </tr>\n    <tr>\n      <th>min_max__gender</th>\n      <td>1</td>\n    </tr>\n    <tr>\n      <th>min_max__IRI_PT</th>\n      <td>1</td>\n    </tr>\n    <tr>\n      <th>min_max__IRI_PD</th>\n      <td>1</td>\n    </tr>\n  </tbody>\n</table>\n</div>"
     },
     "execution_count": 24,
     "metadata": {},
     "output_type": "execute_result"
    }
   ],
   "source": [
    "\n",
    "# random forest\n",
    "from sklearn.ensemble import RandomForestClassifier\n",
    "from sklearn.feature_selection import SelectFromModel\n",
    "rf = RandomForestClassifier(random_state=72).fit(X_train_df, y_train)\n",
    "model = SelectFromModel(rf, threshold='1.5*mean', prefit=True)\n",
    "X_new = model.transform(X_train_df)\n",
    "features_rf = model.get_feature_names_out(input_features=X_train_df.columns)\n",
    "features_rfo = pd.DataFrame(data=np.ones_like(features_rf), columns=['features_rf'], index=features_rf)\n",
    "features_rfo"
   ],
   "metadata": {
    "collapsed": false
   }
  },
  {
   "cell_type": "code",
   "execution_count": 25,
   "outputs": [
    {
     "data": {
      "text/plain": "                                  p_values  features_an\npower__diameter_b2i           5.150896e-03            1\npower__diameter_tc            2.025604e-02            1\npower__diameter_td            5.062498e-03            1\npower__mean_eccentricity_b2i  1.216370e-02            1\npower__mean_eccentricity_di   4.596627e-02            1\npower__mean_eccentricity_td   2.665056e-02            1\npower__mean_mpli_ai           3.189355e-03            1\npower__mean_mpli_ad           4.815035e-02            1\npower__mean_mpli_b1c          1.098198e-02            1\npower__mean_mpli_b1i          9.735219e-03            1\npower__mean_mpli_di           2.359509e-02            1\npower__mean_mpli_ti           2.888993e-02            1\npower__tree_hierarchy_ti      4.460886e-02            1\npower__tree_hierarchy_td      4.130257e-02            1\npower__AN                     1.079832e-03            1\npower__AL                     1.035340e-05            1\npower__IH                     5.178964e-03            1\nmin_max__exposure_level       1.265495e-07            1\nmin_max__victims_self         1.186774e-06            1\nmin_max__EX2_score            3.730318e-06            1\nmin_max__age                  8.776050e-03            1\nmin_max__school_years         4.295235e-02            1\nmin_max__gender               4.877157e-08            1\nmin_max__IRI_PT               1.426897e-04            1\nmin_max__IRI_EC               2.277311e-02            1\nmin_max__IRI_PD               3.285439e-02            1\nmin_max__IMA                  4.983568e-02            1",
      "text/html": "<div>\n<style scoped>\n    .dataframe tbody tr th:only-of-type {\n        vertical-align: middle;\n    }\n\n    .dataframe tbody tr th {\n        vertical-align: top;\n    }\n\n    .dataframe thead th {\n        text-align: right;\n    }\n</style>\n<table border=\"1\" class=\"dataframe\">\n  <thead>\n    <tr style=\"text-align: right;\">\n      <th></th>\n      <th>p_values</th>\n      <th>features_an</th>\n    </tr>\n  </thead>\n  <tbody>\n    <tr>\n      <th>power__diameter_b2i</th>\n      <td>5.150896e-03</td>\n      <td>1</td>\n    </tr>\n    <tr>\n      <th>power__diameter_tc</th>\n      <td>2.025604e-02</td>\n      <td>1</td>\n    </tr>\n    <tr>\n      <th>power__diameter_td</th>\n      <td>5.062498e-03</td>\n      <td>1</td>\n    </tr>\n    <tr>\n      <th>power__mean_eccentricity_b2i</th>\n      <td>1.216370e-02</td>\n      <td>1</td>\n    </tr>\n    <tr>\n      <th>power__mean_eccentricity_di</th>\n      <td>4.596627e-02</td>\n      <td>1</td>\n    </tr>\n    <tr>\n      <th>power__mean_eccentricity_td</th>\n      <td>2.665056e-02</td>\n      <td>1</td>\n    </tr>\n    <tr>\n      <th>power__mean_mpli_ai</th>\n      <td>3.189355e-03</td>\n      <td>1</td>\n    </tr>\n    <tr>\n      <th>power__mean_mpli_ad</th>\n      <td>4.815035e-02</td>\n      <td>1</td>\n    </tr>\n    <tr>\n      <th>power__mean_mpli_b1c</th>\n      <td>1.098198e-02</td>\n      <td>1</td>\n    </tr>\n    <tr>\n      <th>power__mean_mpli_b1i</th>\n      <td>9.735219e-03</td>\n      <td>1</td>\n    </tr>\n    <tr>\n      <th>power__mean_mpli_di</th>\n      <td>2.359509e-02</td>\n      <td>1</td>\n    </tr>\n    <tr>\n      <th>power__mean_mpli_ti</th>\n      <td>2.888993e-02</td>\n      <td>1</td>\n    </tr>\n    <tr>\n      <th>power__tree_hierarchy_ti</th>\n      <td>4.460886e-02</td>\n      <td>1</td>\n    </tr>\n    <tr>\n      <th>power__tree_hierarchy_td</th>\n      <td>4.130257e-02</td>\n      <td>1</td>\n    </tr>\n    <tr>\n      <th>power__AN</th>\n      <td>1.079832e-03</td>\n      <td>1</td>\n    </tr>\n    <tr>\n      <th>power__AL</th>\n      <td>1.035340e-05</td>\n      <td>1</td>\n    </tr>\n    <tr>\n      <th>power__IH</th>\n      <td>5.178964e-03</td>\n      <td>1</td>\n    </tr>\n    <tr>\n      <th>min_max__exposure_level</th>\n      <td>1.265495e-07</td>\n      <td>1</td>\n    </tr>\n    <tr>\n      <th>min_max__victims_self</th>\n      <td>1.186774e-06</td>\n      <td>1</td>\n    </tr>\n    <tr>\n      <th>min_max__EX2_score</th>\n      <td>3.730318e-06</td>\n      <td>1</td>\n    </tr>\n    <tr>\n      <th>min_max__age</th>\n      <td>8.776050e-03</td>\n      <td>1</td>\n    </tr>\n    <tr>\n      <th>min_max__school_years</th>\n      <td>4.295235e-02</td>\n      <td>1</td>\n    </tr>\n    <tr>\n      <th>min_max__gender</th>\n      <td>4.877157e-08</td>\n      <td>1</td>\n    </tr>\n    <tr>\n      <th>min_max__IRI_PT</th>\n      <td>1.426897e-04</td>\n      <td>1</td>\n    </tr>\n    <tr>\n      <th>min_max__IRI_EC</th>\n      <td>2.277311e-02</td>\n      <td>1</td>\n    </tr>\n    <tr>\n      <th>min_max__IRI_PD</th>\n      <td>3.285439e-02</td>\n      <td>1</td>\n    </tr>\n    <tr>\n      <th>min_max__IMA</th>\n      <td>4.983568e-02</td>\n      <td>1</td>\n    </tr>\n  </tbody>\n</table>\n</div>"
     },
     "execution_count": 25,
     "metadata": {},
     "output_type": "execute_result"
    }
   ],
   "source": [
    "\n",
    "# anova\n",
    "from sklearn.feature_selection import f_classif\n",
    "__, p_values = f_classif(X_train_df, y_train)\n",
    "features_anova = pd.DataFrame(p_values, columns=['p_values'], index=X_train_df.columns)\n",
    "features_anova = features_anova[features_anova['p_values']<0.05]\n",
    "features_anova['features_an'] = 1\n",
    "features_anova"
   ],
   "metadata": {
    "collapsed": false
   }
  },
  {
   "cell_type": "code",
   "execution_count": 26,
   "outputs": [
    {
     "data": {
      "text/plain": "                             mutual information  features_im\npower__diameter_b2i                    0.141824            1\npower__diameter_b2d                    0.113537            1\npower__diameter_gi                     0.193392            1\npower__max_betweenness_b2i             0.163342            1\npower__max_betweenness_b2d             0.140791            1\npower__mean_eccentricity_gi            0.120567            1\npower__mean_mpli_ai                    0.155469            1\npower__mean_mpli_b1i                   0.214943            1\npower__mean_mpli_b2i                   0.102159            1\npower__mean_mpli_gd                    0.141591            1\npower__tree_hierarchy_b2i              0.150449            1\npower__tree_hierarchy_di               0.130022            1\npower__dscore_4                        0.106780            1\npower__AL                              0.266631            1\nmin_max__max_degree_di                 0.113136            1\nmin_max__exposure_level                0.159104            1\nmin_max__victims_self                  0.241340            1\nmin_max__EX2_score                     0.255334            1\nmin_max__gender                        0.166395            1\nmin_max__IRI_PT                        0.248099            1\nmin_max__IRI_PD                        0.197260            1\nmin_max__IMA                           0.166074            1",
      "text/html": "<div>\n<style scoped>\n    .dataframe tbody tr th:only-of-type {\n        vertical-align: middle;\n    }\n\n    .dataframe tbody tr th {\n        vertical-align: top;\n    }\n\n    .dataframe thead th {\n        text-align: right;\n    }\n</style>\n<table border=\"1\" class=\"dataframe\">\n  <thead>\n    <tr style=\"text-align: right;\">\n      <th></th>\n      <th>mutual information</th>\n      <th>features_im</th>\n    </tr>\n  </thead>\n  <tbody>\n    <tr>\n      <th>power__diameter_b2i</th>\n      <td>0.141824</td>\n      <td>1</td>\n    </tr>\n    <tr>\n      <th>power__diameter_b2d</th>\n      <td>0.113537</td>\n      <td>1</td>\n    </tr>\n    <tr>\n      <th>power__diameter_gi</th>\n      <td>0.193392</td>\n      <td>1</td>\n    </tr>\n    <tr>\n      <th>power__max_betweenness_b2i</th>\n      <td>0.163342</td>\n      <td>1</td>\n    </tr>\n    <tr>\n      <th>power__max_betweenness_b2d</th>\n      <td>0.140791</td>\n      <td>1</td>\n    </tr>\n    <tr>\n      <th>power__mean_eccentricity_gi</th>\n      <td>0.120567</td>\n      <td>1</td>\n    </tr>\n    <tr>\n      <th>power__mean_mpli_ai</th>\n      <td>0.155469</td>\n      <td>1</td>\n    </tr>\n    <tr>\n      <th>power__mean_mpli_b1i</th>\n      <td>0.214943</td>\n      <td>1</td>\n    </tr>\n    <tr>\n      <th>power__mean_mpli_b2i</th>\n      <td>0.102159</td>\n      <td>1</td>\n    </tr>\n    <tr>\n      <th>power__mean_mpli_gd</th>\n      <td>0.141591</td>\n      <td>1</td>\n    </tr>\n    <tr>\n      <th>power__tree_hierarchy_b2i</th>\n      <td>0.150449</td>\n      <td>1</td>\n    </tr>\n    <tr>\n      <th>power__tree_hierarchy_di</th>\n      <td>0.130022</td>\n      <td>1</td>\n    </tr>\n    <tr>\n      <th>power__dscore_4</th>\n      <td>0.106780</td>\n      <td>1</td>\n    </tr>\n    <tr>\n      <th>power__AL</th>\n      <td>0.266631</td>\n      <td>1</td>\n    </tr>\n    <tr>\n      <th>min_max__max_degree_di</th>\n      <td>0.113136</td>\n      <td>1</td>\n    </tr>\n    <tr>\n      <th>min_max__exposure_level</th>\n      <td>0.159104</td>\n      <td>1</td>\n    </tr>\n    <tr>\n      <th>min_max__victims_self</th>\n      <td>0.241340</td>\n      <td>1</td>\n    </tr>\n    <tr>\n      <th>min_max__EX2_score</th>\n      <td>0.255334</td>\n      <td>1</td>\n    </tr>\n    <tr>\n      <th>min_max__gender</th>\n      <td>0.166395</td>\n      <td>1</td>\n    </tr>\n    <tr>\n      <th>min_max__IRI_PT</th>\n      <td>0.248099</td>\n      <td>1</td>\n    </tr>\n    <tr>\n      <th>min_max__IRI_PD</th>\n      <td>0.197260</td>\n      <td>1</td>\n    </tr>\n    <tr>\n      <th>min_max__IMA</th>\n      <td>0.166074</td>\n      <td>1</td>\n    </tr>\n  </tbody>\n</table>\n</div>"
     },
     "execution_count": 26,
     "metadata": {},
     "output_type": "execute_result"
    }
   ],
   "source": [
    "\n",
    "# información mutua\n",
    "from sklearn.feature_selection import mutual_info_classif\n",
    "mi = mutual_info_classif(X_train_df, y_train)\n",
    "features_mi = pd.DataFrame(mi, columns=['mutual information'], index=X_train_df.columns)\n",
    "features_mi = features_mi[features_mi['mutual information']>0.1]\n",
    "features_mi['features_im'] = 1\n",
    "features_mi"
   ],
   "metadata": {
    "collapsed": false
   }
  },
  {
   "cell_type": "code",
   "execution_count": 27,
   "outputs": [
    {
     "name": "stdout",
     "output_type": "stream",
     "text": [
      "['power__mean_mpli_b1c', 'power__mean_mpli_b1i', 'power__mean_mpli_dc', 'power__dscore_4', 'power__AN', 'power__AL', 'power__IH', 'min_max__exposure_level', 'min_max__victims_self', 'min_max__gender', 'min_max__IRI_PT', 'power__diameter_b2i', 'power__mean_eccentricity_b2i', 'power__mean_eccentricity_di', 'power__mean_mpli_gd', 'power__tree_hierarchy_ti', 'power__mean_mpli_ai', 'min_max__EX2_score', 'min_max__IRI_PD']\n"
     ]
    }
   ],
   "source": [
    "\n",
    "# atributos seleccionados\n",
    "features_sel = features_svc.join([features_l2, features_l1, features_rfo, features_anova, features_mi], how='outer')\n",
    "features_sel.drop(['p_values','mutual information'], axis=1, inplace=True)\n",
    "features_sel['total'] = features_sel.sum(axis=1)\n",
    "features_sel = features_sel[features_sel['total']>=3]\n",
    "lista_atributos = list(features_sel.index)\n",
    "print(lista_atributos)"
   ],
   "metadata": {
    "collapsed": false
   }
  },
  {
   "cell_type": "markdown",
   "source": [
    "## Prueba de conjuntos de atributos"
   ],
   "metadata": {
    "collapsed": false
   }
  },
  {
   "cell_type": "code",
   "execution_count": 142,
   "outputs": [],
   "source": [
    "lista_atributos_ss = ['diameter_b2i', 'leaf_fraction_b2i', 'mean_mpli_b1c', 'mean_mpli_b1i', 'dscore_4', 'AN', 'AL', 'IH', 'exposure_level', 'victims_self', 'gender', 'IRI_PT', 'mean_eccentricity_b2i', 'tree_hierarchy_ti', 'EX2_score', 'IRI_PD']\n",
    "\n",
    "lista_atributos_pt = ['mean_mpli_b1c', 'mean_mpli_b1i', 'mean_mpli_dc', 'dscore_4', 'AN', 'AL', 'IH', 'exposure_level', 'victims_self', 'gender', 'IRI_PT', 'diameter_b2i', 'mean_eccentricity_b2i', 'mean_eccentricity_di', 'mean_mpli_gd', 'tree_hierarchy_ti', 'mean_mpli_ai', 'EX2_score', 'IRI_PD']\n",
    "\n",
    "lista_atributos_3b = ['max_degree_b2c', 'max_degree_b2i', 'max_degree_dc', 'max_degree_gc', 'max_degree_gi', 'mean_eccentricity_b2i', 'mean_eccentricity_b2d', 'mean_eccentricity_ti', 'EX2_score', 'school_years', 'dscore_4', 'IRI_PT', 'IRI_EC', 'RPQ AP', 'TD', 'AL', 'victims_self', 'gender', 'mean_eccentricity_ac', 'AN', 'mean_mpli_b1c', 'IRI_PD']\n",
    "\n",
    "lista_atributos_4b = ['mean_eccentricity_b2i', 'mean_eccentricity_b2d', 'mean_eccentricity_ti', 'EX2_score', 'school_years', 'dscore_4', 'IRI_PT', 'IRI_EC', 'TD', 'AL', 'victims_self', 'gender', 'AN']\n",
    "\n",
    "lista_atributos_3a = ['max_degree_b2c', 'max_degree_b2i', 'max_degree_dc', 'max_degree_gc', 'max_degree_gi', 'mean_eccentricity_b2i', 'mean_eccentricity_b2d', 'mean_eccentricity_gc', 'mean_eccentricity_ti', 'EX2_score', 'school_years', 'dscore_4', 'IRI_PT', 'IRI_EC', 'RPQ AP', 'TD', 'AN', 'AL', 'exposure_level', 'victims_self', 'gender', 'mean_eccentricity_ac', 'diameter_b2i', 'mean_mpli_b1c', 'IRI_PD']\n",
    "\n",
    "lista_atributos_4a = ['mean_eccentricity_b2i', 'mean_eccentricity_b2d', 'mean_eccentricity_ti', 'EX2_score', 'school_years', 'dscore_4', 'IRI_PT', 'IRI_EC', 'AN', 'AL', 'exposure_level', 'victims_self', 'gender']"
   ],
   "metadata": {
    "collapsed": false
   }
  },
  {
   "cell_type": "code",
   "execution_count": 34,
   "outputs": [
    {
     "data": {
      "text/plain": "  0%|          | 0/20 [00:00<?, ?it/s]",
      "application/vnd.jupyter.widget-view+json": {
       "version_major": 2,
       "version_minor": 0,
       "model_id": "9f30890d44c14f77af4b9218b5b7771d"
      }
     },
     "metadata": {},
     "output_type": "display_data"
    },
    {
     "name": "stdout",
     "output_type": "stream",
     "text": [
      "best parameters: {'colsample_bytree': 0.3738293909292353, 'eta': 0.12183648974944172, 'max_depth': 5, 'n_estimators': 82, 'subsample': 0.7075383822586274}\n",
      "best accuracy: 0.7923809523809523\n"
     ]
    },
    {
     "data": {
      "text/plain": "  0%|          | 0/20 [00:00<?, ?it/s]",
      "application/vnd.jupyter.widget-view+json": {
       "version_major": 2,
       "version_minor": 0,
       "model_id": "b76a5949082d4fc58eb8fb8a3fa07818"
      }
     },
     "metadata": {},
     "output_type": "display_data"
    },
    {
     "name": "stdout",
     "output_type": "stream",
     "text": [
      "best parameters: {'colsample_bytree': 0.5414439137673309, 'eta': 0.12175578549511856, 'max_depth': 5, 'n_estimators': 48, 'subsample': 0.7334854432051042}\n",
      "best accuracy: 0.819047619047619\n"
     ]
    },
    {
     "data": {
      "text/plain": "  0%|          | 0/20 [00:00<?, ?it/s]",
      "application/vnd.jupyter.widget-view+json": {
       "version_major": 2,
       "version_minor": 0,
       "model_id": "b12de13d2f5241e685f108acf8e8a02c"
      }
     },
     "metadata": {},
     "output_type": "display_data"
    },
    {
     "name": "stdout",
     "output_type": "stream",
     "text": [
      "best parameters: {'colsample_bytree': 0.5768197432805084, 'eta': 0.29328990931426424, 'max_depth': 4, 'n_estimators': 96, 'subsample': 0.5066068270827632}\n",
      "best accuracy: 0.8457142857142858\n"
     ]
    },
    {
     "data": {
      "text/plain": "  0%|          | 0/20 [00:00<?, ?it/s]",
      "application/vnd.jupyter.widget-view+json": {
       "version_major": 2,
       "version_minor": 0,
       "model_id": "43310232b98f499ea239d2a509d82f89"
      }
     },
     "metadata": {},
     "output_type": "display_data"
    },
    {
     "name": "stdout",
     "output_type": "stream",
     "text": [
      "best parameters: {'colsample_bytree': 0.9913324675866748, 'eta': 0.2955294349132507, 'max_depth': 5, 'n_estimators': 88, 'subsample': 0.9028792673128314}\n",
      "best accuracy: 0.7895238095238095\n"
     ]
    },
    {
     "data": {
      "text/plain": "  0%|          | 0/20 [00:00<?, ?it/s]",
      "application/vnd.jupyter.widget-view+json": {
       "version_major": 2,
       "version_minor": 0,
       "model_id": "250f456a192c40af8013736fd3931cce"
      }
     },
     "metadata": {},
     "output_type": "display_data"
    },
    {
     "name": "stdout",
     "output_type": "stream",
     "text": [
      "best parameters: {'colsample_bytree': 0.8361803140246551, 'eta': 0.23097091542603665, 'max_depth': 8, 'n_estimators': 36, 'subsample': 0.6635975725407189}\n",
      "best accuracy: 0.8457142857142858\n"
     ]
    },
    {
     "data": {
      "text/plain": "  0%|          | 0/20 [00:00<?, ?it/s]",
      "application/vnd.jupyter.widget-view+json": {
       "version_major": 2,
       "version_minor": 0,
       "model_id": "4d3844aebe664fdc9d6b84ef6e3c35ea"
      }
     },
     "metadata": {},
     "output_type": "display_data"
    },
    {
     "name": "stdout",
     "output_type": "stream",
     "text": [
      "best parameters: {'colsample_bytree': 0.8600782212733878, 'eta': 0.04742174960433265, 'max_depth': 5, 'n_estimators': 34, 'subsample': 0.6710795775113861}\n",
      "best accuracy: 0.8323809523809522\n"
     ]
    },
    {
     "data": {
      "text/plain": "                                       features list        model  \\\n0  [diameter_b2i, leaf_fraction_b2i, mean_mpli_b1...  xg_boosting   \n1  [mean_mpli_b1c, mean_mpli_b1i, mean_mpli_dc, d...  xg_boosting   \n2  [max_degree_b2c, max_degree_b2i, max_degree_dc...  xg_boosting   \n3  [max_degree_b2c, max_degree_b2i, max_degree_dc...  xg_boosting   \n4  [mean_eccentricity_b2i, mean_eccentricity_b2d,...  xg_boosting   \n5  [mean_eccentricity_b2i, mean_eccentricity_b2d,...  xg_boosting   \n\n                                          parameters     score  \n0  [(colsample_bytree, 0.3738293909292353), (eta,...  0.792381  \n1  [(colsample_bytree, 0.5414439137673309), (eta,...  0.819048  \n2  [(colsample_bytree, 0.5768197432805084), (eta,...  0.845714  \n3  [(colsample_bytree, 0.9913324675866748), (eta,...  0.789524  \n4  [(colsample_bytree, 0.8361803140246551), (eta,...  0.845714  \n5  [(colsample_bytree, 0.8600782212733878), (eta,...  0.832381  ",
      "text/html": "<div>\n<style scoped>\n    .dataframe tbody tr th:only-of-type {\n        vertical-align: middle;\n    }\n\n    .dataframe tbody tr th {\n        vertical-align: top;\n    }\n\n    .dataframe thead th {\n        text-align: right;\n    }\n</style>\n<table border=\"1\" class=\"dataframe\">\n  <thead>\n    <tr style=\"text-align: right;\">\n      <th></th>\n      <th>features list</th>\n      <th>model</th>\n      <th>parameters</th>\n      <th>score</th>\n    </tr>\n  </thead>\n  <tbody>\n    <tr>\n      <th>0</th>\n      <td>[diameter_b2i, leaf_fraction_b2i, mean_mpli_b1...</td>\n      <td>xg_boosting</td>\n      <td>[(colsample_bytree, 0.3738293909292353), (eta,...</td>\n      <td>0.792381</td>\n    </tr>\n    <tr>\n      <th>1</th>\n      <td>[mean_mpli_b1c, mean_mpli_b1i, mean_mpli_dc, d...</td>\n      <td>xg_boosting</td>\n      <td>[(colsample_bytree, 0.5414439137673309), (eta,...</td>\n      <td>0.819048</td>\n    </tr>\n    <tr>\n      <th>2</th>\n      <td>[max_degree_b2c, max_degree_b2i, max_degree_dc...</td>\n      <td>xg_boosting</td>\n      <td>[(colsample_bytree, 0.5768197432805084), (eta,...</td>\n      <td>0.845714</td>\n    </tr>\n    <tr>\n      <th>3</th>\n      <td>[max_degree_b2c, max_degree_b2i, max_degree_dc...</td>\n      <td>xg_boosting</td>\n      <td>[(colsample_bytree, 0.9913324675866748), (eta,...</td>\n      <td>0.789524</td>\n    </tr>\n    <tr>\n      <th>4</th>\n      <td>[mean_eccentricity_b2i, mean_eccentricity_b2d,...</td>\n      <td>xg_boosting</td>\n      <td>[(colsample_bytree, 0.8361803140246551), (eta,...</td>\n      <td>0.845714</td>\n    </tr>\n    <tr>\n      <th>5</th>\n      <td>[mean_eccentricity_b2i, mean_eccentricity_b2d,...</td>\n      <td>xg_boosting</td>\n      <td>[(colsample_bytree, 0.8600782212733878), (eta,...</td>\n      <td>0.832381</td>\n    </tr>\n  </tbody>\n</table>\n</div>"
     },
     "execution_count": 34,
     "metadata": {},
     "output_type": "execute_result"
    }
   ],
   "source": [
    "from sklearn.preprocessing import LabelEncoder\n",
    "y_train_label = LabelEncoder().fit_transform(y_train)\n",
    "y_test_label = LabelEncoder().fit_transform(y_test)\n",
    "listados_atributos = [lista_atributos_ss, lista_atributos_pt, lista_atributos_3a, lista_atributos_3b, lista_atributos_4a, lista_atributos_4b]\n",
    "resultados = pd.DataFrame(columns=['features list','model','parameters','score'])\n",
    "for lista in listados_atributos:\n",
    "    X_train_sel = X_train[lista]\n",
    "    param_space =dict(n_estimators=range(1,100), max_depth=range(3,10), subsample=uniform(0.1,0.9), eta=uniform(0,1), colsample_bytree=uniform(0.1,0.9))\n",
    "    @scheduler.parallel(n_jobs=-1)\n",
    "    def objective(**params):\n",
    "        global X_train_sel, y_train_label\n",
    "        model = XGBClassifier(**params)\n",
    "        error= cross_val_score(estimator = model, X= X_train_sel, y= y_train_label, scoring='accuracy', cv=5).mean()\n",
    "        return error\n",
    "    tuner = Tuner(param_space, objective)\n",
    "    best_results = tuner.maximize()\n",
    "    print('best parameters:', best_results['best_params'])\n",
    "    print('best accuracy:', best_results['best_objective'])\n",
    "    temp = pd.DataFrame([[lista,'xg_boosting',list(best_results['best_params'].items()),best_results['best_objective']]],columns=['features list','model','parameters','score'])\n",
    "    resultados = pd.concat([resultados,temp],ignore_index=True)\n",
    "resultados"
   ],
   "metadata": {
    "collapsed": false
   }
  },
  {
   "cell_type": "code",
   "execution_count": 35,
   "outputs": [],
   "source": [
    "resultados.to_csv('prueba conjuntos de atributos clasificación grupos conectividad.csv', index=False)"
   ],
   "metadata": {
    "collapsed": false
   }
  },
  {
   "cell_type": "code",
   "execution_count": 40,
   "outputs": [
    {
     "name": "stdout",
     "output_type": "stream",
     "text": [
      "0.8457142857142858 0.12168879679455344\n",
      "0.6842105263157895\n"
     ]
    }
   ],
   "source": [
    "X_sel = X[lista_atributos_4a].copy()\n",
    "X_train2, X_test2, y_train2, y_test2 = train_test_split(X_sel, y, test_size=0.2, random_state=77, stratify=data.group)\n",
    "y_train2_label = LabelEncoder().fit_transform(y_train2)\n",
    "y_test2_label = LabelEncoder().fit_transform(y_test2)\n",
    "params = {'colsample_bytree':0.8361803140246551, 'eta':0.23097091542603665, 'max_depth':8, 'n_estimators':36, 'subsample':0.6635975725407189}\n",
    "model = XGBClassifier(**params)\n",
    "scores = cross_val_score(estimator = model, X= X_train2, y= y_train2_label, scoring='accuracy', cv=5)\n",
    "print(scores.mean(), scores.std())\n",
    "model.fit(X_train2, y_train2_label)\n",
    "print(model.score(X_test2, y_test2_label))"
   ],
   "metadata": {
    "collapsed": false
   }
  },
  {
   "cell_type": "code",
   "execution_count": 41,
   "outputs": [
    {
     "name": "stdout",
     "output_type": "stream",
     "text": [
      "0.8457142857142858 0.0716251263884311\n",
      "0.6842105263157895\n"
     ]
    }
   ],
   "source": [
    "X_sel = X[lista_atributos_3a].copy()\n",
    "X_train2, X_test2, y_train2, y_test2 = train_test_split(X_sel, y, test_size=0.2, random_state=77, stratify=data.group)\n",
    "y_train2_label = LabelEncoder().fit_transform(y_train2)\n",
    "y_test2_label = LabelEncoder().fit_transform(y_test2)\n",
    "params = {'colsample_bytree':0.5768197432805084, 'eta':0.29328990931426424, 'max_depth':4, 'n_estimators':96, 'subsample':0.5066068270827632}\n",
    "model = XGBClassifier(**params)\n",
    "scores = cross_val_score(estimator = model, X= X_train2, y= y_train2_label, scoring='accuracy', cv=5)\n",
    "print(scores.mean(), scores.std())\n",
    "model.fit(X_train2, y_train2_label)\n",
    "print(model.score(X_test2, y_test2_label))"
   ],
   "metadata": {
    "collapsed": false
   }
  },
  {
   "cell_type": "code",
   "execution_count": 42,
   "outputs": [
    {
     "name": "stdout",
     "output_type": "stream",
     "text": [
      "0.8323809523809522 0.03826154176495366\n",
      "0.5789473684210527\n"
     ]
    }
   ],
   "source": [
    "X_sel = X[lista_atributos_4b].copy()\n",
    "X_train2, X_test2, y_train2, y_test2 = train_test_split(X_sel, y, test_size=0.2, random_state=77, stratify=data.group)\n",
    "y_train2_label = LabelEncoder().fit_transform(y_train2)\n",
    "y_test2_label = LabelEncoder().fit_transform(y_test2)\n",
    "params = {'colsample_bytree':0.8600782212733878, 'eta':0.04742174960433265, 'max_depth':5, 'n_estimators':34, 'subsample':0.6710795775113861}\n",
    "model = XGBClassifier(**params)\n",
    "scores = cross_val_score(estimator = model, X= X_train2, y= y_train2_label, scoring='accuracy', cv=5)\n",
    "print(scores.mean(), scores.std())\n",
    "model.fit(X_train2, y_train2_label)\n",
    "print(model.score(X_test2, y_test2_label))"
   ],
   "metadata": {
    "collapsed": false
   }
  },
  {
   "cell_type": "markdown",
   "source": [
    "Mejor el modelo 3, porque tiene menos varianza."
   ],
   "metadata": {
    "collapsed": false
   }
  },
  {
   "cell_type": "markdown",
   "source": [
    "## Análisis de relevancia de atributos"
   ],
   "metadata": {
    "collapsed": false
   }
  },
  {
   "cell_type": "code",
   "execution_count": 46,
   "outputs": [
    {
     "data": {
      "text/plain": "                       mean importance\nEX2_score                     0.206593\ngender                        0.134066\nmean_eccentricity_b2i         0.083516\nAL                            0.059341\nmean_eccentricity_ti          0.048352\nIRI_PT                        0.043407\nIRI_EC                        0.037912\nschool_years                  0.022527\ndscore_4                      0.018132\nvictims_self                  0.009890\nAN                            0.006593\nmean_eccentricity_b2d         0.006593\nTD                            0.000000",
      "text/html": "<div>\n<style scoped>\n    .dataframe tbody tr th:only-of-type {\n        vertical-align: middle;\n    }\n\n    .dataframe tbody tr th {\n        vertical-align: top;\n    }\n\n    .dataframe thead th {\n        text-align: right;\n    }\n</style>\n<table border=\"1\" class=\"dataframe\">\n  <thead>\n    <tr style=\"text-align: right;\">\n      <th></th>\n      <th>mean importance</th>\n    </tr>\n  </thead>\n  <tbody>\n    <tr>\n      <th>EX2_score</th>\n      <td>0.206593</td>\n    </tr>\n    <tr>\n      <th>gender</th>\n      <td>0.134066</td>\n    </tr>\n    <tr>\n      <th>mean_eccentricity_b2i</th>\n      <td>0.083516</td>\n    </tr>\n    <tr>\n      <th>AL</th>\n      <td>0.059341</td>\n    </tr>\n    <tr>\n      <th>mean_eccentricity_ti</th>\n      <td>0.048352</td>\n    </tr>\n    <tr>\n      <th>IRI_PT</th>\n      <td>0.043407</td>\n    </tr>\n    <tr>\n      <th>IRI_EC</th>\n      <td>0.037912</td>\n    </tr>\n    <tr>\n      <th>school_years</th>\n      <td>0.022527</td>\n    </tr>\n    <tr>\n      <th>dscore_4</th>\n      <td>0.018132</td>\n    </tr>\n    <tr>\n      <th>victims_self</th>\n      <td>0.009890</td>\n    </tr>\n    <tr>\n      <th>AN</th>\n      <td>0.006593</td>\n    </tr>\n    <tr>\n      <th>mean_eccentricity_b2d</th>\n      <td>0.006593</td>\n    </tr>\n    <tr>\n      <th>TD</th>\n      <td>0.000000</td>\n    </tr>\n  </tbody>\n</table>\n</div>"
     },
     "execution_count": 46,
     "metadata": {},
     "output_type": "execute_result"
    }
   ],
   "source": [
    "from sklearn.inspection import permutation_importance\n",
    "X_sel = X[lista_atributos_4b].copy()\n",
    "#X_train2, X_test2, y_train2, y_test2 = train_test_split(X_sel, y, test_size=0.2, random_state=77, stratify=data.group)\n",
    "#y_train2_label = LabelEncoder().fit_transform(y_train2)\n",
    "#y_test2_label = LabelEncoder().fit_transform(y_test2)\n",
    "y_label = LabelEncoder().fit_transform(y)\n",
    "params = {'colsample_bytree':0.8600782212733878, 'eta':0.04742174960433265, 'max_depth':5, 'n_estimators':34, 'subsample':0.6710795775113861}\n",
    "model = XGBClassifier(**params).fit(X_sel, y_label)\n",
    "r = permutation_importance(model, X_sel, y_label,n_repeats=10,random_state=0, scoring='accuracy')\n",
    "importancia_atributos = pd.DataFrame(data=[r.importances_mean], columns=X_sel.columns, index=['mean importance']).transpose()\n",
    "importancia_atributos.sort_values(by='mean importance', ascending=False)"
   ],
   "metadata": {
    "collapsed": false
   }
  },
  {
   "cell_type": "code",
   "execution_count": 45,
   "outputs": [],
   "source": [
    "importancia_atributos.to_csv('importancia atributos clasificación grupos conectividad.csv', index_label='feature')"
   ],
   "metadata": {
    "collapsed": false
   }
  },
  {
   "cell_type": "markdown",
   "source": [
    "## Análisis errores"
   ],
   "metadata": {
    "collapsed": false
   }
  },
  {
   "cell_type": "code",
   "execution_count": 219,
   "outputs": [
    {
     "data": {
      "text/plain": "                     group          predicted\nsubject                                      \n21116        ex-guerrillas  ex-paramilitaries\n21140        ex-guerrillas  ex-paramilitaries\n24027              victims  ex-paramilitaries\n22108             controls  ex-paramilitaries\n21127    ex-paramilitaries      ex-guerrillas\n24057              victims  ex-paramilitaries\n21125        ex-guerrillas  ex-paramilitaries\n23012        ex-guerrillas  ex-paramilitaries\n21100        ex-guerrillas            victims\n24014              victims      ex-guerrillas\n21102    ex-paramilitaries           controls\n21109    ex-paramilitaries      ex-guerrillas\n21118        ex-guerrillas  ex-paramilitaries\n22106             controls            victims\n24015              victims      ex-guerrillas\n23007        ex-guerrillas  ex-paramilitaries\n21137        ex-guerrillas           controls\n21101    ex-paramilitaries      ex-guerrillas",
      "text/html": "<div>\n<style scoped>\n    .dataframe tbody tr th:only-of-type {\n        vertical-align: middle;\n    }\n\n    .dataframe tbody tr th {\n        vertical-align: top;\n    }\n\n    .dataframe thead th {\n        text-align: right;\n    }\n</style>\n<table border=\"1\" class=\"dataframe\">\n  <thead>\n    <tr style=\"text-align: right;\">\n      <th></th>\n      <th>group</th>\n      <th>predicted</th>\n    </tr>\n    <tr>\n      <th>subject</th>\n      <th></th>\n      <th></th>\n    </tr>\n  </thead>\n  <tbody>\n    <tr>\n      <th>21116</th>\n      <td>ex-guerrillas</td>\n      <td>ex-paramilitaries</td>\n    </tr>\n    <tr>\n      <th>21140</th>\n      <td>ex-guerrillas</td>\n      <td>ex-paramilitaries</td>\n    </tr>\n    <tr>\n      <th>24027</th>\n      <td>victims</td>\n      <td>ex-paramilitaries</td>\n    </tr>\n    <tr>\n      <th>22108</th>\n      <td>controls</td>\n      <td>ex-paramilitaries</td>\n    </tr>\n    <tr>\n      <th>21127</th>\n      <td>ex-paramilitaries</td>\n      <td>ex-guerrillas</td>\n    </tr>\n    <tr>\n      <th>24057</th>\n      <td>victims</td>\n      <td>ex-paramilitaries</td>\n    </tr>\n    <tr>\n      <th>21125</th>\n      <td>ex-guerrillas</td>\n      <td>ex-paramilitaries</td>\n    </tr>\n    <tr>\n      <th>23012</th>\n      <td>ex-guerrillas</td>\n      <td>ex-paramilitaries</td>\n    </tr>\n    <tr>\n      <th>21100</th>\n      <td>ex-guerrillas</td>\n      <td>victims</td>\n    </tr>\n    <tr>\n      <th>24014</th>\n      <td>victims</td>\n      <td>ex-guerrillas</td>\n    </tr>\n    <tr>\n      <th>21102</th>\n      <td>ex-paramilitaries</td>\n      <td>controls</td>\n    </tr>\n    <tr>\n      <th>21109</th>\n      <td>ex-paramilitaries</td>\n      <td>ex-guerrillas</td>\n    </tr>\n    <tr>\n      <th>21118</th>\n      <td>ex-guerrillas</td>\n      <td>ex-paramilitaries</td>\n    </tr>\n    <tr>\n      <th>22106</th>\n      <td>controls</td>\n      <td>victims</td>\n    </tr>\n    <tr>\n      <th>24015</th>\n      <td>victims</td>\n      <td>ex-guerrillas</td>\n    </tr>\n    <tr>\n      <th>23007</th>\n      <td>ex-guerrillas</td>\n      <td>ex-paramilitaries</td>\n    </tr>\n    <tr>\n      <th>21137</th>\n      <td>ex-guerrillas</td>\n      <td>controls</td>\n    </tr>\n    <tr>\n      <th>21101</th>\n      <td>ex-paramilitaries</td>\n      <td>ex-guerrillas</td>\n    </tr>\n  </tbody>\n</table>\n</div>"
     },
     "execution_count": 219,
     "metadata": {},
     "output_type": "execute_result"
    }
   ],
   "source": [
    "from sklearn.model_selection import StratifiedKFold\n",
    "X_sel = X[lista_atributos_4b].copy()\n",
    "X_train2, X_test2, y_train2, y_test2 = train_test_split(X_sel, y, test_size=0.2, random_state=77, stratify=data.group)\n",
    "le = LabelEncoder()\n",
    "le.fit(y_train2)\n",
    "y_train2_label = le.fit_transform(y_train2)\n",
    "y_test2_label = le.fit_transform(y_test2)\n",
    "y_real = pd.DataFrame(data=y_train2_label, index=y_train2.index, columns=['group'])\n",
    "y_real.reset_index(inplace=True)\n",
    "\n",
    "params = {'colsample_bytree':0.8600782212733878, 'eta':0.04742174960433265, 'max_depth':5, 'n_estimators':34, 'subsample':0.6710795775113861}\n",
    "model = XGBClassifier(**params).fit(X_train2, y_train2_label)\n",
    "skf = StratifiedKFold(n_splits=5)\n",
    "X_val = X_train2.values\n",
    "df_errados = pd.DataFrame(columns=['predicted'])\n",
    "\n",
    "# errores dataset de entrenamiento\n",
    "for i, (train_index, test_index) in enumerate(skf.split(X_val, y_train2_label)):\n",
    "    model.fit(X_val[train_index], y_train2_label[train_index])\n",
    "    y_est = model.predict(X_val[test_index])\n",
    "    errado = test_index[y_train2_label[test_index] != y_est]\n",
    "    #y_r = le.inverse_transform(y_train2_label[test_index])\n",
    "    y_pred = le.inverse_transform(y_est)\n",
    "    #y_r_df = pd.DataFrame(data=(y_r), index=test_index, columns=['real'])\n",
    "    y_p_df = pd.DataFrame(data=(y_pred), index=test_index, columns=['predicted'])\n",
    "    #y_r_p = pd.merge(y_r_df, y_p_df, left_index=True, right_index=True)\n",
    "    errado_idx = pd.Index(errado)\n",
    "    y_errados = y_p_df.loc[errado_idx].copy()\n",
    "    df_errados = pd.concat([df_errados, y_errados], ignore_index=False)\n",
    "y_t = y_train2.reset_index().copy()\n",
    "df_errados = pd.merge(y_t, df_errados, how='inner', left_index=True, right_index=True)\n",
    "df_errados.set_index('subject', inplace=True)\n",
    "\n",
    "# errores dataset de prueba\n",
    "y_test_pred = model.predict(X_test2)\n",
    "y_test_pred = le.inverse_transform(y_test_pred)\n",
    "y_test_pred_df = pd.DataFrame(data=y_test_pred, index=y_test2.index, columns=['predicted'])\n",
    "test_errados_df = pd.merge(y_test2, y_test_pred_df, left_index=True, right_index=True)\n",
    "test_errados_df = test_errados_df[test_errados_df['group'] != test_errados_df['predicted']]\n",
    "\n",
    "df_errados = pd.concat([df_errados, test_errados_df], ignore_index=False)\n",
    "df_errados"
   ],
   "metadata": {
    "collapsed": false
   }
  },
  {
   "cell_type": "code",
   "execution_count": 227,
   "outputs": [],
   "source": [
    "datos_errados = pd.merge(df_errados, data, how='inner', left_index=True, right_index=True)\n",
    "datos_errados.rename(columns={'group_x':'group'}, inplace=True)\n",
    "variables = lista_atributos_4b\n",
    "variables.append('group')\n",
    "variables.append('predicted')\n",
    "datos_errados = datos_errados[variables]\n",
    "datos_errados\n",
    "datos_errados.to_csv('sujetos errados clasificación conectividad grupos.csv', index_label='subject')"
   ],
   "metadata": {
    "collapsed": false
   }
  },
  {
   "cell_type": "markdown",
   "source": [
    "# Prueba excluyendo variables demográficas"
   ],
   "metadata": {
    "collapsed": false
   }
  },
  {
   "cell_type": "code",
   "execution_count": 5,
   "outputs": [
    {
     "data": {
      "text/plain": "         diameter_ac  diameter_ai  diameter_ad  diameter_b1c  diameter_b1i  \\\nsubject                                                                      \n21100       0.269841     0.222222     0.047619      0.333333      0.269841   \n21101       0.222222     0.269841    -0.047619      0.269841      0.365079   \n21102       0.301587     0.301587     0.000000      0.285714      0.285714   \n21103       0.333333     0.396825    -0.063492      0.269841      0.285714   \n21104       0.238095     0.238095     0.000000      0.317460      0.396825   \n\n         diameter_b1d  diameter_b2c  diameter_b2i  diameter_b2d  diameter_dc  \\\nsubject                                                                        \n21100        0.063492      0.285714      0.222222      0.063492     0.365079   \n21101       -0.095238      0.333333      0.365079     -0.031746     0.317460   \n21102        0.000000      0.253968      0.301587     -0.047619     0.380952   \n21103       -0.015873      0.349206      0.285714      0.063492     0.333333   \n21104       -0.079365      0.269841      0.380952     -0.111111     0.285714   \n\n         ...  IRI_FS  IRI_EC  IRI_PD  IMA  RPQ AR  RPQ AP   TD    AN    AL  \\\nsubject  ...                                                                 \n21100    ...       9      11      11   27      20      16  1.5  5.75  9.00   \n21101    ...      22      13       6   70      33      26  0.0  1.25  9.50   \n21102    ...      16      15      10   42      13      12  0.0  0.00  4.50   \n21103    ...      19      16      12   32      16      15  0.0  0.00  6.25   \n21104    ...      15      18       8   30      16      17  2.0  1.50  7.50   \n\n          IH  \nsubject       \n21100    0.5  \n21101    0.5  \n21102    0.0  \n21103    0.0  \n21104    0.0  \n\n[5 rows x 146 columns]",
      "text/html": "<div>\n<style scoped>\n    .dataframe tbody tr th:only-of-type {\n        vertical-align: middle;\n    }\n\n    .dataframe tbody tr th {\n        vertical-align: top;\n    }\n\n    .dataframe thead th {\n        text-align: right;\n    }\n</style>\n<table border=\"1\" class=\"dataframe\">\n  <thead>\n    <tr style=\"text-align: right;\">\n      <th></th>\n      <th>diameter_ac</th>\n      <th>diameter_ai</th>\n      <th>diameter_ad</th>\n      <th>diameter_b1c</th>\n      <th>diameter_b1i</th>\n      <th>diameter_b1d</th>\n      <th>diameter_b2c</th>\n      <th>diameter_b2i</th>\n      <th>diameter_b2d</th>\n      <th>diameter_dc</th>\n      <th>...</th>\n      <th>IRI_FS</th>\n      <th>IRI_EC</th>\n      <th>IRI_PD</th>\n      <th>IMA</th>\n      <th>RPQ AR</th>\n      <th>RPQ AP</th>\n      <th>TD</th>\n      <th>AN</th>\n      <th>AL</th>\n      <th>IH</th>\n    </tr>\n    <tr>\n      <th>subject</th>\n      <th></th>\n      <th></th>\n      <th></th>\n      <th></th>\n      <th></th>\n      <th></th>\n      <th></th>\n      <th></th>\n      <th></th>\n      <th></th>\n      <th></th>\n      <th></th>\n      <th></th>\n      <th></th>\n      <th></th>\n      <th></th>\n      <th></th>\n      <th></th>\n      <th></th>\n      <th></th>\n      <th></th>\n    </tr>\n  </thead>\n  <tbody>\n    <tr>\n      <th>21100</th>\n      <td>0.269841</td>\n      <td>0.222222</td>\n      <td>0.047619</td>\n      <td>0.333333</td>\n      <td>0.269841</td>\n      <td>0.063492</td>\n      <td>0.285714</td>\n      <td>0.222222</td>\n      <td>0.063492</td>\n      <td>0.365079</td>\n      <td>...</td>\n      <td>9</td>\n      <td>11</td>\n      <td>11</td>\n      <td>27</td>\n      <td>20</td>\n      <td>16</td>\n      <td>1.5</td>\n      <td>5.75</td>\n      <td>9.00</td>\n      <td>0.5</td>\n    </tr>\n    <tr>\n      <th>21101</th>\n      <td>0.222222</td>\n      <td>0.269841</td>\n      <td>-0.047619</td>\n      <td>0.269841</td>\n      <td>0.365079</td>\n      <td>-0.095238</td>\n      <td>0.333333</td>\n      <td>0.365079</td>\n      <td>-0.031746</td>\n      <td>0.317460</td>\n      <td>...</td>\n      <td>22</td>\n      <td>13</td>\n      <td>6</td>\n      <td>70</td>\n      <td>33</td>\n      <td>26</td>\n      <td>0.0</td>\n      <td>1.25</td>\n      <td>9.50</td>\n      <td>0.5</td>\n    </tr>\n    <tr>\n      <th>21102</th>\n      <td>0.301587</td>\n      <td>0.301587</td>\n      <td>0.000000</td>\n      <td>0.285714</td>\n      <td>0.285714</td>\n      <td>0.000000</td>\n      <td>0.253968</td>\n      <td>0.301587</td>\n      <td>-0.047619</td>\n      <td>0.380952</td>\n      <td>...</td>\n      <td>16</td>\n      <td>15</td>\n      <td>10</td>\n      <td>42</td>\n      <td>13</td>\n      <td>12</td>\n      <td>0.0</td>\n      <td>0.00</td>\n      <td>4.50</td>\n      <td>0.0</td>\n    </tr>\n    <tr>\n      <th>21103</th>\n      <td>0.333333</td>\n      <td>0.396825</td>\n      <td>-0.063492</td>\n      <td>0.269841</td>\n      <td>0.285714</td>\n      <td>-0.015873</td>\n      <td>0.349206</td>\n      <td>0.285714</td>\n      <td>0.063492</td>\n      <td>0.333333</td>\n      <td>...</td>\n      <td>19</td>\n      <td>16</td>\n      <td>12</td>\n      <td>32</td>\n      <td>16</td>\n      <td>15</td>\n      <td>0.0</td>\n      <td>0.00</td>\n      <td>6.25</td>\n      <td>0.0</td>\n    </tr>\n    <tr>\n      <th>21104</th>\n      <td>0.238095</td>\n      <td>0.238095</td>\n      <td>0.000000</td>\n      <td>0.317460</td>\n      <td>0.396825</td>\n      <td>-0.079365</td>\n      <td>0.269841</td>\n      <td>0.380952</td>\n      <td>-0.111111</td>\n      <td>0.285714</td>\n      <td>...</td>\n      <td>15</td>\n      <td>18</td>\n      <td>8</td>\n      <td>30</td>\n      <td>16</td>\n      <td>17</td>\n      <td>2.0</td>\n      <td>1.50</td>\n      <td>7.50</td>\n      <td>0.0</td>\n    </tr>\n  </tbody>\n</table>\n<p>5 rows × 146 columns</p>\n</div>"
     },
     "execution_count": 5,
     "metadata": {},
     "output_type": "execute_result"
    }
   ],
   "source": [
    "data.head()"
   ],
   "metadata": {
    "collapsed": false
   }
  },
  {
   "cell_type": "code",
   "execution_count": 5,
   "outputs": [
    {
     "name": "stdout",
     "output_type": "stream",
     "text": [
      "<class 'pandas.core.frame.DataFrame'>\n",
      "Int64Index: 91 entries, 21100 to 24101\n",
      "Columns: 142 entries, diameter_ac to IH\n",
      "dtypes: float64(113), int64(26), object(3)\n",
      "memory usage: 101.7+ KB\n"
     ]
    }
   ],
   "source": [
    "data2 = data.drop(columns=['gender','laterality', 'school_years', 'age'], axis=1).copy()\n",
    "data2.info()"
   ],
   "metadata": {
    "collapsed": false
   }
  },
  {
   "cell_type": "code",
   "execution_count": 6,
   "outputs": [
    {
     "name": "stdout",
     "output_type": "stream",
     "text": [
      "<class 'pandas.core.frame.DataFrame'>\n",
      "Int64Index: 91 entries, 21100 to 24101\n",
      "Columns: 141 entries, diameter_ac to IH\n",
      "dtypes: float64(113), int64(28)\n",
      "memory usage: 101.0 KB\n"
     ]
    }
   ],
   "source": [
    "# La variable de salida son los grupos de actores\n",
    "X= data2.drop(['group'], axis=1).copy()\n",
    "y = data2['group'].copy()\n",
    "# codificación variables binarias\n",
    "X['victims_self'] = pd.factorize(X['victims_self'])[0]\n",
    "X['exposure_level'] = pd.factorize(X['exposure_level'])[0]\n",
    "X.info()"
   ],
   "metadata": {
    "collapsed": false
   }
  },
  {
   "cell_type": "code",
   "execution_count": 7,
   "outputs": [
    {
     "name": "stdout",
     "output_type": "stream",
     "text": [
      "['max_degree_b1d', 'max_degree_b2c', 'max_degree_b2i', 'max_degree_dc', 'max_degree_gc', 'max_degree_gi', 'mean_eccentricity_b2i', 'mean_eccentricity_b2d', 'exposure_level', 'EX2_score', 'dscore_4', 'IRI_PT', 'IRI_EC', 'RPQ AP', 'TD', 'AN', 'AL', 'IH', 'mean_eccentricity_ti', 'IRI_PD', 'diameter_b2i', 'mean_mpli_b1c']\n"
     ]
    }
   ],
   "source": [
    "# Por selección por modelos\n",
    "# SVC\n",
    "from sklearn.svm import LinearSVC\n",
    "from sklearn.feature_selection import SelectFromModel\n",
    "lsvc = LinearSVC(random_state=72).fit(X, y)\n",
    "model = SelectFromModel(lsvc, threshold='2*mean', prefit=True)\n",
    "X_new = model.transform(X)\n",
    "features_lsvc = model.get_feature_names_out(input_features=X.columns)\n",
    "features_svc = pd.DataFrame(data=np.ones_like(features_lsvc), columns=['features_lsvc'], index=features_lsvc)\n",
    "\n",
    "# regresión logística l2\n",
    "from sklearn.linear_model import LogisticRegression\n",
    "from sklearn.feature_selection import SelectFromModel\n",
    "lr = LogisticRegression(penalty=\"l2\", solver='saga', max_iter=10000, random_state=72).fit(X,y)\n",
    "model = SelectFromModel(lr, threshold='2*mean', prefit=True)\n",
    "X_new = model.transform(X)\n",
    "features_lrl2 = model.get_feature_names_out(input_features=X.columns)\n",
    "features_l2 = pd.DataFrame(data=np.ones_like(features_lrl2), columns=['features_lrl2'], index=features_lrl2)\n",
    "\n",
    "# regresión logística l1\n",
    "from sklearn.linear_model import LogisticRegression\n",
    "from sklearn.feature_selection import SelectFromModel\n",
    "lr = LogisticRegression(penalty=\"l1\", solver='saga', max_iter=10000, random_state=72).fit(X,y)\n",
    "model = SelectFromModel(lr, threshold='2*mean', prefit=True)\n",
    "X_new = model.transform(X)\n",
    "features_lrl1 = model.get_feature_names_out(input_features=X.columns)\n",
    "features_l1 = pd.DataFrame(data=np.ones_like(features_lrl1), columns=['features_lrl1'], index=features_lrl1)\n",
    "\n",
    "# random forest\n",
    "from sklearn.ensemble import RandomForestClassifier\n",
    "from sklearn.feature_selection import SelectFromModel\n",
    "rf = RandomForestClassifier(random_state=72).fit(X,y)\n",
    "model = SelectFromModel(rf, threshold='1.5*mean', prefit=True)\n",
    "X_new = model.transform(X)\n",
    "features_rf = model.get_feature_names_out(input_features=X.columns)\n",
    "features_rfo = pd.DataFrame(data=np.ones_like(features_rf), columns=['features_rf'], index=features_rf)\n",
    "\n",
    "# anova\n",
    "from sklearn.feature_selection import f_classif\n",
    "__, p_values = f_classif(X,y)\n",
    "features_anova = pd.DataFrame(p_values, columns=['p_values'], index=X.columns)\n",
    "features_anova = features_anova[features_anova['p_values']<0.05]\n",
    "features_anova['features_an'] = 1\n",
    "\n",
    "# información mutua\n",
    "from sklearn.feature_selection import mutual_info_classif\n",
    "mi = mutual_info_classif(X, y)\n",
    "features_mi = pd.DataFrame(mi, columns=['mutual information'], index=X.columns)\n",
    "features_mi = features_mi[features_mi['mutual information']>0.1]\n",
    "features_mi['features_im'] = 1\n",
    "\n",
    "# atributos seleccionados\n",
    "features_sel = features_svc.join([features_l2, features_l1, features_rfo, features_anova, features_mi], how='outer')\n",
    "features_sel.drop(['p_values','mutual information'], axis=1, inplace=True)\n",
    "features_sel['total'] = features_sel.sum(axis=1)\n",
    "features_sel = features_sel[features_sel['total']>=3]\n",
    "lista_atributos = list(features_sel.index)\n",
    "print(lista_atributos)"
   ],
   "metadata": {
    "collapsed": false
   }
  },
  {
   "cell_type": "code",
   "execution_count": 27,
   "outputs": [
    {
     "data": {
      "text/plain": "(72, 22)"
     },
     "execution_count": 27,
     "metadata": {},
     "output_type": "execute_result"
    }
   ],
   "source": [
    "X_sel = X[lista_atributos].copy()\n",
    "X_train, X_test, y_train, y_test = train_test_split(X_sel, y, test_size=0.2, random_state=77, stratify=data2.group)\n",
    "X_train.shape"
   ],
   "metadata": {
    "collapsed": false
   }
  },
  {
   "cell_type": "code",
   "execution_count": 28,
   "outputs": [
    {
     "data": {
      "text/plain": "(72, 21)"
     },
     "execution_count": 28,
     "metadata": {},
     "output_type": "execute_result"
    }
   ],
   "source": [
    "X_sel = X_sel.drop(['IH'], axis=1)\n",
    "X_train, X_test, y_train, y_test = train_test_split(X_sel, y, test_size=0.2, random_state=77, stratify=data2.group)\n",
    "X_train.shape"
   ],
   "metadata": {
    "collapsed": false
   }
  },
  {
   "cell_type": "code",
   "execution_count": 47,
   "outputs": [
    {
     "data": {
      "text/plain": "  0%|          | 0/20 [00:00<?, ?it/s]",
      "application/vnd.jupyter.widget-view+json": {
       "version_major": 2,
       "version_minor": 0,
       "model_id": "39aca170bcee44b48713e0f55c9cc326"
      }
     },
     "metadata": {},
     "output_type": "display_data"
    },
    {
     "name": "stdout",
     "output_type": "stream",
     "text": [
      "best parameters: {'colsample_bytree': 0.7226936106097185, 'eta': 0.5599271556658973, 'max_depth': 9, 'n_estimators': 92, 'subsample': 0.33632145829846005}\n",
      "best accuracy: 0.720952380952381\n",
      "0.720952380952381 0.0501788185612171\n",
      "0.7894736842105263\n"
     ]
    }
   ],
   "source": [
    "## XG Boosting\n",
    "from sklearn.preprocessing import LabelEncoder\n",
    "y_train_label = LabelEncoder().fit_transform(y_train)\n",
    "y_test_label = LabelEncoder().fit_transform(y_test)\n",
    "param_space =dict(n_estimators=range(1,100), max_depth=range(3,10), subsample=uniform(0.1,0.9), eta=uniform(0,1), colsample_bytree=uniform(0.1,0.9))\n",
    "@scheduler.parallel(n_jobs=-1)\n",
    "def objective(**params):\n",
    "    global X_train, y_train\n",
    "    model = XGBClassifier(**params)\n",
    "    error= cross_val_score(estimator = model, X= X_train, y= y_train_label, scoring='accuracy', cv=5).mean()\n",
    "    return error\n",
    "tuner = Tuner(param_space, objective)\n",
    "best_results = tuner.maximize()\n",
    "print('best parameters:', best_results['best_params'])\n",
    "print('best accuracy:', best_results['best_objective'])\n",
    "\n",
    "params = best_results['best_params']\n",
    "model = XGBClassifier(**params)\n",
    "scores = cross_val_score(estimator = model, X= X_train, y= y_train_label, scoring='accuracy', cv=5)\n",
    "print(scores.mean(), scores.std())\n",
    "model.fit(X_train, y_train_label)\n",
    "print(model.score(X_test, y_test_label))"
   ],
   "metadata": {
    "collapsed": false
   }
  },
  {
   "cell_type": "code",
   "execution_count": 48,
   "outputs": [
    {
     "data": {
      "text/plain": "  0%|          | 0/20 [00:00<?, ?it/s]",
      "application/vnd.jupyter.widget-view+json": {
       "version_major": 2,
       "version_minor": 0,
       "model_id": "1181377f90c74e25b5e65385c076968c"
      }
     },
     "metadata": {},
     "output_type": "display_data"
    },
    {
     "name": "stdout",
     "output_type": "stream",
     "text": [
      "best parameters: {'colsample_bytree': 0.9199374589563524, 'eta': 0.4063259758824468, 'max_depth': 6, 'n_estimators': 9, 'subsample': 0.4906945794641526}\n",
      "best accuracy: 0.7333333333333334\n",
      "0.7333333333333334 0.10896336940924632\n",
      "0.5789473684210527\n"
     ]
    }
   ],
   "source": [
    "# con escalizador\n",
    "param_space =dict(n_estimators=range(1,100), max_depth=range(3,10), subsample=uniform(0.1,0.9), eta=uniform(0,1), colsample_bytree=uniform(0.1,0.9))\n",
    "@scheduler.parallel(n_jobs=-1)\n",
    "def objective(**params):\n",
    "    global X_train, y_train_label\n",
    "    numeric_cols = X_train.select_dtypes(include=['float64','int64']).columns.to_list()\n",
    "    preprocessor = ColumnTransformer([('scale', StandardScaler(), numeric_cols)], remainder='passthrough')\n",
    "    pipe = Pipeline([('preprocessing', preprocessor),('model', XGBClassifier(**params))])\n",
    "    error = cross_val_score(estimator = pipe, X= X_train, y= y_train_label, scoring='accuracy', cv=5).mean()\n",
    "    return error\n",
    "tuner = Tuner(param_space, objective)\n",
    "best_results = tuner.maximize()\n",
    "print('best parameters:', best_results['best_params'])\n",
    "print('best accuracy:', best_results['best_objective'])\n",
    "\n",
    "params = best_results['best_params']\n",
    "numeric_cols = X_train.select_dtypes(include=['float64','int64']).columns.to_list()\n",
    "preprocessor = ColumnTransformer([('scale', StandardScaler(), numeric_cols)], remainder='passthrough')\n",
    "pipe = Pipeline([('preprocessing', preprocessor),('model', XGBClassifier(**params))])\n",
    "scores = cross_val_score(estimator = pipe, X= X_train, y= y_train_label, scoring='accuracy', cv=5)\n",
    "print(scores.mean(), scores.std())\n",
    "pipe.fit(X_train, y_train_label)\n",
    "print(pipe.score(X_test, y_test_label))"
   ],
   "metadata": {
    "collapsed": false
   }
  },
  {
   "cell_type": "code",
   "execution_count": 45,
   "outputs": [
    {
     "data": {
      "text/plain": "  0%|          | 0/20 [00:00<?, ?it/s]",
      "application/vnd.jupyter.widget-view+json": {
       "version_major": 2,
       "version_minor": 0,
       "model_id": "95f249ff36a54d6082a0210a0f08f34c"
      }
     },
     "metadata": {},
     "output_type": "display_data"
    },
    {
     "name": "stdout",
     "output_type": "stream",
     "text": [
      "best parameters: {'colsample_bytree': 0.7788533093099961, 'eta': 0.22342482980835654, 'max_depth': 5, 'n_estimators': 97, 'subsample': 0.38460649017525816}\n",
      "best accuracy: 0.7342857142857142\n",
      "0.7342857142857142 0.08589399151150083\n",
      "0.6842105263157895\n"
     ]
    }
   ],
   "source": [
    "# con standard_scaler y min_max_scaler\n",
    "param_space =dict(n_estimators=range(1,100), max_depth=range(3,10), subsample=uniform(0.1,0.9), eta=uniform(0,1), colsample_bytree=uniform(0.1,0.9))\n",
    "@scheduler.parallel(n_jobs=-1)\n",
    "def objective(**params):\n",
    "    global X_train, y_train_label\n",
    "    continuas_cols = X_train.select_dtypes(include=['float64']).columns.to_list()\n",
    "    discretas_cols = X_train.select_dtypes(include=['int64']).columns.to_list()\n",
    "    preprocessor = ColumnTransformer([('scaler', StandardScaler(), continuas_cols), ('min_max', MinMaxScaler(), discretas_cols)], remainder='passthrough')\n",
    "    pipe = Pipeline([('preprocessing', preprocessor),('model', XGBClassifier(**params))])\n",
    "    error = cross_val_score(estimator = pipe, X= X_train, y= y_train_label, scoring='accuracy', cv=5).mean()\n",
    "    return error\n",
    "tuner = Tuner(param_space, objective)\n",
    "best_results = tuner.maximize()\n",
    "print('best parameters:', best_results['best_params'])\n",
    "print('best accuracy:', best_results['best_objective'])\n",
    "\n",
    "params = best_results['best_params']\n",
    "continuas_cols = X_train.select_dtypes(include=['float64']).columns.to_list()\n",
    "discretas_cols = X_train.select_dtypes(include=['int64']).columns.to_list()\n",
    "preprocessor = ColumnTransformer([('scaler', StandardScaler(), continuas_cols), ('min_max', MinMaxScaler(), discretas_cols)], remainder='passthrough')\n",
    "pipe = Pipeline([('preprocessing', preprocessor),('model', XGBClassifier(**params))])\n",
    "scores = cross_val_score(estimator = pipe, X= X_train, y= y_train_label, scoring='accuracy', cv=5)\n",
    "print(scores.mean(), scores.std())\n",
    "pipe.fit(X_train, y_train_label)\n",
    "print(pipe.score(X_test, y_test_label))"
   ],
   "metadata": {
    "collapsed": false
   }
  },
  {
   "cell_type": "code",
   "execution_count": 46,
   "outputs": [
    {
     "data": {
      "text/plain": "  0%|          | 0/20 [00:00<?, ?it/s]",
      "application/vnd.jupyter.widget-view+json": {
       "version_major": 2,
       "version_minor": 0,
       "model_id": "bb0b134c872d471897a8e07fc110524e"
      }
     },
     "metadata": {},
     "output_type": "display_data"
    },
    {
     "name": "stdout",
     "output_type": "stream",
     "text": [
      "best parameters: {'colsample_bytree': 0.6616948900690665, 'eta': 0.18002468544097283, 'max_depth': 7, 'n_estimators': 85, 'subsample': 0.2506667480527316}\n",
      "best accuracy: 0.7352380952380952\n",
      "0.7352380952380952 0.08500233423498922\n",
      "0.7368421052631579\n"
     ]
    }
   ],
   "source": [
    "# con power transformer y min_max_scaler\n",
    "param_space =dict(n_estimators=range(1,100), max_depth=range(3,10), subsample=uniform(0.1,0.9), eta=uniform(0,1), colsample_bytree=uniform(0.1,0.9))\n",
    "@scheduler.parallel(n_jobs=-1)\n",
    "def objective(**params):\n",
    "    global X_train, y_train_label\n",
    "    continuas_cols = X_train.select_dtypes(include=['float64']).columns.to_list()\n",
    "    discretas_cols = X_train.select_dtypes(include=['int64']).columns.to_list()\n",
    "    preprocessor = ColumnTransformer([('pt', PowerTransformer(), continuas_cols), ('min_max', MinMaxScaler(), discretas_cols)], remainder='passthrough')\n",
    "    pipe = Pipeline([('preprocessing', preprocessor),('model', XGBClassifier(**params))])\n",
    "    error = cross_val_score(estimator = pipe, X= X_train, y= y_train_label, scoring='accuracy', cv=5).mean()\n",
    "    return error\n",
    "tuner = Tuner(param_space, objective)\n",
    "best_results = tuner.maximize()\n",
    "print('best parameters:', best_results['best_params'])\n",
    "print('best accuracy:', best_results['best_objective'])\n",
    "\n",
    "params = best_results['best_params']\n",
    "continuas_cols = X_train.select_dtypes(include=['float64']).columns.to_list()\n",
    "discretas_cols = X_train.select_dtypes(include=['int64']).columns.to_list()\n",
    "preprocessor = ColumnTransformer([('pt', PowerTransformer(), continuas_cols), ('min_max', MinMaxScaler(), discretas_cols)], remainder='passthrough')\n",
    "pipe = Pipeline([('preprocessing', preprocessor),('model', XGBClassifier(**params))])\n",
    "scores = cross_val_score(estimator = pipe, X= X_train, y= y_train_label, scoring='accuracy', cv=5)\n",
    "print(scores.mean(), scores.std())\n",
    "pipe.fit(X_train, y_train_label)\n",
    "print(pipe.score(X_test, y_test_label))"
   ],
   "metadata": {
    "collapsed": false
   }
  },
  {
   "cell_type": "code",
   "execution_count": 22,
   "outputs": [
    {
     "data": {
      "text/plain": "  0%|          | 0/20 [00:00<?, ?it/s]",
      "application/vnd.jupyter.widget-view+json": {
       "version_major": 2,
       "version_minor": 0,
       "model_id": "9ed9838057444de9adf507af776d3175"
      }
     },
     "metadata": {},
     "output_type": "display_data"
    },
    {
     "name": "stdout",
     "output_type": "stream",
     "text": [
      "best parameters: {'colsample_bytree': 0.6913483799779206, 'eta': 0.20571609941422297, 'max_depth': 6, 'n_estimators': 62, 'subsample': 0.5342591862748203}\n",
      "best accuracy: 0.7361904761904762\n"
     ]
    }
   ],
   "source": [
    "\n",
    "# Mejor modelo\n",
    "#params = {'colsample_bytree': 0.8266922339106892, 'eta': 0.9171517501210134, 'max_depth': 9, 'n_estimators': 79, 'subsample': 0.9823611838345138}\n",
    "params = {'colsample_bytree': 0.9945235209206074, 'eta': 0.4071307326352137, 'max_depth': 4, 'n_estimators': 92, 'subsample': 0.16893896699926955}\n",
    "continuas_cols = X_train.select_dtypes(include=['float64']).columns.to_list()\n",
    "discretas_cols = X_train.select_dtypes(include=['int64']).columns.to_list()\n",
    "preprocessor = ColumnTransformer([('scaler', StandardScaler(), continuas_cols), ('min_max', MinMaxScaler(), discretas_cols)], remainder='passthrough')\n",
    "pipe = Pipeline([('preprocessing', preprocessor),('model', XGBClassifier(**params))])\n",
    "scores = cross_val_score(estimator = pipe, X= X_train, y= y_train_label, scoring='accuracy', cv=5)\n",
    "print(scores.mean(), scores.std())\n",
    "pipe.fit(X_train, y_train_label)\n",
    "print(pipe.score(X_test, y_test_label))"
   ],
   "metadata": {
    "collapsed": false
   }
  },
  {
   "cell_type": "code",
   "execution_count": 25,
   "outputs": [
    {
     "data": {
      "text/plain": "                       mean importance\nEX2_score                 1.439560e-01\nIRI_PT                    1.131868e-01\nAL                        1.010989e-01\nmean_eccentricity_b2i     9.340659e-02\nmean_mpli_b1c             8.021978e-02\nmean_eccentricity_ti      7.692308e-02\nIRI_EC                    4.725275e-02\nIRI_PD                    2.307692e-02\ndscore_4                  1.758242e-02\nmax_degree_b2c            1.428571e-02\nTD                        1.208791e-02\nmean_eccentricity_b2d     7.692308e-03\nmax_degree_gi             5.494505e-03\nRPQ AP                    4.395604e-03\nmax_degree_dc             1.098901e-03\nmax_degree_gc             0.000000e+00\nmax_degree_b1d           -1.110223e-17\nexposure_level           -2.197802e-03\nAN                       -2.197802e-03\nmax_degree_b2i           -6.593407e-03",
      "text/html": "<div>\n<style scoped>\n    .dataframe tbody tr th:only-of-type {\n        vertical-align: middle;\n    }\n\n    .dataframe tbody tr th {\n        vertical-align: top;\n    }\n\n    .dataframe thead th {\n        text-align: right;\n    }\n</style>\n<table border=\"1\" class=\"dataframe\">\n  <thead>\n    <tr style=\"text-align: right;\">\n      <th></th>\n      <th>mean importance</th>\n    </tr>\n  </thead>\n  <tbody>\n    <tr>\n      <th>EX2_score</th>\n      <td>1.439560e-01</td>\n    </tr>\n    <tr>\n      <th>IRI_PT</th>\n      <td>1.131868e-01</td>\n    </tr>\n    <tr>\n      <th>AL</th>\n      <td>1.010989e-01</td>\n    </tr>\n    <tr>\n      <th>mean_eccentricity_b2i</th>\n      <td>9.340659e-02</td>\n    </tr>\n    <tr>\n      <th>mean_mpli_b1c</th>\n      <td>8.021978e-02</td>\n    </tr>\n    <tr>\n      <th>mean_eccentricity_ti</th>\n      <td>7.692308e-02</td>\n    </tr>\n    <tr>\n      <th>IRI_EC</th>\n      <td>4.725275e-02</td>\n    </tr>\n    <tr>\n      <th>IRI_PD</th>\n      <td>2.307692e-02</td>\n    </tr>\n    <tr>\n      <th>dscore_4</th>\n      <td>1.758242e-02</td>\n    </tr>\n    <tr>\n      <th>max_degree_b2c</th>\n      <td>1.428571e-02</td>\n    </tr>\n    <tr>\n      <th>TD</th>\n      <td>1.208791e-02</td>\n    </tr>\n    <tr>\n      <th>mean_eccentricity_b2d</th>\n      <td>7.692308e-03</td>\n    </tr>\n    <tr>\n      <th>max_degree_gi</th>\n      <td>5.494505e-03</td>\n    </tr>\n    <tr>\n      <th>RPQ AP</th>\n      <td>4.395604e-03</td>\n    </tr>\n    <tr>\n      <th>max_degree_dc</th>\n      <td>1.098901e-03</td>\n    </tr>\n    <tr>\n      <th>max_degree_gc</th>\n      <td>0.000000e+00</td>\n    </tr>\n    <tr>\n      <th>max_degree_b1d</th>\n      <td>-1.110223e-17</td>\n    </tr>\n    <tr>\n      <th>exposure_level</th>\n      <td>-2.197802e-03</td>\n    </tr>\n    <tr>\n      <th>AN</th>\n      <td>-2.197802e-03</td>\n    </tr>\n    <tr>\n      <th>max_degree_b2i</th>\n      <td>-6.593407e-03</td>\n    </tr>\n  </tbody>\n</table>\n</div>"
     },
     "execution_count": 25,
     "metadata": {},
     "output_type": "execute_result"
    }
   ],
   "source": [
    "# Análisis de relevancia\n",
    "from sklearn.inspection import permutation_importance\n",
    "y_label = LabelEncoder().fit_transform(y)\n",
    "model = pipe.fit(X_sel, y_label)\n",
    "r = permutation_importance(model, X_sel, y_label,n_repeats=10,random_state=0, scoring='accuracy')\n",
    "importancia_atributos = pd.DataFrame(data=[r.importances_mean], columns=X_sel.columns, index=['mean importance']).transpose()\n",
    "importancia_atributos.sort_values(by='mean importance', ascending=False)"
   ],
   "metadata": {
    "collapsed": false
   }
  },
  {
   "cell_type": "code",
   "execution_count": 26,
   "outputs": [],
   "source": [
    "importancia_atributos.to_csv('importancia atributos clasificación grupos conectividad sin demográficas 2.csv', index_label='feature')"
   ],
   "metadata": {
    "collapsed": false
   }
  },
  {
   "cell_type": "code",
   "execution_count": 39,
   "outputs": [
    {
     "data": {
      "text/plain": "                     group          predicted\nsubject                                      \n21103    ex-paramilitaries            victims\n22112             controls            victims\n21115        ex-guerrillas           controls\n22108             controls  ex-paramilitaries\n21127    ex-paramilitaries      ex-guerrillas\n24057              victims  ex-paramilitaries\n24043              victims      ex-guerrillas\n23004    ex-paramilitaries      ex-guerrillas\n21125        ex-guerrillas  ex-paramilitaries\n23012        ex-guerrillas  ex-paramilitaries\n21114        ex-guerrillas            victims\n22100             controls      ex-guerrillas\n24017              victims      ex-guerrillas\n21111        ex-guerrillas  ex-paramilitaries\n21109    ex-paramilitaries      ex-guerrillas",
      "text/html": "<div>\n<style scoped>\n    .dataframe tbody tr th:only-of-type {\n        vertical-align: middle;\n    }\n\n    .dataframe tbody tr th {\n        vertical-align: top;\n    }\n\n    .dataframe thead th {\n        text-align: right;\n    }\n</style>\n<table border=\"1\" class=\"dataframe\">\n  <thead>\n    <tr style=\"text-align: right;\">\n      <th></th>\n      <th>group</th>\n      <th>predicted</th>\n    </tr>\n    <tr>\n      <th>subject</th>\n      <th></th>\n      <th></th>\n    </tr>\n  </thead>\n  <tbody>\n    <tr>\n      <th>21103</th>\n      <td>ex-paramilitaries</td>\n      <td>victims</td>\n    </tr>\n    <tr>\n      <th>22112</th>\n      <td>controls</td>\n      <td>victims</td>\n    </tr>\n    <tr>\n      <th>21115</th>\n      <td>ex-guerrillas</td>\n      <td>controls</td>\n    </tr>\n    <tr>\n      <th>22108</th>\n      <td>controls</td>\n      <td>ex-paramilitaries</td>\n    </tr>\n    <tr>\n      <th>21127</th>\n      <td>ex-paramilitaries</td>\n      <td>ex-guerrillas</td>\n    </tr>\n    <tr>\n      <th>24057</th>\n      <td>victims</td>\n      <td>ex-paramilitaries</td>\n    </tr>\n    <tr>\n      <th>24043</th>\n      <td>victims</td>\n      <td>ex-guerrillas</td>\n    </tr>\n    <tr>\n      <th>23004</th>\n      <td>ex-paramilitaries</td>\n      <td>ex-guerrillas</td>\n    </tr>\n    <tr>\n      <th>21125</th>\n      <td>ex-guerrillas</td>\n      <td>ex-paramilitaries</td>\n    </tr>\n    <tr>\n      <th>23012</th>\n      <td>ex-guerrillas</td>\n      <td>ex-paramilitaries</td>\n    </tr>\n    <tr>\n      <th>21114</th>\n      <td>ex-guerrillas</td>\n      <td>victims</td>\n    </tr>\n    <tr>\n      <th>22100</th>\n      <td>controls</td>\n      <td>ex-guerrillas</td>\n    </tr>\n    <tr>\n      <th>24017</th>\n      <td>victims</td>\n      <td>ex-guerrillas</td>\n    </tr>\n    <tr>\n      <th>21111</th>\n      <td>ex-guerrillas</td>\n      <td>ex-paramilitaries</td>\n    </tr>\n    <tr>\n      <th>21109</th>\n      <td>ex-paramilitaries</td>\n      <td>ex-guerrillas</td>\n    </tr>\n  </tbody>\n</table>\n</div>"
     },
     "execution_count": 39,
     "metadata": {},
     "output_type": "execute_result"
    }
   ],
   "source": [
    "# Extracción sujetos mal clasificados\n",
    "from sklearn.model_selection import StratifiedKFold\n",
    "skf = StratifiedKFold(n_splits=5)\n",
    "\n",
    "le = LabelEncoder()\n",
    "le.fit(y_train)\n",
    "y_train_label = le.fit_transform(y_train)\n",
    "y_test_label = le.fit_transform(y_test)\n",
    "model = pipe.fit(X_train, y_train_label)\n",
    "\n",
    "df_errados = pd.DataFrame(columns=['predicted'])\n",
    "# errores dataset de entrenamiento\n",
    "for i, (train_index, test_index) in enumerate(skf.split(X_train, y_train_label)):\n",
    "    model.fit(X_train.iloc[train_index], y_train_label[train_index])\n",
    "    y_est = model.predict(X_train.iloc[test_index])\n",
    "    errado = test_index[y_train_label[test_index] != y_est]\n",
    "    y_pred = le.inverse_transform(y_est)\n",
    "    y_p_df = pd.DataFrame(data=(y_pred), index=test_index, columns=['predicted'])\n",
    "    errado_idx = pd.Index(errado)\n",
    "    y_errados = y_p_df.loc[errado_idx].copy()\n",
    "    df_errados = pd.concat([df_errados, y_errados], ignore_index=False)\n",
    "y_t = y_train.reset_index().copy()\n",
    "df_errados = pd.merge(y_t, df_errados, how='inner', left_index=True, right_index=True)\n",
    "df_errados.set_index('subject', inplace=True)\n",
    "\n",
    "# errores dataset de prueba\n",
    "y_test_pred = model.predict(X_test)\n",
    "y_test_pred = le.inverse_transform(y_test_pred)\n",
    "y_test_pred_df = pd.DataFrame(data=y_test_pred, index=y_test.index, columns=['predicted'])\n",
    "test_errados_df = pd.merge(y_test, y_test_pred_df, left_index=True, right_index=True)\n",
    "test_errados_df = test_errados_df[test_errados_df['group'] != test_errados_df['predicted']]\n",
    "\n",
    "df_errados = pd.concat([df_errados, test_errados_df], ignore_index=False)\n",
    "df_errados"
   ],
   "metadata": {
    "collapsed": false
   }
  },
  {
   "cell_type": "code",
   "execution_count": 43,
   "outputs": [
    {
     "data": {
      "text/plain": "         max_degree_b1d  max_degree_b2c  max_degree_b2i  max_degree_dc  \\\nsubject                                                                  \n21103                 1               4               5              5   \n22112                 0               5               7              7   \n21115                -1               5               6              7   \n22108                 1               5               6              7   \n21127                 0               5               6              5   \n24057                 1               8               5              7   \n24043                -1               5               8              4   \n23004                 0               4               9              5   \n21125                -1               4               5              5   \n23012                 1               5               6              7   \n21114                 1               4               6              5   \n22100                 1               6               6              6   \n24017                 1               5               6              5   \n21111                -1               5               5              5   \n21109                 1               6               4              7   \n21118                 1               5               5              5   \n22106                 1               5               5              6   \n23007                 0               6               5              6   \n24065                 1               5               6              4   \n21131                 1               5               6              5   \n21129                 1               5               5              5   \n21101                 0               5               5              5   \n21105                -2               6               6              6   \n22110                 0               5               5              5   \n\n         max_degree_gc  max_degree_gi  mean_eccentricity_b2i  \\\nsubject                                                        \n21103                6              5              14.078125   \n22112                4              7              15.875000   \n21115                5              6              11.937500   \n22108                5              6              17.812500   \n21127                6              5              12.734375   \n24057                8              5              15.531250   \n24043                5              6              11.718750   \n23004                5              6              12.609375   \n21125                5              5              15.375000   \n23012                6              6              13.140625   \n21114                5              5              14.812500   \n22100                5              6              11.875000   \n24017                5              4              17.156250   \n21111                5              5              16.296875   \n21109                5              4              15.046875   \n21118                5              7              19.281250   \n22106                5              5              17.140625   \n23007                5              5              13.296875   \n24065                5              7              10.859375   \n21131                7              5              13.406250   \n21129                5              5              15.531250   \n21101                5              5              17.062500   \n21105                6              4              14.843750   \n22110                5              5              12.296875   \n\n         mean_eccentricity_b2d exposure_level  EX2_score  ...  IRI_EC  RPQ AP  \\\nsubject                                                   ...                   \n21103                 2.625000           high          8  ...      16      15   \n22112                -0.890625            low          0  ...      15      13   \n21115                 0.906250           high          3  ...      13      13   \n22108                -3.718750           high          5  ...      19      14   \n21127                -0.375000           high          3  ...       9      12   \n24057                -3.625000            low          5  ...      16      13   \n24043                 2.312500           high          7  ...      15      12   \n23004                 3.359375           high         11  ...       8      12   \n21125                 2.187500           high         12  ...      16      12   \n23012                -0.125000           high         11  ...      14      12   \n21114                 0.437500            low          2  ...      16      13   \n22100                 2.390625            low          0  ...       8      12   \n24017                 1.640625            low          2  ...      18      13   \n21111                 0.984375           high          4  ...      13      15   \n21109                 1.562500           high          4  ...      13      13   \n21118                -5.515625           high          5  ...      17      15   \n22106                -2.156250           high          4  ...      17      14   \n23007                -0.468750           high          9  ...      14      12   \n24065                 2.890625           high          8  ...      18      12   \n21131                -2.609375           high          8  ...       8      12   \n21129                -3.687500           high          5  ...      15      12   \n21101                -0.812500           high          8  ...      13      26   \n21105                -0.812500           high          7  ...      17      20   \n22110                 1.546875            low          1  ...      13      12   \n\n           TD    AN    AL  mean_eccentricity_ti  IRI_PD  mean_mpli_b1c  \\\nsubject                                                                  \n21103    0.00  0.00  6.25             13.343750      12       0.016898   \n22112    0.00  0.00  9.00             13.140625      12       0.030263   \n21115    0.00  0.50  5.25             19.703125      14       0.020584   \n22108    0.00  1.50  9.50             15.000000       9       0.011113   \n21127    4.50  2.25  0.50             15.140625       8       0.005713   \n24057    0.00  0.00  0.00             12.375000      13       0.009817   \n24043    0.00  2.25  5.25             13.703125      15       0.028276   \n23004    0.00  0.00  0.00             13.734375       6       0.004649   \n21125    2.50  0.00  6.50             15.390625       7       0.002886   \n23012    0.00  0.00  0.00             10.265625       4       0.009909   \n21114    0.00  2.25  8.25             20.359375      10       0.009441   \n22100    1.50  2.75  3.50             18.406250       7       0.039653   \n24017    4.25  3.50  8.25             12.281250      11      -0.001382   \n21111    4.50  2.25  3.00             13.562500      10       0.016154   \n21109    2.00  3.00  8.00             10.703125       7       0.026186   \n21118    1.00  0.00  9.50             16.328125      17       0.009398   \n22106    0.00  3.25  7.50             14.734375      15       0.005365   \n23007    0.00  0.00  0.00             15.078125       5       0.010288   \n24065    4.25  5.25  7.50             15.156250       8       0.010023   \n21131    0.00  2.00  4.25             13.015625      15       0.010857   \n21129    0.00  0.00  9.75             16.265625      19       0.043560   \n21101    0.00  1.25  9.50             18.015625       6       0.019552   \n21105    1.75  4.00  7.25             14.437500      18       0.007524   \n22110    0.00  2.00  8.00             15.953125       8       0.015858   \n\n                     group          predicted  \nsubject                                        \n21103    ex-paramilitaries            victims  \n22112             controls            victims  \n21115        ex-guerrillas           controls  \n22108             controls  ex-paramilitaries  \n21127    ex-paramilitaries      ex-guerrillas  \n24057              victims  ex-paramilitaries  \n24043              victims      ex-guerrillas  \n23004    ex-paramilitaries      ex-guerrillas  \n21125        ex-guerrillas  ex-paramilitaries  \n23012        ex-guerrillas  ex-paramilitaries  \n21114        ex-guerrillas            victims  \n22100             controls      ex-guerrillas  \n24017              victims      ex-guerrillas  \n21111        ex-guerrillas  ex-paramilitaries  \n21109    ex-paramilitaries      ex-guerrillas  \n21118        ex-guerrillas  ex-paramilitaries  \n22106             controls            victims  \n23007        ex-guerrillas  ex-paramilitaries  \n24065              victims      ex-guerrillas  \n21131        ex-guerrillas            victims  \n21129    ex-paramilitaries            victims  \n21101    ex-paramilitaries      ex-guerrillas  \n21105    ex-paramilitaries            victims  \n22110             controls      ex-guerrillas  \n\n[24 rows x 22 columns]",
      "text/html": "<div>\n<style scoped>\n    .dataframe tbody tr th:only-of-type {\n        vertical-align: middle;\n    }\n\n    .dataframe tbody tr th {\n        vertical-align: top;\n    }\n\n    .dataframe thead th {\n        text-align: right;\n    }\n</style>\n<table border=\"1\" class=\"dataframe\">\n  <thead>\n    <tr style=\"text-align: right;\">\n      <th></th>\n      <th>max_degree_b1d</th>\n      <th>max_degree_b2c</th>\n      <th>max_degree_b2i</th>\n      <th>max_degree_dc</th>\n      <th>max_degree_gc</th>\n      <th>max_degree_gi</th>\n      <th>mean_eccentricity_b2i</th>\n      <th>mean_eccentricity_b2d</th>\n      <th>exposure_level</th>\n      <th>EX2_score</th>\n      <th>...</th>\n      <th>IRI_EC</th>\n      <th>RPQ AP</th>\n      <th>TD</th>\n      <th>AN</th>\n      <th>AL</th>\n      <th>mean_eccentricity_ti</th>\n      <th>IRI_PD</th>\n      <th>mean_mpli_b1c</th>\n      <th>group</th>\n      <th>predicted</th>\n    </tr>\n    <tr>\n      <th>subject</th>\n      <th></th>\n      <th></th>\n      <th></th>\n      <th></th>\n      <th></th>\n      <th></th>\n      <th></th>\n      <th></th>\n      <th></th>\n      <th></th>\n      <th></th>\n      <th></th>\n      <th></th>\n      <th></th>\n      <th></th>\n      <th></th>\n      <th></th>\n      <th></th>\n      <th></th>\n      <th></th>\n      <th></th>\n    </tr>\n  </thead>\n  <tbody>\n    <tr>\n      <th>21103</th>\n      <td>1</td>\n      <td>4</td>\n      <td>5</td>\n      <td>5</td>\n      <td>6</td>\n      <td>5</td>\n      <td>14.078125</td>\n      <td>2.625000</td>\n      <td>high</td>\n      <td>8</td>\n      <td>...</td>\n      <td>16</td>\n      <td>15</td>\n      <td>0.00</td>\n      <td>0.00</td>\n      <td>6.25</td>\n      <td>13.343750</td>\n      <td>12</td>\n      <td>0.016898</td>\n      <td>ex-paramilitaries</td>\n      <td>victims</td>\n    </tr>\n    <tr>\n      <th>22112</th>\n      <td>0</td>\n      <td>5</td>\n      <td>7</td>\n      <td>7</td>\n      <td>4</td>\n      <td>7</td>\n      <td>15.875000</td>\n      <td>-0.890625</td>\n      <td>low</td>\n      <td>0</td>\n      <td>...</td>\n      <td>15</td>\n      <td>13</td>\n      <td>0.00</td>\n      <td>0.00</td>\n      <td>9.00</td>\n      <td>13.140625</td>\n      <td>12</td>\n      <td>0.030263</td>\n      <td>controls</td>\n      <td>victims</td>\n    </tr>\n    <tr>\n      <th>21115</th>\n      <td>-1</td>\n      <td>5</td>\n      <td>6</td>\n      <td>7</td>\n      <td>5</td>\n      <td>6</td>\n      <td>11.937500</td>\n      <td>0.906250</td>\n      <td>high</td>\n      <td>3</td>\n      <td>...</td>\n      <td>13</td>\n      <td>13</td>\n      <td>0.00</td>\n      <td>0.50</td>\n      <td>5.25</td>\n      <td>19.703125</td>\n      <td>14</td>\n      <td>0.020584</td>\n      <td>ex-guerrillas</td>\n      <td>controls</td>\n    </tr>\n    <tr>\n      <th>22108</th>\n      <td>1</td>\n      <td>5</td>\n      <td>6</td>\n      <td>7</td>\n      <td>5</td>\n      <td>6</td>\n      <td>17.812500</td>\n      <td>-3.718750</td>\n      <td>high</td>\n      <td>5</td>\n      <td>...</td>\n      <td>19</td>\n      <td>14</td>\n      <td>0.00</td>\n      <td>1.50</td>\n      <td>9.50</td>\n      <td>15.000000</td>\n      <td>9</td>\n      <td>0.011113</td>\n      <td>controls</td>\n      <td>ex-paramilitaries</td>\n    </tr>\n    <tr>\n      <th>21127</th>\n      <td>0</td>\n      <td>5</td>\n      <td>6</td>\n      <td>5</td>\n      <td>6</td>\n      <td>5</td>\n      <td>12.734375</td>\n      <td>-0.375000</td>\n      <td>high</td>\n      <td>3</td>\n      <td>...</td>\n      <td>9</td>\n      <td>12</td>\n      <td>4.50</td>\n      <td>2.25</td>\n      <td>0.50</td>\n      <td>15.140625</td>\n      <td>8</td>\n      <td>0.005713</td>\n      <td>ex-paramilitaries</td>\n      <td>ex-guerrillas</td>\n    </tr>\n    <tr>\n      <th>24057</th>\n      <td>1</td>\n      <td>8</td>\n      <td>5</td>\n      <td>7</td>\n      <td>8</td>\n      <td>5</td>\n      <td>15.531250</td>\n      <td>-3.625000</td>\n      <td>low</td>\n      <td>5</td>\n      <td>...</td>\n      <td>16</td>\n      <td>13</td>\n      <td>0.00</td>\n      <td>0.00</td>\n      <td>0.00</td>\n      <td>12.375000</td>\n      <td>13</td>\n      <td>0.009817</td>\n      <td>victims</td>\n      <td>ex-paramilitaries</td>\n    </tr>\n    <tr>\n      <th>24043</th>\n      <td>-1</td>\n      <td>5</td>\n      <td>8</td>\n      <td>4</td>\n      <td>5</td>\n      <td>6</td>\n      <td>11.718750</td>\n      <td>2.312500</td>\n      <td>high</td>\n      <td>7</td>\n      <td>...</td>\n      <td>15</td>\n      <td>12</td>\n      <td>0.00</td>\n      <td>2.25</td>\n      <td>5.25</td>\n      <td>13.703125</td>\n      <td>15</td>\n      <td>0.028276</td>\n      <td>victims</td>\n      <td>ex-guerrillas</td>\n    </tr>\n    <tr>\n      <th>23004</th>\n      <td>0</td>\n      <td>4</td>\n      <td>9</td>\n      <td>5</td>\n      <td>5</td>\n      <td>6</td>\n      <td>12.609375</td>\n      <td>3.359375</td>\n      <td>high</td>\n      <td>11</td>\n      <td>...</td>\n      <td>8</td>\n      <td>12</td>\n      <td>0.00</td>\n      <td>0.00</td>\n      <td>0.00</td>\n      <td>13.734375</td>\n      <td>6</td>\n      <td>0.004649</td>\n      <td>ex-paramilitaries</td>\n      <td>ex-guerrillas</td>\n    </tr>\n    <tr>\n      <th>21125</th>\n      <td>-1</td>\n      <td>4</td>\n      <td>5</td>\n      <td>5</td>\n      <td>5</td>\n      <td>5</td>\n      <td>15.375000</td>\n      <td>2.187500</td>\n      <td>high</td>\n      <td>12</td>\n      <td>...</td>\n      <td>16</td>\n      <td>12</td>\n      <td>2.50</td>\n      <td>0.00</td>\n      <td>6.50</td>\n      <td>15.390625</td>\n      <td>7</td>\n      <td>0.002886</td>\n      <td>ex-guerrillas</td>\n      <td>ex-paramilitaries</td>\n    </tr>\n    <tr>\n      <th>23012</th>\n      <td>1</td>\n      <td>5</td>\n      <td>6</td>\n      <td>7</td>\n      <td>6</td>\n      <td>6</td>\n      <td>13.140625</td>\n      <td>-0.125000</td>\n      <td>high</td>\n      <td>11</td>\n      <td>...</td>\n      <td>14</td>\n      <td>12</td>\n      <td>0.00</td>\n      <td>0.00</td>\n      <td>0.00</td>\n      <td>10.265625</td>\n      <td>4</td>\n      <td>0.009909</td>\n      <td>ex-guerrillas</td>\n      <td>ex-paramilitaries</td>\n    </tr>\n    <tr>\n      <th>21114</th>\n      <td>1</td>\n      <td>4</td>\n      <td>6</td>\n      <td>5</td>\n      <td>5</td>\n      <td>5</td>\n      <td>14.812500</td>\n      <td>0.437500</td>\n      <td>low</td>\n      <td>2</td>\n      <td>...</td>\n      <td>16</td>\n      <td>13</td>\n      <td>0.00</td>\n      <td>2.25</td>\n      <td>8.25</td>\n      <td>20.359375</td>\n      <td>10</td>\n      <td>0.009441</td>\n      <td>ex-guerrillas</td>\n      <td>victims</td>\n    </tr>\n    <tr>\n      <th>22100</th>\n      <td>1</td>\n      <td>6</td>\n      <td>6</td>\n      <td>6</td>\n      <td>5</td>\n      <td>6</td>\n      <td>11.875000</td>\n      <td>2.390625</td>\n      <td>low</td>\n      <td>0</td>\n      <td>...</td>\n      <td>8</td>\n      <td>12</td>\n      <td>1.50</td>\n      <td>2.75</td>\n      <td>3.50</td>\n      <td>18.406250</td>\n      <td>7</td>\n      <td>0.039653</td>\n      <td>controls</td>\n      <td>ex-guerrillas</td>\n    </tr>\n    <tr>\n      <th>24017</th>\n      <td>1</td>\n      <td>5</td>\n      <td>6</td>\n      <td>5</td>\n      <td>5</td>\n      <td>4</td>\n      <td>17.156250</td>\n      <td>1.640625</td>\n      <td>low</td>\n      <td>2</td>\n      <td>...</td>\n      <td>18</td>\n      <td>13</td>\n      <td>4.25</td>\n      <td>3.50</td>\n      <td>8.25</td>\n      <td>12.281250</td>\n      <td>11</td>\n      <td>-0.001382</td>\n      <td>victims</td>\n      <td>ex-guerrillas</td>\n    </tr>\n    <tr>\n      <th>21111</th>\n      <td>-1</td>\n      <td>5</td>\n      <td>5</td>\n      <td>5</td>\n      <td>5</td>\n      <td>5</td>\n      <td>16.296875</td>\n      <td>0.984375</td>\n      <td>high</td>\n      <td>4</td>\n      <td>...</td>\n      <td>13</td>\n      <td>15</td>\n      <td>4.50</td>\n      <td>2.25</td>\n      <td>3.00</td>\n      <td>13.562500</td>\n      <td>10</td>\n      <td>0.016154</td>\n      <td>ex-guerrillas</td>\n      <td>ex-paramilitaries</td>\n    </tr>\n    <tr>\n      <th>21109</th>\n      <td>1</td>\n      <td>6</td>\n      <td>4</td>\n      <td>7</td>\n      <td>5</td>\n      <td>4</td>\n      <td>15.046875</td>\n      <td>1.562500</td>\n      <td>high</td>\n      <td>4</td>\n      <td>...</td>\n      <td>13</td>\n      <td>13</td>\n      <td>2.00</td>\n      <td>3.00</td>\n      <td>8.00</td>\n      <td>10.703125</td>\n      <td>7</td>\n      <td>0.026186</td>\n      <td>ex-paramilitaries</td>\n      <td>ex-guerrillas</td>\n    </tr>\n    <tr>\n      <th>21118</th>\n      <td>1</td>\n      <td>5</td>\n      <td>5</td>\n      <td>5</td>\n      <td>5</td>\n      <td>7</td>\n      <td>19.281250</td>\n      <td>-5.515625</td>\n      <td>high</td>\n      <td>5</td>\n      <td>...</td>\n      <td>17</td>\n      <td>15</td>\n      <td>1.00</td>\n      <td>0.00</td>\n      <td>9.50</td>\n      <td>16.328125</td>\n      <td>17</td>\n      <td>0.009398</td>\n      <td>ex-guerrillas</td>\n      <td>ex-paramilitaries</td>\n    </tr>\n    <tr>\n      <th>22106</th>\n      <td>1</td>\n      <td>5</td>\n      <td>5</td>\n      <td>6</td>\n      <td>5</td>\n      <td>5</td>\n      <td>17.140625</td>\n      <td>-2.156250</td>\n      <td>high</td>\n      <td>4</td>\n      <td>...</td>\n      <td>17</td>\n      <td>14</td>\n      <td>0.00</td>\n      <td>3.25</td>\n      <td>7.50</td>\n      <td>14.734375</td>\n      <td>15</td>\n      <td>0.005365</td>\n      <td>controls</td>\n      <td>victims</td>\n    </tr>\n    <tr>\n      <th>23007</th>\n      <td>0</td>\n      <td>6</td>\n      <td>5</td>\n      <td>6</td>\n      <td>5</td>\n      <td>5</td>\n      <td>13.296875</td>\n      <td>-0.468750</td>\n      <td>high</td>\n      <td>9</td>\n      <td>...</td>\n      <td>14</td>\n      <td>12</td>\n      <td>0.00</td>\n      <td>0.00</td>\n      <td>0.00</td>\n      <td>15.078125</td>\n      <td>5</td>\n      <td>0.010288</td>\n      <td>ex-guerrillas</td>\n      <td>ex-paramilitaries</td>\n    </tr>\n    <tr>\n      <th>24065</th>\n      <td>1</td>\n      <td>5</td>\n      <td>6</td>\n      <td>4</td>\n      <td>5</td>\n      <td>7</td>\n      <td>10.859375</td>\n      <td>2.890625</td>\n      <td>high</td>\n      <td>8</td>\n      <td>...</td>\n      <td>18</td>\n      <td>12</td>\n      <td>4.25</td>\n      <td>5.25</td>\n      <td>7.50</td>\n      <td>15.156250</td>\n      <td>8</td>\n      <td>0.010023</td>\n      <td>victims</td>\n      <td>ex-guerrillas</td>\n    </tr>\n    <tr>\n      <th>21131</th>\n      <td>1</td>\n      <td>5</td>\n      <td>6</td>\n      <td>5</td>\n      <td>7</td>\n      <td>5</td>\n      <td>13.406250</td>\n      <td>-2.609375</td>\n      <td>high</td>\n      <td>8</td>\n      <td>...</td>\n      <td>8</td>\n      <td>12</td>\n      <td>0.00</td>\n      <td>2.00</td>\n      <td>4.25</td>\n      <td>13.015625</td>\n      <td>15</td>\n      <td>0.010857</td>\n      <td>ex-guerrillas</td>\n      <td>victims</td>\n    </tr>\n    <tr>\n      <th>21129</th>\n      <td>1</td>\n      <td>5</td>\n      <td>5</td>\n      <td>5</td>\n      <td>5</td>\n      <td>5</td>\n      <td>15.531250</td>\n      <td>-3.687500</td>\n      <td>high</td>\n      <td>5</td>\n      <td>...</td>\n      <td>15</td>\n      <td>12</td>\n      <td>0.00</td>\n      <td>0.00</td>\n      <td>9.75</td>\n      <td>16.265625</td>\n      <td>19</td>\n      <td>0.043560</td>\n      <td>ex-paramilitaries</td>\n      <td>victims</td>\n    </tr>\n    <tr>\n      <th>21101</th>\n      <td>0</td>\n      <td>5</td>\n      <td>5</td>\n      <td>5</td>\n      <td>5</td>\n      <td>5</td>\n      <td>17.062500</td>\n      <td>-0.812500</td>\n      <td>high</td>\n      <td>8</td>\n      <td>...</td>\n      <td>13</td>\n      <td>26</td>\n      <td>0.00</td>\n      <td>1.25</td>\n      <td>9.50</td>\n      <td>18.015625</td>\n      <td>6</td>\n      <td>0.019552</td>\n      <td>ex-paramilitaries</td>\n      <td>ex-guerrillas</td>\n    </tr>\n    <tr>\n      <th>21105</th>\n      <td>-2</td>\n      <td>6</td>\n      <td>6</td>\n      <td>6</td>\n      <td>6</td>\n      <td>4</td>\n      <td>14.843750</td>\n      <td>-0.812500</td>\n      <td>high</td>\n      <td>7</td>\n      <td>...</td>\n      <td>17</td>\n      <td>20</td>\n      <td>1.75</td>\n      <td>4.00</td>\n      <td>7.25</td>\n      <td>14.437500</td>\n      <td>18</td>\n      <td>0.007524</td>\n      <td>ex-paramilitaries</td>\n      <td>victims</td>\n    </tr>\n    <tr>\n      <th>22110</th>\n      <td>0</td>\n      <td>5</td>\n      <td>5</td>\n      <td>5</td>\n      <td>5</td>\n      <td>5</td>\n      <td>12.296875</td>\n      <td>1.546875</td>\n      <td>low</td>\n      <td>1</td>\n      <td>...</td>\n      <td>13</td>\n      <td>12</td>\n      <td>0.00</td>\n      <td>2.00</td>\n      <td>8.00</td>\n      <td>15.953125</td>\n      <td>8</td>\n      <td>0.015858</td>\n      <td>controls</td>\n      <td>ex-guerrillas</td>\n    </tr>\n  </tbody>\n</table>\n<p>24 rows × 22 columns</p>\n</div>"
     },
     "execution_count": 43,
     "metadata": {},
     "output_type": "execute_result"
    }
   ],
   "source": [
    "datos_errados = pd.merge(df_errados, data2, how='inner', left_index=True, right_index=True)\n",
    "datos_errados.rename(columns={'group_x':'group'}, inplace=True)\n",
    "variables = lista_atributos\n",
    "variables.append('group')\n",
    "variables.append('predicted')\n",
    "datos_errados = datos_errados[variables]\n",
    "datos_errados"
   ],
   "metadata": {
    "collapsed": false
   }
  },
  {
   "cell_type": "code",
   "execution_count": 44,
   "outputs": [],
   "source": [
    "datos_errados.to_csv('sujetos errados clasificación conectividad grupos sin demográficas.csv', index_label='subject')"
   ],
   "metadata": {
    "collapsed": false
   }
  },
  {
   "cell_type": "code",
   "execution_count": 45,
   "outputs": [
    {
     "data": {
      "text/plain": "                     group          predicted\nsubject                                      \n21152    ex-paramilitaries            victims\n21103    ex-paramilitaries      ex-guerrillas\n21116        ex-guerrillas           controls\n21121        ex-guerrillas            victims\n21113        ex-guerrillas            victims\n23015    ex-paramilitaries      ex-guerrillas\n22114             controls  ex-paramilitaries\n24101              victims  ex-paramilitaries\n22107             controls            victims\n21147        ex-guerrillas  ex-paramilitaries\n21139    ex-paramilitaries      ex-guerrillas\n23023    ex-paramilitaries            victims\n23010    ex-paramilitaries            victims\n24052              victims           controls\n21134    ex-paramilitaries      ex-guerrillas\n24039              victims            victims\n21127    ex-paramilitaries            victims\n22111             controls      ex-guerrillas\n21135    ex-paramilitaries            victims\n23012        ex-guerrillas      ex-guerrillas\n24014              victims            victims\n21102    ex-paramilitaries  ex-paramilitaries\n24003              victims  ex-paramilitaries\n21107        ex-guerrillas      ex-guerrillas\n21106        ex-guerrillas  ex-paramilitaries",
      "text/html": "<div>\n<style scoped>\n    .dataframe tbody tr th:only-of-type {\n        vertical-align: middle;\n    }\n\n    .dataframe tbody tr th {\n        vertical-align: top;\n    }\n\n    .dataframe thead th {\n        text-align: right;\n    }\n</style>\n<table border=\"1\" class=\"dataframe\">\n  <thead>\n    <tr style=\"text-align: right;\">\n      <th></th>\n      <th>group</th>\n      <th>predicted</th>\n    </tr>\n    <tr>\n      <th>subject</th>\n      <th></th>\n      <th></th>\n    </tr>\n  </thead>\n  <tbody>\n    <tr>\n      <th>21152</th>\n      <td>ex-paramilitaries</td>\n      <td>victims</td>\n    </tr>\n    <tr>\n      <th>21103</th>\n      <td>ex-paramilitaries</td>\n      <td>ex-guerrillas</td>\n    </tr>\n    <tr>\n      <th>21116</th>\n      <td>ex-guerrillas</td>\n      <td>controls</td>\n    </tr>\n    <tr>\n      <th>21121</th>\n      <td>ex-guerrillas</td>\n      <td>victims</td>\n    </tr>\n    <tr>\n      <th>21113</th>\n      <td>ex-guerrillas</td>\n      <td>victims</td>\n    </tr>\n    <tr>\n      <th>23015</th>\n      <td>ex-paramilitaries</td>\n      <td>ex-guerrillas</td>\n    </tr>\n    <tr>\n      <th>22114</th>\n      <td>controls</td>\n      <td>ex-paramilitaries</td>\n    </tr>\n    <tr>\n      <th>24101</th>\n      <td>victims</td>\n      <td>ex-paramilitaries</td>\n    </tr>\n    <tr>\n      <th>22107</th>\n      <td>controls</td>\n      <td>victims</td>\n    </tr>\n    <tr>\n      <th>21147</th>\n      <td>ex-guerrillas</td>\n      <td>ex-paramilitaries</td>\n    </tr>\n    <tr>\n      <th>21139</th>\n      <td>ex-paramilitaries</td>\n      <td>ex-guerrillas</td>\n    </tr>\n    <tr>\n      <th>23023</th>\n      <td>ex-paramilitaries</td>\n      <td>victims</td>\n    </tr>\n    <tr>\n      <th>23010</th>\n      <td>ex-paramilitaries</td>\n      <td>victims</td>\n    </tr>\n    <tr>\n      <th>24052</th>\n      <td>victims</td>\n      <td>controls</td>\n    </tr>\n    <tr>\n      <th>21134</th>\n      <td>ex-paramilitaries</td>\n      <td>ex-guerrillas</td>\n    </tr>\n    <tr>\n      <th>24039</th>\n      <td>victims</td>\n      <td>victims</td>\n    </tr>\n    <tr>\n      <th>21127</th>\n      <td>ex-paramilitaries</td>\n      <td>victims</td>\n    </tr>\n    <tr>\n      <th>22111</th>\n      <td>controls</td>\n      <td>ex-guerrillas</td>\n    </tr>\n    <tr>\n      <th>21135</th>\n      <td>ex-paramilitaries</td>\n      <td>victims</td>\n    </tr>\n    <tr>\n      <th>23012</th>\n      <td>ex-guerrillas</td>\n      <td>ex-guerrillas</td>\n    </tr>\n    <tr>\n      <th>24014</th>\n      <td>victims</td>\n      <td>victims</td>\n    </tr>\n    <tr>\n      <th>21102</th>\n      <td>ex-paramilitaries</td>\n      <td>ex-paramilitaries</td>\n    </tr>\n    <tr>\n      <th>24003</th>\n      <td>victims</td>\n      <td>ex-paramilitaries</td>\n    </tr>\n    <tr>\n      <th>21107</th>\n      <td>ex-guerrillas</td>\n      <td>ex-guerrillas</td>\n    </tr>\n    <tr>\n      <th>21106</th>\n      <td>ex-guerrillas</td>\n      <td>ex-paramilitaries</td>\n    </tr>\n  </tbody>\n</table>\n</div>"
     },
     "execution_count": 45,
     "metadata": {},
     "output_type": "execute_result"
    }
   ],
   "source": [
    "from sklearn.model_selection import StratifiedKFold\n",
    "skf = StratifiedKFold(n_splits=5)\n",
    "\n",
    "le = LabelEncoder()\n",
    "le.fit(y)\n",
    "y_label = le.fit_transform(y)\n",
    "model = pipe.fit(X_sel, y_label)\n",
    "\n",
    "df_errados = pd.DataFrame(columns=['predicted'])\n",
    "# errores dataset de entrenamiento\n",
    "for i, (train_index, test_index) in enumerate(skf.split(X_sel, y_label)):\n",
    "    model.fit(X_sel.iloc[train_index], y_label[train_index])\n",
    "    y_est = model.predict(X_sel.iloc[test_index])\n",
    "    errado = test_index[y_label[test_index] != y_est]\n",
    "    y_pred = le.inverse_transform(y_est)\n",
    "    y_p_df = pd.DataFrame(data=(y_pred), index=test_index, columns=['predicted'])\n",
    "    errado_idx = pd.Index(errado)\n",
    "    y_errados = y_p_df.loc[errado_idx].copy()\n",
    "    df_errados = pd.concat([df_errados, y_errados], ignore_index=False)\n",
    "y_t = y_train.reset_index().copy()\n",
    "df_errados = pd.merge(y_t, df_errados, how='inner', left_index=True, right_index=True)\n",
    "df_errados.set_index('subject', inplace=True)\n",
    "df_errados"
   ],
   "metadata": {
    "collapsed": false
   }
  },
  {
   "cell_type": "code",
   "execution_count": 46,
   "outputs": [
    {
     "data": {
      "text/plain": "                     group          predicted\nsubject                                      \n21102    ex-paramilitaries  ex-paramilitaries\n21103    ex-paramilitaries      ex-guerrillas\n21106        ex-guerrillas  ex-paramilitaries\n21107        ex-guerrillas      ex-guerrillas\n21113        ex-guerrillas            victims\n21116        ex-guerrillas           controls\n21121        ex-guerrillas            victims\n21127    ex-paramilitaries            victims\n21134    ex-paramilitaries      ex-guerrillas\n21135    ex-paramilitaries            victims\n21139    ex-paramilitaries      ex-guerrillas\n21147        ex-guerrillas  ex-paramilitaries\n21152    ex-paramilitaries            victims\n22107             controls            victims\n22111             controls      ex-guerrillas\n22114             controls  ex-paramilitaries\n23010    ex-paramilitaries            victims\n23012        ex-guerrillas      ex-guerrillas\n23015    ex-paramilitaries      ex-guerrillas\n23023    ex-paramilitaries            victims\n24003              victims  ex-paramilitaries\n24014              victims            victims\n24039              victims            victims\n24052              victims           controls\n24101              victims  ex-paramilitaries",
      "text/html": "<div>\n<style scoped>\n    .dataframe tbody tr th:only-of-type {\n        vertical-align: middle;\n    }\n\n    .dataframe tbody tr th {\n        vertical-align: top;\n    }\n\n    .dataframe thead th {\n        text-align: right;\n    }\n</style>\n<table border=\"1\" class=\"dataframe\">\n  <thead>\n    <tr style=\"text-align: right;\">\n      <th></th>\n      <th>group</th>\n      <th>predicted</th>\n    </tr>\n    <tr>\n      <th>subject</th>\n      <th></th>\n      <th></th>\n    </tr>\n  </thead>\n  <tbody>\n    <tr>\n      <th>21102</th>\n      <td>ex-paramilitaries</td>\n      <td>ex-paramilitaries</td>\n    </tr>\n    <tr>\n      <th>21103</th>\n      <td>ex-paramilitaries</td>\n      <td>ex-guerrillas</td>\n    </tr>\n    <tr>\n      <th>21106</th>\n      <td>ex-guerrillas</td>\n      <td>ex-paramilitaries</td>\n    </tr>\n    <tr>\n      <th>21107</th>\n      <td>ex-guerrillas</td>\n      <td>ex-guerrillas</td>\n    </tr>\n    <tr>\n      <th>21113</th>\n      <td>ex-guerrillas</td>\n      <td>victims</td>\n    </tr>\n    <tr>\n      <th>21116</th>\n      <td>ex-guerrillas</td>\n      <td>controls</td>\n    </tr>\n    <tr>\n      <th>21121</th>\n      <td>ex-guerrillas</td>\n      <td>victims</td>\n    </tr>\n    <tr>\n      <th>21127</th>\n      <td>ex-paramilitaries</td>\n      <td>victims</td>\n    </tr>\n    <tr>\n      <th>21134</th>\n      <td>ex-paramilitaries</td>\n      <td>ex-guerrillas</td>\n    </tr>\n    <tr>\n      <th>21135</th>\n      <td>ex-paramilitaries</td>\n      <td>victims</td>\n    </tr>\n    <tr>\n      <th>21139</th>\n      <td>ex-paramilitaries</td>\n      <td>ex-guerrillas</td>\n    </tr>\n    <tr>\n      <th>21147</th>\n      <td>ex-guerrillas</td>\n      <td>ex-paramilitaries</td>\n    </tr>\n    <tr>\n      <th>21152</th>\n      <td>ex-paramilitaries</td>\n      <td>victims</td>\n    </tr>\n    <tr>\n      <th>22107</th>\n      <td>controls</td>\n      <td>victims</td>\n    </tr>\n    <tr>\n      <th>22111</th>\n      <td>controls</td>\n      <td>ex-guerrillas</td>\n    </tr>\n    <tr>\n      <th>22114</th>\n      <td>controls</td>\n      <td>ex-paramilitaries</td>\n    </tr>\n    <tr>\n      <th>23010</th>\n      <td>ex-paramilitaries</td>\n      <td>victims</td>\n    </tr>\n    <tr>\n      <th>23012</th>\n      <td>ex-guerrillas</td>\n      <td>ex-guerrillas</td>\n    </tr>\n    <tr>\n      <th>23015</th>\n      <td>ex-paramilitaries</td>\n      <td>ex-guerrillas</td>\n    </tr>\n    <tr>\n      <th>23023</th>\n      <td>ex-paramilitaries</td>\n      <td>victims</td>\n    </tr>\n    <tr>\n      <th>24003</th>\n      <td>victims</td>\n      <td>ex-paramilitaries</td>\n    </tr>\n    <tr>\n      <th>24014</th>\n      <td>victims</td>\n      <td>victims</td>\n    </tr>\n    <tr>\n      <th>24039</th>\n      <td>victims</td>\n      <td>victims</td>\n    </tr>\n    <tr>\n      <th>24052</th>\n      <td>victims</td>\n      <td>controls</td>\n    </tr>\n    <tr>\n      <th>24101</th>\n      <td>victims</td>\n      <td>ex-paramilitaries</td>\n    </tr>\n  </tbody>\n</table>\n</div>"
     },
     "execution_count": 46,
     "metadata": {},
     "output_type": "execute_result"
    }
   ],
   "source": [
    "df_errados.sort_values(by='subject', ascending=True)"
   ],
   "metadata": {
    "collapsed": false
   }
  },
  {
   "cell_type": "markdown",
   "source": [
    "# Prueba excluyendo EX2 Score"
   ],
   "metadata": {
    "collapsed": false
   }
  },
  {
   "cell_type": "code",
   "execution_count": 2,
   "outputs": [
    {
     "name": "stdout",
     "output_type": "stream",
     "text": [
      "<class 'pandas.core.frame.DataFrame'>\n",
      "Int64Index: 91 entries, 21100 to 24101\n",
      "Columns: 139 entries, diameter_ac to IH\n",
      "dtypes: float64(113), int64(26)\n",
      "memory usage: 99.5 KB\n"
     ]
    }
   ],
   "source": [
    "data = pd.read_csv('medidas_conectividad_globales_comportamentales_demograficos_2.csv')\n",
    "data.set_index('subject', inplace=True)\n",
    "data = data.drop(columns=['type','IAT_score_ind','IAT_score_level','dscore_1','dscore_2','dscore_3','dscore_5','dscore_6','dscore_7','dscore_8','modo_0','modo_1','modo_2', 'gender','laterality', 'school_years', 'age', 'EX2_score', 'exposure_level'], axis=1)\n",
    "\n",
    "# Imputación de datos\n",
    "# Datos ordinales se imputan con la mediana del grupo redondeada, datos nominales con el más frecuente del grupo\n",
    "data['IRI_PT'].fillna(data.groupby('group')['IRI_PT'].transform(lambda x: np.around(x.median())), inplace=True)\n",
    "data['IRI_PD'].fillna(data.groupby('group')['IRI_PD'].transform(lambda x: np.around(x.median())), inplace=True)\n",
    "data['IRI_EC'].fillna(data.groupby('group')['IRI_EC'].transform(lambda x: np.around(x.median())), inplace=True)\n",
    "data['IRI_FS'].fillna(data.groupby('group')['IRI_FS'].transform(lambda x: np.around(x.median())), inplace=True)\n",
    "data['IMA'].fillna(data.groupby('group')['IMA'].transform(lambda x: np.around(x.median())), inplace=True)\n",
    "data['RPQ AR'].fillna(data.groupby('group')['RPQ AR'].transform(lambda x: np.around(x.median())), inplace=True)\n",
    "data['RPQ AP'].fillna(data.groupby('group')['RPQ AP'].transform(lambda x: np.around(x.median())), inplace=True)\n",
    "data['victims_self'].fillna(method='backfill', inplace=True)\n",
    "\n",
    "data[['IRI_PT', 'IRI_FS', 'IRI_EC', 'IRI_PD', 'IMA', 'RPQ AR', 'RPQ AP']] = data[['IRI_PT', 'IRI_FS', 'IRI_EC', 'IRI_PD', 'IMA', 'RPQ AR', 'RPQ AP']].astype('int64')\n",
    "\n",
    "# La variable de salida son los grupos de actores\n",
    "X= data.drop(['group'], axis=1).copy()\n",
    "y = data['group'].copy()\n",
    "\n",
    "# codificación variables binarias\n",
    "X['victims_self'] = pd.factorize(X['victims_self'])[0]\n",
    "X.info()"
   ],
   "metadata": {
    "collapsed": false
   }
  },
  {
   "cell_type": "code",
   "execution_count": 3,
   "outputs": [
    {
     "name": "stdout",
     "output_type": "stream",
     "text": [
      "['max_degree_b2c', 'max_degree_b2i', 'max_degree_dd', 'max_degree_gc', 'max_degree_gi', 'mean_eccentricity_b2i', 'victims_self', 'dscore_4', 'IRI_EC', 'RPQ AP', 'TD', 'AN', 'AL', 'mean_eccentricity_b2d', 'IRI_PT', 'IRI_PD', 'mean_eccentricity_ti', 'mean_eccentricity_td', 'mean_mpli_b1c']\n"
     ]
    }
   ],
   "source": [
    "# Por selección por modelos\n",
    "# SVC\n",
    "from sklearn.svm import LinearSVC\n",
    "from sklearn.feature_selection import SelectFromModel\n",
    "lsvc = LinearSVC(random_state=72).fit(X, y)\n",
    "model = SelectFromModel(lsvc, threshold='2*mean', prefit=True)\n",
    "X_new = model.transform(X)\n",
    "features_lsvc = model.get_feature_names_out(input_features=X.columns)\n",
    "features_svc = pd.DataFrame(data=np.ones_like(features_lsvc), columns=['features_lsvc'], index=features_lsvc)\n",
    "\n",
    "# regresión logística l2\n",
    "from sklearn.linear_model import LogisticRegression\n",
    "from sklearn.feature_selection import SelectFromModel\n",
    "lr = LogisticRegression(penalty=\"l2\", solver='saga', max_iter=10000, random_state=72).fit(X,y)\n",
    "model = SelectFromModel(lr, threshold='2*mean', prefit=True)\n",
    "X_new = model.transform(X)\n",
    "features_lrl2 = model.get_feature_names_out(input_features=X.columns)\n",
    "features_l2 = pd.DataFrame(data=np.ones_like(features_lrl2), columns=['features_lrl2'], index=features_lrl2)\n",
    "\n",
    "# regresión logística l1\n",
    "from sklearn.linear_model import LogisticRegression\n",
    "from sklearn.feature_selection import SelectFromModel\n",
    "lr = LogisticRegression(penalty=\"l1\", solver='saga', max_iter=10000, random_state=72).fit(X,y)\n",
    "model = SelectFromModel(lr, threshold='2*mean', prefit=True)\n",
    "X_new = model.transform(X)\n",
    "features_lrl1 = model.get_feature_names_out(input_features=X.columns)\n",
    "features_l1 = pd.DataFrame(data=np.ones_like(features_lrl1), columns=['features_lrl1'], index=features_lrl1)\n",
    "\n",
    "# random forest\n",
    "from sklearn.ensemble import RandomForestClassifier\n",
    "from sklearn.feature_selection import SelectFromModel\n",
    "rf = RandomForestClassifier(random_state=72).fit(X,y)\n",
    "model = SelectFromModel(rf, threshold='1.5*mean', prefit=True)\n",
    "X_new = model.transform(X)\n",
    "features_rf = model.get_feature_names_out(input_features=X.columns)\n",
    "features_rfo = pd.DataFrame(data=np.ones_like(features_rf), columns=['features_rf'], index=features_rf)\n",
    "\n",
    "# anova\n",
    "from sklearn.feature_selection import f_classif\n",
    "__, p_values = f_classif(X,y)\n",
    "features_anova = pd.DataFrame(p_values, columns=['p_values'], index=X.columns)\n",
    "features_anova = features_anova[features_anova['p_values']<0.05]\n",
    "features_anova['features_an'] = 1\n",
    "\n",
    "# información mutua\n",
    "from sklearn.feature_selection import mutual_info_classif\n",
    "mi = mutual_info_classif(X, y)\n",
    "features_mi = pd.DataFrame(mi, columns=['mutual information'], index=X.columns)\n",
    "features_mi = features_mi[features_mi['mutual information']>0.1]\n",
    "features_mi['features_im'] = 1\n",
    "\n",
    "# atributos seleccionados\n",
    "features_sel = features_svc.join([features_l2, features_l1, features_rfo, features_anova, features_mi], how='outer')\n",
    "features_sel.drop(['p_values','mutual information'], axis=1, inplace=True)\n",
    "features_sel['total'] = features_sel.sum(axis=1)\n",
    "features_sel = features_sel[features_sel['total']>=3]\n",
    "lista_atributos = list(features_sel.index)\n",
    "print(lista_atributos)"
   ],
   "metadata": {
    "collapsed": false
   }
  },
  {
   "cell_type": "code",
   "execution_count": 5,
   "outputs": [
    {
     "data": {
      "text/plain": "(72, 19)"
     },
     "execution_count": 5,
     "metadata": {},
     "output_type": "execute_result"
    }
   ],
   "source": [
    "X_sel = X[lista_atributos].copy()\n",
    "X_train, X_test, y_train, y_test = train_test_split(X_sel, y, test_size=0.2, random_state=77, stratify=y)\n",
    "X_train.shape"
   ],
   "metadata": {
    "collapsed": false
   }
  },
  {
   "cell_type": "code",
   "execution_count": 6,
   "outputs": [
    {
     "data": {
      "text/plain": "  0%|          | 0/20 [00:00<?, ?it/s]",
      "application/vnd.jupyter.widget-view+json": {
       "version_major": 2,
       "version_minor": 0,
       "model_id": "b8b25e193b9f46aba668a8d6b65243e3"
      }
     },
     "metadata": {},
     "output_type": "display_data"
    },
    {
     "name": "stdout",
     "output_type": "stream",
     "text": [
      "best parameters: {'colsample_bytree': 0.6910277286613105, 'eta': 0.2501420805352883, 'max_depth': 4, 'n_estimators': 73, 'subsample': 0.14212514049875993}\n",
      "best accuracy: 0.6952380952380952\n",
      "0.6952380952380952 0.1217782081194707\n",
      "0.47368421052631576\n"
     ]
    }
   ],
   "source": [
    "## XG Boosting\n",
    "from sklearn.preprocessing import LabelEncoder\n",
    "y_train_label = LabelEncoder().fit_transform(y_train)\n",
    "y_test_label = LabelEncoder().fit_transform(y_test)\n",
    "param_space =dict(n_estimators=range(1,100), max_depth=range(3,10), subsample=uniform(0.1,0.9), eta=uniform(0,1), colsample_bytree=uniform(0.1,0.9))\n",
    "@scheduler.parallel(n_jobs=-1)\n",
    "def objective(**params):\n",
    "    global X_train, y_train\n",
    "    model = XGBClassifier(**params)\n",
    "    error= cross_val_score(estimator = model, X= X_train, y= y_train_label, scoring='accuracy', cv=5).mean()\n",
    "    return error\n",
    "tuner = Tuner(param_space, objective)\n",
    "best_results = tuner.maximize()\n",
    "print('best parameters:', best_results['best_params'])\n",
    "print('best accuracy:', best_results['best_objective'])\n",
    "\n",
    "params = best_results['best_params']\n",
    "model = XGBClassifier(**params)\n",
    "scores = cross_val_score(estimator = model, X= X_train, y= y_train_label, scoring='accuracy', cv=5)\n",
    "print(scores.mean(), scores.std())\n",
    "model.fit(X_train, y_train_label)\n",
    "print(model.score(X_test, y_test_label))"
   ],
   "metadata": {
    "collapsed": false
   }
  },
  {
   "cell_type": "code",
   "execution_count": 7,
   "outputs": [
    {
     "data": {
      "text/plain": "  0%|          | 0/20 [00:00<?, ?it/s]",
      "application/vnd.jupyter.widget-view+json": {
       "version_major": 2,
       "version_minor": 0,
       "model_id": "96d2a56100d84218bf27de59fad3a913"
      }
     },
     "metadata": {},
     "output_type": "display_data"
    },
    {
     "name": "stdout",
     "output_type": "stream",
     "text": [
      "best parameters: {'colsample_bytree': 0.6655154925003463, 'eta': 0.21399856688497443, 'max_depth': 4, 'n_estimators': 90, 'subsample': 0.15477576674534546}\n",
      "best accuracy: 0.6923809523809524\n",
      "0.6923809523809524 0.07851224322104744\n",
      "0.5263157894736842\n"
     ]
    }
   ],
   "source": [
    "# con standard scaler\n",
    "param_space =dict(n_estimators=range(1,100), max_depth=range(3,10), subsample=uniform(0.1,0.9), eta=uniform(0,1), colsample_bytree=uniform(0.1,0.9))\n",
    "@scheduler.parallel(n_jobs=-1)\n",
    "def objective(**params):\n",
    "    global X_train, y_train_label\n",
    "    numeric_cols = X_train.select_dtypes(include=['float64','int64']).columns.to_list()\n",
    "    preprocessor = ColumnTransformer([('scale', StandardScaler(), numeric_cols)], remainder='passthrough')\n",
    "    pipe = Pipeline([('preprocessing', preprocessor),('model', XGBClassifier(**params))])\n",
    "    error = cross_val_score(estimator = pipe, X= X_train, y= y_train_label, scoring='accuracy', cv=5).mean()\n",
    "    return error\n",
    "tuner = Tuner(param_space, objective)\n",
    "best_results = tuner.maximize()\n",
    "print('best parameters:', best_results['best_params'])\n",
    "print('best accuracy:', best_results['best_objective'])\n",
    "\n",
    "params = best_results['best_params']\n",
    "numeric_cols = X_train.select_dtypes(include=['float64','int64']).columns.to_list()\n",
    "preprocessor = ColumnTransformer([('scale', StandardScaler(), numeric_cols)], remainder='passthrough')\n",
    "pipe = Pipeline([('preprocessing', preprocessor),('model', XGBClassifier(**params))])\n",
    "scores = cross_val_score(estimator = pipe, X= X_train, y= y_train_label, scoring='accuracy', cv=5)\n",
    "print(scores.mean(), scores.std())\n",
    "pipe.fit(X_train, y_train_label)\n",
    "print(pipe.score(X_test, y_test_label))"
   ],
   "metadata": {
    "collapsed": false
   }
  },
  {
   "cell_type": "code",
   "execution_count": 8,
   "outputs": [
    {
     "data": {
      "text/plain": "  0%|          | 0/20 [00:00<?, ?it/s]",
      "application/vnd.jupyter.widget-view+json": {
       "version_major": 2,
       "version_minor": 0,
       "model_id": "61f68cbff5614addb96e4ab424ae00ae"
      }
     },
     "metadata": {},
     "output_type": "display_data"
    },
    {
     "name": "stdout",
     "output_type": "stream",
     "text": [
      "best parameters: {'colsample_bytree': 0.27552414150721194, 'eta': 0.2896856289080729, 'max_depth': 8, 'n_estimators': 96, 'subsample': 0.3863969358992285}\n",
      "best accuracy: 0.678095238095238\n",
      "0.678095238095238 0.15723229777896336\n",
      "0.631578947368421\n"
     ]
    }
   ],
   "source": [
    "# con standard_scaler y min_max_scaler\n",
    "param_space =dict(n_estimators=range(1,100), max_depth=range(3,10), subsample=uniform(0.1,0.9), eta=uniform(0,1), colsample_bytree=uniform(0.1,0.9))\n",
    "@scheduler.parallel(n_jobs=-1)\n",
    "def objective(**params):\n",
    "    global X_train, y_train_label\n",
    "    continuas_cols = X_train.select_dtypes(include=['float64']).columns.to_list()\n",
    "    discretas_cols = X_train.select_dtypes(include=['int64']).columns.to_list()\n",
    "    preprocessor = ColumnTransformer([('scaler', StandardScaler(), continuas_cols), ('min_max', MinMaxScaler(), discretas_cols)], remainder='passthrough')\n",
    "    pipe = Pipeline([('preprocessing', preprocessor),('model', XGBClassifier(**params))])\n",
    "    error = cross_val_score(estimator = pipe, X= X_train, y= y_train_label, scoring='accuracy', cv=5).mean()\n",
    "    return error\n",
    "tuner = Tuner(param_space, objective)\n",
    "best_results = tuner.maximize()\n",
    "print('best parameters:', best_results['best_params'])\n",
    "print('best accuracy:', best_results['best_objective'])\n",
    "\n",
    "params = best_results['best_params']\n",
    "continuas_cols = X_train.select_dtypes(include=['float64']).columns.to_list()\n",
    "discretas_cols = X_train.select_dtypes(include=['int64']).columns.to_list()\n",
    "preprocessor = ColumnTransformer([('scaler', StandardScaler(), continuas_cols), ('min_max', MinMaxScaler(), discretas_cols)], remainder='passthrough')\n",
    "pipe = Pipeline([('preprocessing', preprocessor),('model', XGBClassifier(**params))])\n",
    "scores = cross_val_score(estimator = pipe, X= X_train, y= y_train_label, scoring='accuracy', cv=5)\n",
    "print(scores.mean(), scores.std())\n",
    "pipe.fit(X_train, y_train_label)\n",
    "print(pipe.score(X_test, y_test_label))"
   ],
   "metadata": {
    "collapsed": false
   }
  },
  {
   "cell_type": "code",
   "execution_count": 9,
   "outputs": [
    {
     "data": {
      "text/plain": "  0%|          | 0/20 [00:00<?, ?it/s]",
      "application/vnd.jupyter.widget-view+json": {
       "version_major": 2,
       "version_minor": 0,
       "model_id": "6fb937cb84614ed385e02c4e031d3e3a"
      }
     },
     "metadata": {},
     "output_type": "display_data"
    },
    {
     "name": "stdout",
     "output_type": "stream",
     "text": [
      "best parameters: {'colsample_bytree': 0.6940805893765363, 'eta': 0.21463913653819322, 'max_depth': 3, 'n_estimators': 86, 'subsample': 0.1756940154019607}\n",
      "best accuracy: 0.7476190476190476\n",
      "0.7476190476190476 0.08979694907674793\n",
      "0.5789473684210527\n"
     ]
    }
   ],
   "source": [
    "# con power transformer y min_max_scaler\n",
    "param_space =dict(n_estimators=range(1,100), max_depth=range(3,10), subsample=uniform(0.1,0.9), eta=uniform(0,1), colsample_bytree=uniform(0.1,0.9))\n",
    "@scheduler.parallel(n_jobs=-1)\n",
    "def objective(**params):\n",
    "    global X_train, y_train_label\n",
    "    continuas_cols = X_train.select_dtypes(include=['float64']).columns.to_list()\n",
    "    discretas_cols = X_train.select_dtypes(include=['int64']).columns.to_list()\n",
    "    preprocessor = ColumnTransformer([('pt', PowerTransformer(), continuas_cols), ('min_max', MinMaxScaler(), discretas_cols)], remainder='passthrough')\n",
    "    pipe = Pipeline([('preprocessing', preprocessor),('model', XGBClassifier(**params))])\n",
    "    error = cross_val_score(estimator = pipe, X= X_train, y= y_train_label, scoring='accuracy', cv=5).mean()\n",
    "    return error\n",
    "tuner = Tuner(param_space, objective)\n",
    "best_results = tuner.maximize()\n",
    "print('best parameters:', best_results['best_params'])\n",
    "print('best accuracy:', best_results['best_objective'])\n",
    "\n",
    "params = best_results['best_params']\n",
    "continuas_cols = X_train.select_dtypes(include=['float64']).columns.to_list()\n",
    "discretas_cols = X_train.select_dtypes(include=['int64']).columns.to_list()\n",
    "preprocessor = ColumnTransformer([('pt', PowerTransformer(), continuas_cols), ('min_max', MinMaxScaler(), discretas_cols)], remainder='passthrough')\n",
    "pipe = Pipeline([('preprocessing', preprocessor),('model', XGBClassifier(**params))])\n",
    "scores = cross_val_score(estimator = pipe, X= X_train, y= y_train_label, scoring='accuracy', cv=5)\n",
    "print(scores.mean(), scores.std())\n",
    "pipe.fit(X_train, y_train_label)\n",
    "print(pipe.score(X_test, y_test_label))"
   ],
   "metadata": {
    "collapsed": false
   }
  },
  {
   "cell_type": "code",
   "execution_count": 10,
   "outputs": [
    {
     "data": {
      "text/plain": "                       mean importance\nvictims_self                  0.123077\nIRI_PT                        0.110989\nAL                            0.086813\nmean_mpli_b1c                 0.061538\nIRI_EC                        0.056044\nIRI_PD                        0.049451\nmean_eccentricity_b2i         0.047253\nmean_eccentricity_ti          0.036264\nAN                            0.035165\ndscore_4                      0.032967\nmax_degree_b2c                0.028571\nTD                            0.024176\nmax_degree_dd                 0.024176\nmax_degree_gi                 0.021978\nRPQ AP                        0.008791\nmean_eccentricity_td          0.008791\nmean_eccentricity_b2d         0.007692\nmax_degree_gc                 0.001099\nmax_degree_b2i               -0.004396",
      "text/html": "<div>\n<style scoped>\n    .dataframe tbody tr th:only-of-type {\n        vertical-align: middle;\n    }\n\n    .dataframe tbody tr th {\n        vertical-align: top;\n    }\n\n    .dataframe thead th {\n        text-align: right;\n    }\n</style>\n<table border=\"1\" class=\"dataframe\">\n  <thead>\n    <tr style=\"text-align: right;\">\n      <th></th>\n      <th>mean importance</th>\n    </tr>\n  </thead>\n  <tbody>\n    <tr>\n      <th>victims_self</th>\n      <td>0.123077</td>\n    </tr>\n    <tr>\n      <th>IRI_PT</th>\n      <td>0.110989</td>\n    </tr>\n    <tr>\n      <th>AL</th>\n      <td>0.086813</td>\n    </tr>\n    <tr>\n      <th>mean_mpli_b1c</th>\n      <td>0.061538</td>\n    </tr>\n    <tr>\n      <th>IRI_EC</th>\n      <td>0.056044</td>\n    </tr>\n    <tr>\n      <th>IRI_PD</th>\n      <td>0.049451</td>\n    </tr>\n    <tr>\n      <th>mean_eccentricity_b2i</th>\n      <td>0.047253</td>\n    </tr>\n    <tr>\n      <th>mean_eccentricity_ti</th>\n      <td>0.036264</td>\n    </tr>\n    <tr>\n      <th>AN</th>\n      <td>0.035165</td>\n    </tr>\n    <tr>\n      <th>dscore_4</th>\n      <td>0.032967</td>\n    </tr>\n    <tr>\n      <th>max_degree_b2c</th>\n      <td>0.028571</td>\n    </tr>\n    <tr>\n      <th>TD</th>\n      <td>0.024176</td>\n    </tr>\n    <tr>\n      <th>max_degree_dd</th>\n      <td>0.024176</td>\n    </tr>\n    <tr>\n      <th>max_degree_gi</th>\n      <td>0.021978</td>\n    </tr>\n    <tr>\n      <th>RPQ AP</th>\n      <td>0.008791</td>\n    </tr>\n    <tr>\n      <th>mean_eccentricity_td</th>\n      <td>0.008791</td>\n    </tr>\n    <tr>\n      <th>mean_eccentricity_b2d</th>\n      <td>0.007692</td>\n    </tr>\n    <tr>\n      <th>max_degree_gc</th>\n      <td>0.001099</td>\n    </tr>\n    <tr>\n      <th>max_degree_b2i</th>\n      <td>-0.004396</td>\n    </tr>\n  </tbody>\n</table>\n</div>"
     },
     "execution_count": 10,
     "metadata": {},
     "output_type": "execute_result"
    }
   ],
   "source": [
    "# Análisis de relevancia\n",
    "from sklearn.inspection import permutation_importance\n",
    "y_label = LabelEncoder().fit_transform(y)\n",
    "model = pipe.fit(X_sel, y_label)\n",
    "r = permutation_importance(model, X_sel, y_label,n_repeats=10,random_state=0, scoring='accuracy')\n",
    "importancia_atributos = pd.DataFrame(data=[r.importances_mean], columns=X_sel.columns, index=['mean importance']).transpose()\n",
    "importancia_atributos.sort_values(by='mean importance', ascending=False)"
   ],
   "metadata": {
    "collapsed": false
   }
  },
  {
   "cell_type": "code",
   "execution_count": 11,
   "outputs": [],
   "source": [
    "importancia_atributos.to_csv('importancia atributos clasificación grupos conectividad sin demográficas ex2 score.csv', index_label='feature')"
   ],
   "metadata": {
    "collapsed": false
   }
  },
  {
   "cell_type": "code",
   "execution_count": 12,
   "outputs": [
    {
     "data": {
      "text/plain": "                     group          predicted\nsubject                                      \n21103    ex-paramilitaries            victims\n22112             controls            victims\n23005    ex-paramilitaries            victims\n21139    ex-paramilitaries           controls\n21134    ex-paramilitaries            victims\n21115        ex-guerrillas           controls\n22108             controls  ex-paramilitaries\n21127    ex-paramilitaries      ex-guerrillas\n24057              victims  ex-paramilitaries\n24043              victims      ex-guerrillas\n23012        ex-guerrillas  ex-paramilitaries\n24014              victims      ex-guerrillas\n22100             controls      ex-guerrillas\n24003              victims  ex-paramilitaries\n21111        ex-guerrillas  ex-paramilitaries\n22102             controls            victims\n22117             controls            victims\n21109    ex-paramilitaries      ex-guerrillas\n21118        ex-guerrillas            victims\n22106             controls            victims\n23007        ex-guerrillas  ex-paramilitaries\n21131        ex-guerrillas            victims\n21129    ex-paramilitaries            victims\n21101    ex-paramilitaries      ex-guerrillas\n21105    ex-paramilitaries            victims\n22116             controls      ex-guerrillas\n22110             controls      ex-guerrillas",
      "text/html": "<div>\n<style scoped>\n    .dataframe tbody tr th:only-of-type {\n        vertical-align: middle;\n    }\n\n    .dataframe tbody tr th {\n        vertical-align: top;\n    }\n\n    .dataframe thead th {\n        text-align: right;\n    }\n</style>\n<table border=\"1\" class=\"dataframe\">\n  <thead>\n    <tr style=\"text-align: right;\">\n      <th></th>\n      <th>group</th>\n      <th>predicted</th>\n    </tr>\n    <tr>\n      <th>subject</th>\n      <th></th>\n      <th></th>\n    </tr>\n  </thead>\n  <tbody>\n    <tr>\n      <th>21103</th>\n      <td>ex-paramilitaries</td>\n      <td>victims</td>\n    </tr>\n    <tr>\n      <th>22112</th>\n      <td>controls</td>\n      <td>victims</td>\n    </tr>\n    <tr>\n      <th>23005</th>\n      <td>ex-paramilitaries</td>\n      <td>victims</td>\n    </tr>\n    <tr>\n      <th>21139</th>\n      <td>ex-paramilitaries</td>\n      <td>controls</td>\n    </tr>\n    <tr>\n      <th>21134</th>\n      <td>ex-paramilitaries</td>\n      <td>victims</td>\n    </tr>\n    <tr>\n      <th>21115</th>\n      <td>ex-guerrillas</td>\n      <td>controls</td>\n    </tr>\n    <tr>\n      <th>22108</th>\n      <td>controls</td>\n      <td>ex-paramilitaries</td>\n    </tr>\n    <tr>\n      <th>21127</th>\n      <td>ex-paramilitaries</td>\n      <td>ex-guerrillas</td>\n    </tr>\n    <tr>\n      <th>24057</th>\n      <td>victims</td>\n      <td>ex-paramilitaries</td>\n    </tr>\n    <tr>\n      <th>24043</th>\n      <td>victims</td>\n      <td>ex-guerrillas</td>\n    </tr>\n    <tr>\n      <th>23012</th>\n      <td>ex-guerrillas</td>\n      <td>ex-paramilitaries</td>\n    </tr>\n    <tr>\n      <th>24014</th>\n      <td>victims</td>\n      <td>ex-guerrillas</td>\n    </tr>\n    <tr>\n      <th>22100</th>\n      <td>controls</td>\n      <td>ex-guerrillas</td>\n    </tr>\n    <tr>\n      <th>24003</th>\n      <td>victims</td>\n      <td>ex-paramilitaries</td>\n    </tr>\n    <tr>\n      <th>21111</th>\n      <td>ex-guerrillas</td>\n      <td>ex-paramilitaries</td>\n    </tr>\n    <tr>\n      <th>22102</th>\n      <td>controls</td>\n      <td>victims</td>\n    </tr>\n    <tr>\n      <th>22117</th>\n      <td>controls</td>\n      <td>victims</td>\n    </tr>\n    <tr>\n      <th>21109</th>\n      <td>ex-paramilitaries</td>\n      <td>ex-guerrillas</td>\n    </tr>\n    <tr>\n      <th>21118</th>\n      <td>ex-guerrillas</td>\n      <td>victims</td>\n    </tr>\n    <tr>\n      <th>22106</th>\n      <td>controls</td>\n      <td>victims</td>\n    </tr>\n    <tr>\n      <th>23007</th>\n      <td>ex-guerrillas</td>\n      <td>ex-paramilitaries</td>\n    </tr>\n    <tr>\n      <th>21131</th>\n      <td>ex-guerrillas</td>\n      <td>victims</td>\n    </tr>\n    <tr>\n      <th>21129</th>\n      <td>ex-paramilitaries</td>\n      <td>victims</td>\n    </tr>\n    <tr>\n      <th>21101</th>\n      <td>ex-paramilitaries</td>\n      <td>ex-guerrillas</td>\n    </tr>\n    <tr>\n      <th>21105</th>\n      <td>ex-paramilitaries</td>\n      <td>victims</td>\n    </tr>\n    <tr>\n      <th>22116</th>\n      <td>controls</td>\n      <td>ex-guerrillas</td>\n    </tr>\n    <tr>\n      <th>22110</th>\n      <td>controls</td>\n      <td>ex-guerrillas</td>\n    </tr>\n  </tbody>\n</table>\n</div>"
     },
     "execution_count": 12,
     "metadata": {},
     "output_type": "execute_result"
    }
   ],
   "source": [
    "# Extracción sujetos mal clasificados\n",
    "from sklearn.model_selection import StratifiedKFold\n",
    "skf = StratifiedKFold(n_splits=5)\n",
    "\n",
    "le = LabelEncoder()\n",
    "le.fit(y_train)\n",
    "y_train_label = le.fit_transform(y_train)\n",
    "y_test_label = le.fit_transform(y_test)\n",
    "model = pipe.fit(X_train, y_train_label)\n",
    "\n",
    "df_errados = pd.DataFrame(columns=['predicted'])\n",
    "# errores dataset de entrenamiento\n",
    "for i, (train_index, test_index) in enumerate(skf.split(X_train, y_train_label)):\n",
    "    model.fit(X_train.iloc[train_index], y_train_label[train_index])\n",
    "    y_est = model.predict(X_train.iloc[test_index])\n",
    "    errado = test_index[y_train_label[test_index] != y_est]\n",
    "    y_pred = le.inverse_transform(y_est)\n",
    "    y_p_df = pd.DataFrame(data=(y_pred), index=test_index, columns=['predicted'])\n",
    "    errado_idx = pd.Index(errado)\n",
    "    y_errados = y_p_df.loc[errado_idx].copy()\n",
    "    df_errados = pd.concat([df_errados, y_errados], ignore_index=False)\n",
    "y_t = y_train.reset_index().copy()\n",
    "df_errados = pd.merge(y_t, df_errados, how='inner', left_index=True, right_index=True)\n",
    "df_errados.set_index('subject', inplace=True)\n",
    "\n",
    "# errores dataset de prueba\n",
    "y_test_pred = model.predict(X_test)\n",
    "y_test_pred = le.inverse_transform(y_test_pred)\n",
    "y_test_pred_df = pd.DataFrame(data=y_test_pred, index=y_test.index, columns=['predicted'])\n",
    "test_errados_df = pd.merge(y_test, y_test_pred_df, left_index=True, right_index=True)\n",
    "test_errados_df = test_errados_df[test_errados_df['group'] != test_errados_df['predicted']]\n",
    "\n",
    "df_errados = pd.concat([df_errados, test_errados_df], ignore_index=False)\n",
    "df_errados"
   ],
   "metadata": {
    "collapsed": false
   }
  },
  {
   "cell_type": "code",
   "execution_count": 13,
   "outputs": [
    {
     "data": {
      "text/plain": "         max_degree_b2c  max_degree_b2i  max_degree_dd  max_degree_gc  \\\nsubject                                                                 \n21103                 4               5             -1              6   \n22112                 5               7              1              4   \n23005                 9               8              0              4   \n21139                 4               5             -1              5   \n21134                 5               5              1              6   \n21115                 5               6              2              5   \n22108                 5               6              2              5   \n21127                 5               6             -2              6   \n24057                 8               5              0              8   \n24043                 5               8             -2              5   \n23012                 5               6              2              6   \n24014                 5               5              0              5   \n22100                 6               6              1              5   \n24003                 5               6              0              6   \n21111                 5               5             -2              5   \n22102                 5               5             -1              7   \n22117                 7               5              0              5   \n21109                 6               4              1              5   \n21118                 5               5              0              5   \n22106                 5               5              1              5   \n23007                 6               5              2              5   \n21131                 5               6             -1              7   \n21129                 5               5             -1              5   \n21101                 5               5             -1              5   \n21105                 6               6              1              6   \n22116                 6               4              0              6   \n22110                 5               5             -1              5   \n\n         max_degree_gi  mean_eccentricity_b2i victims_self  dscore_4  IRI_EC  \\\nsubject                                                                        \n21103                5              14.078125          yes  0.120374      16   \n22112                7              15.875000           no  0.156987      15   \n23005                8              13.468750           no -0.198112      14   \n21139                5              14.656250           no -0.449696      18   \n21134                5              18.765625          yes -0.099490      15   \n21115                6              11.937500           no -0.099458      13   \n22108                6              17.812500           no -0.519923      19   \n21127                5              12.734375           no  0.473664       9   \n24057                5              15.531250          yes -0.183536      16   \n24043                6              11.718750          yes -0.171814      15   \n23012                6              13.140625          yes  0.410872      14   \n24014                6              13.968750          yes  0.057988      19   \n22100                6              11.875000           no -0.255470       8   \n24003                5              14.703125          yes  0.235468      15   \n21111                5              16.296875          yes  0.050145      13   \n22102                5              14.656250           no  0.244277      19   \n22117                6              15.046875           no  0.005284      19   \n21109                4              15.046875          yes  0.019508      13   \n21118                7              19.281250          yes -0.379185      17   \n22106                5              17.140625          yes  0.471916      17   \n23007                5              13.296875          yes  0.163610      14   \n21131                5              13.406250          yes -0.115430       8   \n21129                5              15.531250          yes  0.328757      15   \n21101                5              17.062500          yes -0.070836      13   \n21105                4              14.843750          yes  0.258352      17   \n22116                7              12.609375           no -0.702503      18   \n22110                5              12.296875           no -0.335397      13   \n\n         RPQ AP  ...    AN    AL  mean_eccentricity_b2d  IRI_PT  IRI_PD  \\\nsubject          ...                                                      \n21103        15  ...  0.00  6.25               2.625000      16      12   \n22112        13  ...  0.00  9.00              -0.890625      12      12   \n23005        13  ...  0.00  0.00              -0.703125      13      18   \n21139        23  ...  1.00  7.75               0.000000      19      15   \n21134        18  ...  3.25  9.75              -5.578125      18      11   \n21115        13  ...  0.50  5.25               0.906250      19      14   \n22108        14  ...  1.50  9.50              -3.718750      19       9   \n21127        12  ...  2.25  0.50              -0.375000      19       8   \n24057        13  ...  0.00  0.00              -3.625000      14      13   \n24043        12  ...  2.25  5.25               2.312500      17      15   \n23012        12  ...  0.00  0.00              -0.125000      22       4   \n24014        12  ...  6.75  6.50               0.390625      16      14   \n22100        12  ...  2.75  3.50               2.390625      16       7   \n24003        12  ...  2.25  5.25              -0.781250      16      14   \n21111        15  ...  2.25  3.00               0.984375      19      10   \n22102        12  ...  0.75  9.25               0.765625      13       8   \n22117        13  ...  0.00  8.75              -2.265625      18      18   \n21109        13  ...  3.00  8.00               1.562500      23       7   \n21118        15  ...  0.00  9.50              -5.515625      16      17   \n22106        14  ...  3.25  7.50              -2.156250       9      15   \n23007        12  ...  0.00  0.00              -0.468750      14       5   \n21131        12  ...  2.00  4.25              -2.609375      17      15   \n21129        12  ...  0.00  9.75              -3.687500      10      19   \n21101        26  ...  1.25  9.50              -0.812500      25       6   \n21105        20  ...  4.00  7.25              -0.812500      20      18   \n22116        12  ...  3.50  7.50               0.609375      21       7   \n22110        12  ...  2.00  8.00               1.546875      23       8   \n\n         mean_eccentricity_ti  mean_eccentricity_td  mean_mpli_b1c  \\\nsubject                                                              \n21103               13.343750              1.875000       0.016898   \n22112               13.140625             -2.031250       0.030263   \n23005               13.093750             -1.609375       0.113762   \n21139               15.968750             -3.468750       0.002874   \n21134               11.890625              6.875000       0.016142   \n21115               19.703125             -4.500000       0.020584   \n22108               15.000000             -0.593750       0.011113   \n21127               15.140625              1.812500       0.005713   \n24057               12.375000              3.984375       0.009817   \n24043               13.703125              1.078125       0.028276   \n23012               10.265625              2.578125       0.009909   \n24014               22.968750             -8.406250       0.013685   \n22100               18.406250             -2.343750       0.039653   \n24003               14.218750              0.859375       0.002002   \n21111               13.562500              4.234375       0.016154   \n22102               12.921875              4.171875       0.007031   \n22117               16.953125             -5.000000       0.013986   \n21109               10.703125              2.234375       0.026186   \n21118               16.328125             -2.421875       0.009398   \n22106               14.734375              2.046875       0.005365   \n23007               15.078125              2.468750       0.010288   \n21131               13.015625              0.406250       0.010857   \n21129               16.265625             -3.750000       0.043560   \n21101               18.015625             -3.671875       0.019552   \n21105               14.437500              4.468750       0.007524   \n22116               17.968750             -2.953125       0.053891   \n22110               15.953125             -4.015625       0.015858   \n\n                     group          predicted  \nsubject                                        \n21103    ex-paramilitaries            victims  \n22112             controls            victims  \n23005    ex-paramilitaries            victims  \n21139    ex-paramilitaries           controls  \n21134    ex-paramilitaries            victims  \n21115        ex-guerrillas           controls  \n22108             controls  ex-paramilitaries  \n21127    ex-paramilitaries      ex-guerrillas  \n24057              victims  ex-paramilitaries  \n24043              victims      ex-guerrillas  \n23012        ex-guerrillas  ex-paramilitaries  \n24014              victims      ex-guerrillas  \n22100             controls      ex-guerrillas  \n24003              victims  ex-paramilitaries  \n21111        ex-guerrillas  ex-paramilitaries  \n22102             controls            victims  \n22117             controls            victims  \n21109    ex-paramilitaries      ex-guerrillas  \n21118        ex-guerrillas            victims  \n22106             controls            victims  \n23007        ex-guerrillas  ex-paramilitaries  \n21131        ex-guerrillas            victims  \n21129    ex-paramilitaries            victims  \n21101    ex-paramilitaries      ex-guerrillas  \n21105    ex-paramilitaries            victims  \n22116             controls      ex-guerrillas  \n22110             controls      ex-guerrillas  \n\n[27 rows x 21 columns]",
      "text/html": "<div>\n<style scoped>\n    .dataframe tbody tr th:only-of-type {\n        vertical-align: middle;\n    }\n\n    .dataframe tbody tr th {\n        vertical-align: top;\n    }\n\n    .dataframe thead th {\n        text-align: right;\n    }\n</style>\n<table border=\"1\" class=\"dataframe\">\n  <thead>\n    <tr style=\"text-align: right;\">\n      <th></th>\n      <th>max_degree_b2c</th>\n      <th>max_degree_b2i</th>\n      <th>max_degree_dd</th>\n      <th>max_degree_gc</th>\n      <th>max_degree_gi</th>\n      <th>mean_eccentricity_b2i</th>\n      <th>victims_self</th>\n      <th>dscore_4</th>\n      <th>IRI_EC</th>\n      <th>RPQ AP</th>\n      <th>...</th>\n      <th>AN</th>\n      <th>AL</th>\n      <th>mean_eccentricity_b2d</th>\n      <th>IRI_PT</th>\n      <th>IRI_PD</th>\n      <th>mean_eccentricity_ti</th>\n      <th>mean_eccentricity_td</th>\n      <th>mean_mpli_b1c</th>\n      <th>group</th>\n      <th>predicted</th>\n    </tr>\n    <tr>\n      <th>subject</th>\n      <th></th>\n      <th></th>\n      <th></th>\n      <th></th>\n      <th></th>\n      <th></th>\n      <th></th>\n      <th></th>\n      <th></th>\n      <th></th>\n      <th></th>\n      <th></th>\n      <th></th>\n      <th></th>\n      <th></th>\n      <th></th>\n      <th></th>\n      <th></th>\n      <th></th>\n      <th></th>\n      <th></th>\n    </tr>\n  </thead>\n  <tbody>\n    <tr>\n      <th>21103</th>\n      <td>4</td>\n      <td>5</td>\n      <td>-1</td>\n      <td>6</td>\n      <td>5</td>\n      <td>14.078125</td>\n      <td>yes</td>\n      <td>0.120374</td>\n      <td>16</td>\n      <td>15</td>\n      <td>...</td>\n      <td>0.00</td>\n      <td>6.25</td>\n      <td>2.625000</td>\n      <td>16</td>\n      <td>12</td>\n      <td>13.343750</td>\n      <td>1.875000</td>\n      <td>0.016898</td>\n      <td>ex-paramilitaries</td>\n      <td>victims</td>\n    </tr>\n    <tr>\n      <th>22112</th>\n      <td>5</td>\n      <td>7</td>\n      <td>1</td>\n      <td>4</td>\n      <td>7</td>\n      <td>15.875000</td>\n      <td>no</td>\n      <td>0.156987</td>\n      <td>15</td>\n      <td>13</td>\n      <td>...</td>\n      <td>0.00</td>\n      <td>9.00</td>\n      <td>-0.890625</td>\n      <td>12</td>\n      <td>12</td>\n      <td>13.140625</td>\n      <td>-2.031250</td>\n      <td>0.030263</td>\n      <td>controls</td>\n      <td>victims</td>\n    </tr>\n    <tr>\n      <th>23005</th>\n      <td>9</td>\n      <td>8</td>\n      <td>0</td>\n      <td>4</td>\n      <td>8</td>\n      <td>13.468750</td>\n      <td>no</td>\n      <td>-0.198112</td>\n      <td>14</td>\n      <td>13</td>\n      <td>...</td>\n      <td>0.00</td>\n      <td>0.00</td>\n      <td>-0.703125</td>\n      <td>13</td>\n      <td>18</td>\n      <td>13.093750</td>\n      <td>-1.609375</td>\n      <td>0.113762</td>\n      <td>ex-paramilitaries</td>\n      <td>victims</td>\n    </tr>\n    <tr>\n      <th>21139</th>\n      <td>4</td>\n      <td>5</td>\n      <td>-1</td>\n      <td>5</td>\n      <td>5</td>\n      <td>14.656250</td>\n      <td>no</td>\n      <td>-0.449696</td>\n      <td>18</td>\n      <td>23</td>\n      <td>...</td>\n      <td>1.00</td>\n      <td>7.75</td>\n      <td>0.000000</td>\n      <td>19</td>\n      <td>15</td>\n      <td>15.968750</td>\n      <td>-3.468750</td>\n      <td>0.002874</td>\n      <td>ex-paramilitaries</td>\n      <td>controls</td>\n    </tr>\n    <tr>\n      <th>21134</th>\n      <td>5</td>\n      <td>5</td>\n      <td>1</td>\n      <td>6</td>\n      <td>5</td>\n      <td>18.765625</td>\n      <td>yes</td>\n      <td>-0.099490</td>\n      <td>15</td>\n      <td>18</td>\n      <td>...</td>\n      <td>3.25</td>\n      <td>9.75</td>\n      <td>-5.578125</td>\n      <td>18</td>\n      <td>11</td>\n      <td>11.890625</td>\n      <td>6.875000</td>\n      <td>0.016142</td>\n      <td>ex-paramilitaries</td>\n      <td>victims</td>\n    </tr>\n    <tr>\n      <th>21115</th>\n      <td>5</td>\n      <td>6</td>\n      <td>2</td>\n      <td>5</td>\n      <td>6</td>\n      <td>11.937500</td>\n      <td>no</td>\n      <td>-0.099458</td>\n      <td>13</td>\n      <td>13</td>\n      <td>...</td>\n      <td>0.50</td>\n      <td>5.25</td>\n      <td>0.906250</td>\n      <td>19</td>\n      <td>14</td>\n      <td>19.703125</td>\n      <td>-4.500000</td>\n      <td>0.020584</td>\n      <td>ex-guerrillas</td>\n      <td>controls</td>\n    </tr>\n    <tr>\n      <th>22108</th>\n      <td>5</td>\n      <td>6</td>\n      <td>2</td>\n      <td>5</td>\n      <td>6</td>\n      <td>17.812500</td>\n      <td>no</td>\n      <td>-0.519923</td>\n      <td>19</td>\n      <td>14</td>\n      <td>...</td>\n      <td>1.50</td>\n      <td>9.50</td>\n      <td>-3.718750</td>\n      <td>19</td>\n      <td>9</td>\n      <td>15.000000</td>\n      <td>-0.593750</td>\n      <td>0.011113</td>\n      <td>controls</td>\n      <td>ex-paramilitaries</td>\n    </tr>\n    <tr>\n      <th>21127</th>\n      <td>5</td>\n      <td>6</td>\n      <td>-2</td>\n      <td>6</td>\n      <td>5</td>\n      <td>12.734375</td>\n      <td>no</td>\n      <td>0.473664</td>\n      <td>9</td>\n      <td>12</td>\n      <td>...</td>\n      <td>2.25</td>\n      <td>0.50</td>\n      <td>-0.375000</td>\n      <td>19</td>\n      <td>8</td>\n      <td>15.140625</td>\n      <td>1.812500</td>\n      <td>0.005713</td>\n      <td>ex-paramilitaries</td>\n      <td>ex-guerrillas</td>\n    </tr>\n    <tr>\n      <th>24057</th>\n      <td>8</td>\n      <td>5</td>\n      <td>0</td>\n      <td>8</td>\n      <td>5</td>\n      <td>15.531250</td>\n      <td>yes</td>\n      <td>-0.183536</td>\n      <td>16</td>\n      <td>13</td>\n      <td>...</td>\n      <td>0.00</td>\n      <td>0.00</td>\n      <td>-3.625000</td>\n      <td>14</td>\n      <td>13</td>\n      <td>12.375000</td>\n      <td>3.984375</td>\n      <td>0.009817</td>\n      <td>victims</td>\n      <td>ex-paramilitaries</td>\n    </tr>\n    <tr>\n      <th>24043</th>\n      <td>5</td>\n      <td>8</td>\n      <td>-2</td>\n      <td>5</td>\n      <td>6</td>\n      <td>11.718750</td>\n      <td>yes</td>\n      <td>-0.171814</td>\n      <td>15</td>\n      <td>12</td>\n      <td>...</td>\n      <td>2.25</td>\n      <td>5.25</td>\n      <td>2.312500</td>\n      <td>17</td>\n      <td>15</td>\n      <td>13.703125</td>\n      <td>1.078125</td>\n      <td>0.028276</td>\n      <td>victims</td>\n      <td>ex-guerrillas</td>\n    </tr>\n    <tr>\n      <th>23012</th>\n      <td>5</td>\n      <td>6</td>\n      <td>2</td>\n      <td>6</td>\n      <td>6</td>\n      <td>13.140625</td>\n      <td>yes</td>\n      <td>0.410872</td>\n      <td>14</td>\n      <td>12</td>\n      <td>...</td>\n      <td>0.00</td>\n      <td>0.00</td>\n      <td>-0.125000</td>\n      <td>22</td>\n      <td>4</td>\n      <td>10.265625</td>\n      <td>2.578125</td>\n      <td>0.009909</td>\n      <td>ex-guerrillas</td>\n      <td>ex-paramilitaries</td>\n    </tr>\n    <tr>\n      <th>24014</th>\n      <td>5</td>\n      <td>5</td>\n      <td>0</td>\n      <td>5</td>\n      <td>6</td>\n      <td>13.968750</td>\n      <td>yes</td>\n      <td>0.057988</td>\n      <td>19</td>\n      <td>12</td>\n      <td>...</td>\n      <td>6.75</td>\n      <td>6.50</td>\n      <td>0.390625</td>\n      <td>16</td>\n      <td>14</td>\n      <td>22.968750</td>\n      <td>-8.406250</td>\n      <td>0.013685</td>\n      <td>victims</td>\n      <td>ex-guerrillas</td>\n    </tr>\n    <tr>\n      <th>22100</th>\n      <td>6</td>\n      <td>6</td>\n      <td>1</td>\n      <td>5</td>\n      <td>6</td>\n      <td>11.875000</td>\n      <td>no</td>\n      <td>-0.255470</td>\n      <td>8</td>\n      <td>12</td>\n      <td>...</td>\n      <td>2.75</td>\n      <td>3.50</td>\n      <td>2.390625</td>\n      <td>16</td>\n      <td>7</td>\n      <td>18.406250</td>\n      <td>-2.343750</td>\n      <td>0.039653</td>\n      <td>controls</td>\n      <td>ex-guerrillas</td>\n    </tr>\n    <tr>\n      <th>24003</th>\n      <td>5</td>\n      <td>6</td>\n      <td>0</td>\n      <td>6</td>\n      <td>5</td>\n      <td>14.703125</td>\n      <td>yes</td>\n      <td>0.235468</td>\n      <td>15</td>\n      <td>12</td>\n      <td>...</td>\n      <td>2.25</td>\n      <td>5.25</td>\n      <td>-0.781250</td>\n      <td>16</td>\n      <td>14</td>\n      <td>14.218750</td>\n      <td>0.859375</td>\n      <td>0.002002</td>\n      <td>victims</td>\n      <td>ex-paramilitaries</td>\n    </tr>\n    <tr>\n      <th>21111</th>\n      <td>5</td>\n      <td>5</td>\n      <td>-2</td>\n      <td>5</td>\n      <td>5</td>\n      <td>16.296875</td>\n      <td>yes</td>\n      <td>0.050145</td>\n      <td>13</td>\n      <td>15</td>\n      <td>...</td>\n      <td>2.25</td>\n      <td>3.00</td>\n      <td>0.984375</td>\n      <td>19</td>\n      <td>10</td>\n      <td>13.562500</td>\n      <td>4.234375</td>\n      <td>0.016154</td>\n      <td>ex-guerrillas</td>\n      <td>ex-paramilitaries</td>\n    </tr>\n    <tr>\n      <th>22102</th>\n      <td>5</td>\n      <td>5</td>\n      <td>-1</td>\n      <td>7</td>\n      <td>5</td>\n      <td>14.656250</td>\n      <td>no</td>\n      <td>0.244277</td>\n      <td>19</td>\n      <td>12</td>\n      <td>...</td>\n      <td>0.75</td>\n      <td>9.25</td>\n      <td>0.765625</td>\n      <td>13</td>\n      <td>8</td>\n      <td>12.921875</td>\n      <td>4.171875</td>\n      <td>0.007031</td>\n      <td>controls</td>\n      <td>victims</td>\n    </tr>\n    <tr>\n      <th>22117</th>\n      <td>7</td>\n      <td>5</td>\n      <td>0</td>\n      <td>5</td>\n      <td>6</td>\n      <td>15.046875</td>\n      <td>no</td>\n      <td>0.005284</td>\n      <td>19</td>\n      <td>13</td>\n      <td>...</td>\n      <td>0.00</td>\n      <td>8.75</td>\n      <td>-2.265625</td>\n      <td>18</td>\n      <td>18</td>\n      <td>16.953125</td>\n      <td>-5.000000</td>\n      <td>0.013986</td>\n      <td>controls</td>\n      <td>victims</td>\n    </tr>\n    <tr>\n      <th>21109</th>\n      <td>6</td>\n      <td>4</td>\n      <td>1</td>\n      <td>5</td>\n      <td>4</td>\n      <td>15.046875</td>\n      <td>yes</td>\n      <td>0.019508</td>\n      <td>13</td>\n      <td>13</td>\n      <td>...</td>\n      <td>3.00</td>\n      <td>8.00</td>\n      <td>1.562500</td>\n      <td>23</td>\n      <td>7</td>\n      <td>10.703125</td>\n      <td>2.234375</td>\n      <td>0.026186</td>\n      <td>ex-paramilitaries</td>\n      <td>ex-guerrillas</td>\n    </tr>\n    <tr>\n      <th>21118</th>\n      <td>5</td>\n      <td>5</td>\n      <td>0</td>\n      <td>5</td>\n      <td>7</td>\n      <td>19.281250</td>\n      <td>yes</td>\n      <td>-0.379185</td>\n      <td>17</td>\n      <td>15</td>\n      <td>...</td>\n      <td>0.00</td>\n      <td>9.50</td>\n      <td>-5.515625</td>\n      <td>16</td>\n      <td>17</td>\n      <td>16.328125</td>\n      <td>-2.421875</td>\n      <td>0.009398</td>\n      <td>ex-guerrillas</td>\n      <td>victims</td>\n    </tr>\n    <tr>\n      <th>22106</th>\n      <td>5</td>\n      <td>5</td>\n      <td>1</td>\n      <td>5</td>\n      <td>5</td>\n      <td>17.140625</td>\n      <td>yes</td>\n      <td>0.471916</td>\n      <td>17</td>\n      <td>14</td>\n      <td>...</td>\n      <td>3.25</td>\n      <td>7.50</td>\n      <td>-2.156250</td>\n      <td>9</td>\n      <td>15</td>\n      <td>14.734375</td>\n      <td>2.046875</td>\n      <td>0.005365</td>\n      <td>controls</td>\n      <td>victims</td>\n    </tr>\n    <tr>\n      <th>23007</th>\n      <td>6</td>\n      <td>5</td>\n      <td>2</td>\n      <td>5</td>\n      <td>5</td>\n      <td>13.296875</td>\n      <td>yes</td>\n      <td>0.163610</td>\n      <td>14</td>\n      <td>12</td>\n      <td>...</td>\n      <td>0.00</td>\n      <td>0.00</td>\n      <td>-0.468750</td>\n      <td>14</td>\n      <td>5</td>\n      <td>15.078125</td>\n      <td>2.468750</td>\n      <td>0.010288</td>\n      <td>ex-guerrillas</td>\n      <td>ex-paramilitaries</td>\n    </tr>\n    <tr>\n      <th>21131</th>\n      <td>5</td>\n      <td>6</td>\n      <td>-1</td>\n      <td>7</td>\n      <td>5</td>\n      <td>13.406250</td>\n      <td>yes</td>\n      <td>-0.115430</td>\n      <td>8</td>\n      <td>12</td>\n      <td>...</td>\n      <td>2.00</td>\n      <td>4.25</td>\n      <td>-2.609375</td>\n      <td>17</td>\n      <td>15</td>\n      <td>13.015625</td>\n      <td>0.406250</td>\n      <td>0.010857</td>\n      <td>ex-guerrillas</td>\n      <td>victims</td>\n    </tr>\n    <tr>\n      <th>21129</th>\n      <td>5</td>\n      <td>5</td>\n      <td>-1</td>\n      <td>5</td>\n      <td>5</td>\n      <td>15.531250</td>\n      <td>yes</td>\n      <td>0.328757</td>\n      <td>15</td>\n      <td>12</td>\n      <td>...</td>\n      <td>0.00</td>\n      <td>9.75</td>\n      <td>-3.687500</td>\n      <td>10</td>\n      <td>19</td>\n      <td>16.265625</td>\n      <td>-3.750000</td>\n      <td>0.043560</td>\n      <td>ex-paramilitaries</td>\n      <td>victims</td>\n    </tr>\n    <tr>\n      <th>21101</th>\n      <td>5</td>\n      <td>5</td>\n      <td>-1</td>\n      <td>5</td>\n      <td>5</td>\n      <td>17.062500</td>\n      <td>yes</td>\n      <td>-0.070836</td>\n      <td>13</td>\n      <td>26</td>\n      <td>...</td>\n      <td>1.25</td>\n      <td>9.50</td>\n      <td>-0.812500</td>\n      <td>25</td>\n      <td>6</td>\n      <td>18.015625</td>\n      <td>-3.671875</td>\n      <td>0.019552</td>\n      <td>ex-paramilitaries</td>\n      <td>ex-guerrillas</td>\n    </tr>\n    <tr>\n      <th>21105</th>\n      <td>6</td>\n      <td>6</td>\n      <td>1</td>\n      <td>6</td>\n      <td>4</td>\n      <td>14.843750</td>\n      <td>yes</td>\n      <td>0.258352</td>\n      <td>17</td>\n      <td>20</td>\n      <td>...</td>\n      <td>4.00</td>\n      <td>7.25</td>\n      <td>-0.812500</td>\n      <td>20</td>\n      <td>18</td>\n      <td>14.437500</td>\n      <td>4.468750</td>\n      <td>0.007524</td>\n      <td>ex-paramilitaries</td>\n      <td>victims</td>\n    </tr>\n    <tr>\n      <th>22116</th>\n      <td>6</td>\n      <td>4</td>\n      <td>0</td>\n      <td>6</td>\n      <td>7</td>\n      <td>12.609375</td>\n      <td>no</td>\n      <td>-0.702503</td>\n      <td>18</td>\n      <td>12</td>\n      <td>...</td>\n      <td>3.50</td>\n      <td>7.50</td>\n      <td>0.609375</td>\n      <td>21</td>\n      <td>7</td>\n      <td>17.968750</td>\n      <td>-2.953125</td>\n      <td>0.053891</td>\n      <td>controls</td>\n      <td>ex-guerrillas</td>\n    </tr>\n    <tr>\n      <th>22110</th>\n      <td>5</td>\n      <td>5</td>\n      <td>-1</td>\n      <td>5</td>\n      <td>5</td>\n      <td>12.296875</td>\n      <td>no</td>\n      <td>-0.335397</td>\n      <td>13</td>\n      <td>12</td>\n      <td>...</td>\n      <td>2.00</td>\n      <td>8.00</td>\n      <td>1.546875</td>\n      <td>23</td>\n      <td>8</td>\n      <td>15.953125</td>\n      <td>-4.015625</td>\n      <td>0.015858</td>\n      <td>controls</td>\n      <td>ex-guerrillas</td>\n    </tr>\n  </tbody>\n</table>\n<p>27 rows × 21 columns</p>\n</div>"
     },
     "execution_count": 13,
     "metadata": {},
     "output_type": "execute_result"
    }
   ],
   "source": [
    "datos_errados = pd.merge(df_errados, data, how='inner', left_index=True, right_index=True)\n",
    "datos_errados.rename(columns={'group_x':'group'}, inplace=True)\n",
    "variables = lista_atributos\n",
    "variables.append('group')\n",
    "variables.append('predicted')\n",
    "datos_errados = datos_errados[variables]\n",
    "datos_errados"
   ],
   "metadata": {
    "collapsed": false
   }
  },
  {
   "cell_type": "code",
   "execution_count": 14,
   "outputs": [],
   "source": [
    "datos_errados.to_csv('sujetos errados clasificación conectividad grupos sin demográficas ex2 score.csv')"
   ],
   "metadata": {
    "collapsed": false
   }
  },
  {
   "cell_type": "markdown",
   "source": [
    "# Prueba haciendo modificaciones al dataset propuestas por Natalia"
   ],
   "metadata": {
    "collapsed": false
   }
  },
  {
   "cell_type": "code",
   "execution_count": 2,
   "outputs": [
    {
     "name": "stdout",
     "output_type": "stream",
     "text": [
      "<class 'pandas.core.frame.DataFrame'>\n",
      "Int64Index: 91 entries, 21100 to 24101\n",
      "Columns: 146 entries, diameter_ac to IH\n",
      "dtypes: float64(120), int64(21), object(5)\n",
      "memory usage: 104.5+ KB\n"
     ]
    }
   ],
   "source": [
    "data = pd.read_csv('medidas_conectividad_globales_comportamentales_demograficos_2.csv')\n",
    "data.set_index('subject', inplace=True)\n",
    "data = data.drop(columns=['group','IAT_score_ind','IAT_score_level','dscore_1','dscore_2','dscore_3','dscore_5','dscore_6','dscore_7','dscore_8','modo_0','modo_1','modo_2'], axis=1)\n",
    "data.info()"
   ],
   "metadata": {
    "collapsed": false
   }
  },
  {
   "cell_type": "code",
   "execution_count": 7,
   "outputs": [],
   "source": [
    "# cambio tipo de actor sujeto 22106\n",
    "data.at[22106,'type'] = 'controls'\n",
    "data.loc[22106]"
   ],
   "metadata": {
    "collapsed": false
   }
  },
  {
   "cell_type": "code",
   "execution_count": 0,
   "outputs": [],
   "source": [
    "# Imputación de datos\n",
    "# Datos ordinales se imputan con la mediana del grupo redondeada, datos nominales con el más frecuente del grupo\n",
    "data['IRI_PT'].fillna(data.groupby('type')['IRI_PT'].transform(lambda x: np.around(x.median())), inplace=True)\n",
    "data['IRI_PD'].fillna(data.groupby('type')['IRI_PD'].transform(lambda x: np.around(x.median())), inplace=True)\n",
    "data['IRI_EC'].fillna(data.groupby('type')['IRI_EC'].transform(lambda x: np.around(x.median())), inplace=True)\n",
    "data['IRI_FS'].fillna(data.groupby('type')['IRI_FS'].transform(lambda x: np.around(x.median())), inplace=True)\n",
    "data['IMA'].fillna(data.groupby('type')['IMA'].transform(lambda x: np.around(x.median())), inplace=True)\n",
    "data['RPQ AR'].fillna(data.groupby('type')['RPQ AR'].transform(lambda x: np.around(x.median())), inplace=True)\n",
    "data['RPQ AP'].fillna(data.groupby('type')['RPQ AP'].transform(lambda x: np.around(x.median())), inplace=True)\n",
    "data['victims_self'].fillna(method='backfill', inplace=True)\n",
    "\n",
    "data[['IRI_PT', 'IRI_FS', 'IRI_EC', 'IRI_PD', 'IMA', 'RPQ AR', 'RPQ AP']] = data[['IRI_PT', 'IRI_FS', 'IRI_EC', 'IRI_PD', 'IMA', 'RPQ AR', 'RPQ AP']].astype('int64')\n",
    "\n",
    "# La variable de salida son los tipos de actores\n",
    "X= data.drop(['type'], axis=1).copy()\n",
    "y = data['type'].copy()\n",
    "\n",
    "# codificación variables binarias\n",
    "X['victims_self'] = pd.factorize(X['victims_self'])[0]\n",
    "X['exposure_level'] = pd.factorize(X['exposure_level'])[0]\n",
    "X['gender'] = pd.factorize(X['gender'])[0]\n",
    "X['laterality'] = pd.factorize(X['laterality'])[0]\n",
    "X.info()"
   ],
   "metadata": {
    "collapsed": false
   }
  },
  {
   "cell_type": "code",
   "execution_count": 37,
   "outputs": [
    {
     "name": "stdout",
     "output_type": "stream",
     "text": [
      "['max_degree_b1d', 'max_degree_b2c', 'max_degree_b2i', 'max_degree_gi', 'mean_eccentricity_ac', 'mean_eccentricity_b2i', 'mean_eccentricity_b2d', 'mean_eccentricity_gc', 'mean_eccentricity_gd', 'exposure_level', 'EX2_score', 'school_years', 'gender', 'IRI_PT', 'IRI_EC', 'RPQ AP', 'TD', 'AN', 'AL', 'mean_eccentricity_ti', 'IRI_PD', 'RPQ AR', 'victims_self']\n"
     ]
    }
   ],
   "source": [
    "# Selección de características\n",
    "# Por selección por modelos\n",
    "# SVC\n",
    "from sklearn.svm import LinearSVC\n",
    "from sklearn.feature_selection import SelectFromModel\n",
    "lsvc = LinearSVC(random_state=72).fit(X, y)\n",
    "model = SelectFromModel(lsvc, threshold='2*mean', prefit=True)\n",
    "X_new = model.transform(X)\n",
    "features_lsvc = model.get_feature_names_out(input_features=X.columns)\n",
    "features_svc = pd.DataFrame(data=np.ones_like(features_lsvc), columns=['features_lsvc'], index=features_lsvc)\n",
    "\n",
    "# regresión logística l2\n",
    "from sklearn.linear_model import LogisticRegression\n",
    "from sklearn.feature_selection import SelectFromModel\n",
    "lr = LogisticRegression(penalty=\"l2\", solver='saga', max_iter=10000, random_state=72).fit(X,y)\n",
    "model = SelectFromModel(lr, threshold='2*mean', prefit=True)\n",
    "X_new = model.transform(X)\n",
    "features_lrl2 = model.get_feature_names_out(input_features=X.columns)\n",
    "features_l2 = pd.DataFrame(data=np.ones_like(features_lrl2), columns=['features_lrl2'], index=features_lrl2)\n",
    "\n",
    "# regresión logística l1\n",
    "from sklearn.linear_model import LogisticRegression\n",
    "from sklearn.feature_selection import SelectFromModel\n",
    "lr = LogisticRegression(penalty=\"l1\", solver='saga', max_iter=10000, random_state=72).fit(X,y)\n",
    "model = SelectFromModel(lr, threshold='2*mean', prefit=True)\n",
    "X_new = model.transform(X)\n",
    "features_lrl1 = model.get_feature_names_out(input_features=X.columns)\n",
    "features_l1 = pd.DataFrame(data=np.ones_like(features_lrl1), columns=['features_lrl1'], index=features_lrl1)\n",
    "\n",
    "# random forest\n",
    "from sklearn.ensemble import RandomForestClassifier\n",
    "from sklearn.feature_selection import SelectFromModel\n",
    "rf = RandomForestClassifier(random_state=72).fit(X,y)\n",
    "model = SelectFromModel(rf, threshold='1.5*mean', prefit=True)\n",
    "X_new = model.transform(X)\n",
    "features_rf = model.get_feature_names_out(input_features=X.columns)\n",
    "features_rfo = pd.DataFrame(data=np.ones_like(features_rf), columns=['features_rf'], index=features_rf)\n",
    "\n",
    "# anova\n",
    "from sklearn.feature_selection import f_classif\n",
    "__, p_values = f_classif(X,y)\n",
    "features_anova = pd.DataFrame(p_values, columns=['p_values'], index=X.columns)\n",
    "features_anova = features_anova[features_anova['p_values']<0.05]\n",
    "features_anova['features_an'] = 1\n",
    "\n",
    "# información mutua\n",
    "from sklearn.feature_selection import mutual_info_classif\n",
    "mi = mutual_info_classif(X, y)\n",
    "features_mi = pd.DataFrame(mi, columns=['mutual information'], index=X.columns)\n",
    "features_mi = features_mi[features_mi['mutual information']>0.1]\n",
    "features_mi['features_im'] = 1\n",
    "\n",
    "# atributos seleccionados\n",
    "features_sel = features_svc.join([features_l2, features_l1, features_rfo, features_anova, features_mi], how='outer')\n",
    "features_sel.drop(['p_values','mutual information'], axis=1, inplace=True)\n",
    "features_sel['total'] = features_sel.sum(axis=1)\n",
    "features_sel = features_sel[features_sel['total']>=3]\n",
    "lista_atributos = list(features_sel.index)\n",
    "print(lista_atributos)"
   ],
   "metadata": {
    "collapsed": false
   }
  },
  {
   "cell_type": "code",
   "execution_count": 38,
   "outputs": [
    {
     "data": {
      "text/plain": "(72, 23)"
     },
     "execution_count": 38,
     "metadata": {},
     "output_type": "execute_result"
    }
   ],
   "source": [
    "X_sel = X[lista_atributos].copy()\n",
    "X_train, X_test, y_train, y_test = train_test_split(X_sel, y, test_size=0.2, random_state=77, stratify=y)\n",
    "X_train.shape"
   ],
   "metadata": {
    "collapsed": false
   }
  },
  {
   "cell_type": "code",
   "execution_count": 17,
   "outputs": [
    {
     "data": {
      "text/plain": "  0%|          | 0/20 [00:00<?, ?it/s]",
      "application/vnd.jupyter.widget-view+json": {
       "version_major": 2,
       "version_minor": 0,
       "model_id": "81c683cb59c948ab9f171ebda239f3e4"
      }
     },
     "metadata": {},
     "output_type": "display_data"
    },
    {
     "name": "stdout",
     "output_type": "stream",
     "text": [
      "best parameters: {'colsample_bytree': 0.4038166961694294, 'eta': 0.25914711587802153, 'max_depth': 9, 'n_estimators': 47, 'subsample': 0.6888406003092017}\n",
      "best accuracy: 0.9152380952380952\n",
      "0.9152380952380952 0.08348421714594716\n",
      "0.7894736842105263\n"
     ]
    }
   ],
   "source": [
    "## XG Boosting\n",
    "from sklearn.preprocessing import LabelEncoder\n",
    "y_train_label = LabelEncoder().fit_transform(y_train)\n",
    "y_test_label = LabelEncoder().fit_transform(y_test)\n",
    "param_space =dict(n_estimators=range(1,100), max_depth=range(3,10), subsample=uniform(0.1,0.9), eta=uniform(0,1), colsample_bytree=uniform(0.1,0.9))\n",
    "@scheduler.parallel(n_jobs=-1)\n",
    "def objective(**params):\n",
    "    global X_train, y_train\n",
    "    model = XGBClassifier(**params)\n",
    "    error= cross_val_score(estimator = model, X= X_train, y= y_train_label, scoring='accuracy', cv=5).mean()\n",
    "    return error\n",
    "tuner = Tuner(param_space, objective)\n",
    "best_results = tuner.maximize()\n",
    "print('best parameters:', best_results['best_params'])\n",
    "print('best accuracy:', best_results['best_objective'])\n",
    "\n",
    "params = best_results['best_params']\n",
    "model = XGBClassifier(**params)\n",
    "scores = cross_val_score(estimator = model, X= X_train, y= y_train_label, scoring='accuracy', cv=5)\n",
    "print(scores.mean(), scores.std())\n",
    "model.fit(X_train, y_train_label)\n",
    "print(model.score(X_test, y_test_label))"
   ],
   "metadata": {
    "collapsed": false
   }
  },
  {
   "cell_type": "code",
   "execution_count": 18,
   "outputs": [
    {
     "data": {
      "text/plain": "  0%|          | 0/20 [00:00<?, ?it/s]",
      "application/vnd.jupyter.widget-view+json": {
       "version_major": 2,
       "version_minor": 0,
       "model_id": "cc9e2335c41a400fab0e846ba5cb72cd"
      }
     },
     "metadata": {},
     "output_type": "display_data"
    },
    {
     "name": "stdout",
     "output_type": "stream",
     "text": [
      "best parameters: {'colsample_bytree': 0.8589403000388333, 'eta': 0.10498347170421485, 'max_depth': 8, 'n_estimators': 52, 'subsample': 0.46627176177001706}\n",
      "best accuracy: 0.9295238095238094\n",
      "0.9295238095238094 0.06391604470690485\n",
      "0.7894736842105263\n"
     ]
    }
   ],
   "source": [
    "# con standard scaler\n",
    "param_space =dict(n_estimators=range(1,100), max_depth=range(3,10), subsample=uniform(0.1,0.9), eta=uniform(0,1), colsample_bytree=uniform(0.1,0.9))\n",
    "@scheduler.parallel(n_jobs=-1)\n",
    "def objective(**params):\n",
    "    global X_train, y_train_label\n",
    "    numeric_cols = X_train.select_dtypes(include=['float64','int64']).columns.to_list()\n",
    "    preprocessor = ColumnTransformer([('scale', StandardScaler(), numeric_cols)], remainder='passthrough')\n",
    "    pipe = Pipeline([('preprocessing', preprocessor),('model', XGBClassifier(**params))])\n",
    "    error = cross_val_score(estimator = pipe, X= X_train, y= y_train_label, scoring='accuracy', cv=5).mean()\n",
    "    return error\n",
    "tuner = Tuner(param_space, objective)\n",
    "best_results = tuner.maximize()\n",
    "print('best parameters:', best_results['best_params'])\n",
    "print('best accuracy:', best_results['best_objective'])\n",
    "\n",
    "params = best_results['best_params']\n",
    "numeric_cols = X_train.select_dtypes(include=['float64','int64']).columns.to_list()\n",
    "preprocessor = ColumnTransformer([('scale', StandardScaler(), numeric_cols)], remainder='passthrough')\n",
    "pipe = Pipeline([('preprocessing', preprocessor),('model', XGBClassifier(**params))])\n",
    "scores = cross_val_score(estimator = pipe, X= X_train, y= y_train_label, scoring='accuracy', cv=5)\n",
    "print(scores.mean(), scores.std())\n",
    "pipe.fit(X_train, y_train_label)\n",
    "print(pipe.score(X_test, y_test_label))"
   ],
   "metadata": {
    "collapsed": false
   }
  },
  {
   "cell_type": "code",
   "execution_count": 19,
   "outputs": [
    {
     "data": {
      "text/plain": "  0%|          | 0/20 [00:00<?, ?it/s]",
      "application/vnd.jupyter.widget-view+json": {
       "version_major": 2,
       "version_minor": 0,
       "model_id": "ed5c5cbf8cbc412dbbde85dcb1d2a402"
      }
     },
     "metadata": {},
     "output_type": "display_data"
    },
    {
     "name": "stdout",
     "output_type": "stream",
     "text": [
      "best parameters: {'colsample_bytree': 0.3852270726188255, 'eta': 0.8289342011926254, 'max_depth': 4, 'n_estimators': 86, 'subsample': 0.4810409702671835}\n",
      "best accuracy: 0.9047619047619048\n",
      "0.9047619047619048 0.0898979012717273\n",
      "0.7894736842105263\n"
     ]
    }
   ],
   "source": [
    "# con standard_scaler y min_max_scaler\n",
    "param_space =dict(n_estimators=range(1,100), max_depth=range(3,10), subsample=uniform(0.1,0.9), eta=uniform(0,1), colsample_bytree=uniform(0.1,0.9))\n",
    "@scheduler.parallel(n_jobs=-1)\n",
    "def objective(**params):\n",
    "    global X_train, y_train_label\n",
    "    continuas_cols = X_train.select_dtypes(include=['float64']).columns.to_list()\n",
    "    discretas_cols = X_train.select_dtypes(include=['int64']).columns.to_list()\n",
    "    preprocessor = ColumnTransformer([('scaler', StandardScaler(), continuas_cols), ('min_max', MinMaxScaler(), discretas_cols)], remainder='passthrough')\n",
    "    pipe = Pipeline([('preprocessing', preprocessor),('model', XGBClassifier(**params))])\n",
    "    error = cross_val_score(estimator = pipe, X= X_train, y= y_train_label, scoring='accuracy', cv=5).mean()\n",
    "    return error\n",
    "tuner = Tuner(param_space, objective)\n",
    "best_results = tuner.maximize()\n",
    "print('best parameters:', best_results['best_params'])\n",
    "print('best accuracy:', best_results['best_objective'])\n",
    "\n",
    "params = best_results['best_params']\n",
    "continuas_cols = X_train.select_dtypes(include=['float64']).columns.to_list()\n",
    "discretas_cols = X_train.select_dtypes(include=['int64']).columns.to_list()\n",
    "preprocessor = ColumnTransformer([('scaler', StandardScaler(), continuas_cols), ('min_max', MinMaxScaler(), discretas_cols)], remainder='passthrough')\n",
    "pipe = Pipeline([('preprocessing', preprocessor),('model', XGBClassifier(**params))])\n",
    "scores = cross_val_score(estimator = pipe, X= X_train, y= y_train_label, scoring='accuracy', cv=5)\n",
    "print(scores.mean(), scores.std())\n",
    "pipe.fit(X_train, y_train_label)\n",
    "print(pipe.score(X_test, y_test_label))"
   ],
   "metadata": {
    "collapsed": false
   }
  },
  {
   "cell_type": "code",
   "execution_count": 20,
   "outputs": [
    {
     "data": {
      "text/plain": "  0%|          | 0/20 [00:00<?, ?it/s]",
      "application/vnd.jupyter.widget-view+json": {
       "version_major": 2,
       "version_minor": 0,
       "model_id": "0f49e08503a24d539ddbc6a4141d9154"
      }
     },
     "metadata": {},
     "output_type": "display_data"
    },
    {
     "name": "stdout",
     "output_type": "stream",
     "text": [
      "best parameters: {'colsample_bytree': 0.5040016234611927, 'eta': 0.17915533213844959, 'max_depth': 8, 'n_estimators': 45, 'subsample': 0.49924545178281066}\n",
      "best accuracy: 0.9152380952380952\n",
      "0.9152380952380952 0.08348421714594716\n",
      "0.7894736842105263\n"
     ]
    }
   ],
   "source": [
    "# con power transformer y min_max_scaler\n",
    "param_space =dict(n_estimators=range(1,100), max_depth=range(3,10), subsample=uniform(0.1,0.9), eta=uniform(0,1), colsample_bytree=uniform(0.1,0.9))\n",
    "@scheduler.parallel(n_jobs=-1)\n",
    "def objective(**params):\n",
    "    global X_train, y_train_label\n",
    "    continuas_cols = X_train.select_dtypes(include=['float64']).columns.to_list()\n",
    "    discretas_cols = X_train.select_dtypes(include=['int64']).columns.to_list()\n",
    "    preprocessor = ColumnTransformer([('pt', PowerTransformer(), continuas_cols), ('min_max', MinMaxScaler(), discretas_cols)], remainder='passthrough')\n",
    "    pipe = Pipeline([('preprocessing', preprocessor),('model', XGBClassifier(**params))])\n",
    "    error = cross_val_score(estimator = pipe, X= X_train, y= y_train_label, scoring='accuracy', cv=5).mean()\n",
    "    return error\n",
    "tuner = Tuner(param_space, objective)\n",
    "best_results = tuner.maximize()\n",
    "print('best parameters:', best_results['best_params'])\n",
    "print('best accuracy:', best_results['best_objective'])\n",
    "\n",
    "params = best_results['best_params']\n",
    "continuas_cols = X_train.select_dtypes(include=['float64']).columns.to_list()\n",
    "discretas_cols = X_train.select_dtypes(include=['int64']).columns.to_list()\n",
    "preprocessor = ColumnTransformer([('pt', PowerTransformer(), continuas_cols), ('min_max', MinMaxScaler(), discretas_cols)], remainder='passthrough')\n",
    "pipe = Pipeline([('preprocessing', preprocessor),('model', XGBClassifier(**params))])\n",
    "scores = cross_val_score(estimator = pipe, X= X_train, y= y_train_label, scoring='accuracy', cv=5)\n",
    "print(scores.mean(), scores.std())\n",
    "pipe.fit(X_train, y_train_label)\n",
    "print(pipe.score(X_test, y_test_label))"
   ],
   "metadata": {
    "collapsed": false
   }
  },
  {
   "cell_type": "code",
   "execution_count": 21,
   "outputs": [
    {
     "name": "stdout",
     "output_type": "stream",
     "text": [
      "0.9295238095238094 0.06391604470690485\n",
      "0.7894736842105263\n"
     ]
    }
   ],
   "source": [
    "# Nejor modelo\n",
    "params = {'colsample_bytree': 0.8589403000388333, 'eta': 0.10498347170421485, 'max_depth': 8, 'n_estimators': 52, 'subsample': 0.46627176177001706}\n",
    "numeric_cols = X_train.select_dtypes(include=['float64','int64']).columns.to_list()\n",
    "preprocessor = ColumnTransformer([('scale', StandardScaler(), numeric_cols)], remainder='passthrough')\n",
    "pipe = Pipeline([('preprocessing', preprocessor),('model', XGBClassifier(**params))])\n",
    "scores = cross_val_score(estimator = pipe, X= X_train, y= y_train_label, scoring='accuracy', cv=5)\n",
    "print(scores.mean(), scores.std())\n",
    "pipe.fit(X_train, y_train_label)\n",
    "print(pipe.score(X_test, y_test_label))"
   ],
   "metadata": {
    "collapsed": false
   }
  },
  {
   "cell_type": "code",
   "execution_count": 22,
   "outputs": [
    {
     "data": {
      "text/plain": "                       mean importance\nEX2_score                     0.151648\nIRI_PT                        0.080220\ngender                        0.040659\nIRI_EC                        0.038462\nmean_eccentricity_ti          0.021978\nmean_eccentricity_b2i         0.016484\nschool_years                  0.014286\nIRI_PD                        0.013187\nmean_eccentricity_gc          0.012088\nmean_eccentricity_b2d         0.008791\nAL                            0.008791\nvictims_self                  0.007692\nRPQ AR                        0.001099\nmax_degree_b2c                0.000000\nexposure_level                0.000000\nmean_eccentricity_gd          0.000000\nRPQ AP                        0.000000\nTD                            0.000000\nAN                            0.000000\nmean_eccentricity_ac          0.000000\nmax_degree_gi                 0.000000\nmax_degree_b2i                0.000000\nmax_degree_b1d                0.000000",
      "text/html": "<div>\n<style scoped>\n    .dataframe tbody tr th:only-of-type {\n        vertical-align: middle;\n    }\n\n    .dataframe tbody tr th {\n        vertical-align: top;\n    }\n\n    .dataframe thead th {\n        text-align: right;\n    }\n</style>\n<table border=\"1\" class=\"dataframe\">\n  <thead>\n    <tr style=\"text-align: right;\">\n      <th></th>\n      <th>mean importance</th>\n    </tr>\n  </thead>\n  <tbody>\n    <tr>\n      <th>EX2_score</th>\n      <td>0.151648</td>\n    </tr>\n    <tr>\n      <th>IRI_PT</th>\n      <td>0.080220</td>\n    </tr>\n    <tr>\n      <th>gender</th>\n      <td>0.040659</td>\n    </tr>\n    <tr>\n      <th>IRI_EC</th>\n      <td>0.038462</td>\n    </tr>\n    <tr>\n      <th>mean_eccentricity_ti</th>\n      <td>0.021978</td>\n    </tr>\n    <tr>\n      <th>mean_eccentricity_b2i</th>\n      <td>0.016484</td>\n    </tr>\n    <tr>\n      <th>school_years</th>\n      <td>0.014286</td>\n    </tr>\n    <tr>\n      <th>IRI_PD</th>\n      <td>0.013187</td>\n    </tr>\n    <tr>\n      <th>mean_eccentricity_gc</th>\n      <td>0.012088</td>\n    </tr>\n    <tr>\n      <th>mean_eccentricity_b2d</th>\n      <td>0.008791</td>\n    </tr>\n    <tr>\n      <th>AL</th>\n      <td>0.008791</td>\n    </tr>\n    <tr>\n      <th>victims_self</th>\n      <td>0.007692</td>\n    </tr>\n    <tr>\n      <th>RPQ AR</th>\n      <td>0.001099</td>\n    </tr>\n    <tr>\n      <th>max_degree_b2c</th>\n      <td>0.000000</td>\n    </tr>\n    <tr>\n      <th>exposure_level</th>\n      <td>0.000000</td>\n    </tr>\n    <tr>\n      <th>mean_eccentricity_gd</th>\n      <td>0.000000</td>\n    </tr>\n    <tr>\n      <th>RPQ AP</th>\n      <td>0.000000</td>\n    </tr>\n    <tr>\n      <th>TD</th>\n      <td>0.000000</td>\n    </tr>\n    <tr>\n      <th>AN</th>\n      <td>0.000000</td>\n    </tr>\n    <tr>\n      <th>mean_eccentricity_ac</th>\n      <td>0.000000</td>\n    </tr>\n    <tr>\n      <th>max_degree_gi</th>\n      <td>0.000000</td>\n    </tr>\n    <tr>\n      <th>max_degree_b2i</th>\n      <td>0.000000</td>\n    </tr>\n    <tr>\n      <th>max_degree_b1d</th>\n      <td>0.000000</td>\n    </tr>\n  </tbody>\n</table>\n</div>"
     },
     "execution_count": 22,
     "metadata": {},
     "output_type": "execute_result"
    }
   ],
   "source": [
    "# Análisis de relevancia\n",
    "from sklearn.inspection import permutation_importance\n",
    "y_label = LabelEncoder().fit_transform(y)\n",
    "model = pipe.fit(X_sel, y_label)\n",
    "r = permutation_importance(model, X_sel, y_label,n_repeats=10,random_state=0, scoring='accuracy')\n",
    "importancia_atributos = pd.DataFrame(data=[r.importances_mean], columns=X_sel.columns, index=['mean importance']).transpose()\n",
    "importancia_atributos.sort_values(by='mean importance', ascending=False)"
   ],
   "metadata": {
    "collapsed": false
   }
  },
  {
   "cell_type": "code",
   "execution_count": 24,
   "outputs": [],
   "source": [
    "importancia_atributos.to_csv('importancia atributos clasificación grupos conectividad Natalia.csv', index_label='feature')"
   ],
   "metadata": {
    "collapsed": false
   }
  },
  {
   "cell_type": "code",
   "execution_count": 26,
   "outputs": [
    {
     "data": {
      "text/plain": "                 type     predicted\nsubject                            \n21137    ex-combatant      controls\n24027         victims  ex-combatant\n24003         victims  ex-combatant\n21100    ex-combatant       victims\n22108        controls  ex-combatant\n22106        controls       victims\n24045         victims  ex-combatant\n22110        controls  ex-combatant",
      "text/html": "<div>\n<style scoped>\n    .dataframe tbody tr th:only-of-type {\n        vertical-align: middle;\n    }\n\n    .dataframe tbody tr th {\n        vertical-align: top;\n    }\n\n    .dataframe thead th {\n        text-align: right;\n    }\n</style>\n<table border=\"1\" class=\"dataframe\">\n  <thead>\n    <tr style=\"text-align: right;\">\n      <th></th>\n      <th>type</th>\n      <th>predicted</th>\n    </tr>\n    <tr>\n      <th>subject</th>\n      <th></th>\n      <th></th>\n    </tr>\n  </thead>\n  <tbody>\n    <tr>\n      <th>21137</th>\n      <td>ex-combatant</td>\n      <td>controls</td>\n    </tr>\n    <tr>\n      <th>24027</th>\n      <td>victims</td>\n      <td>ex-combatant</td>\n    </tr>\n    <tr>\n      <th>24003</th>\n      <td>victims</td>\n      <td>ex-combatant</td>\n    </tr>\n    <tr>\n      <th>21100</th>\n      <td>ex-combatant</td>\n      <td>victims</td>\n    </tr>\n    <tr>\n      <th>22108</th>\n      <td>controls</td>\n      <td>ex-combatant</td>\n    </tr>\n    <tr>\n      <th>22106</th>\n      <td>controls</td>\n      <td>victims</td>\n    </tr>\n    <tr>\n      <th>24045</th>\n      <td>victims</td>\n      <td>ex-combatant</td>\n    </tr>\n    <tr>\n      <th>22110</th>\n      <td>controls</td>\n      <td>ex-combatant</td>\n    </tr>\n  </tbody>\n</table>\n</div>"
     },
     "execution_count": 26,
     "metadata": {},
     "output_type": "execute_result"
    }
   ],
   "source": [
    "# Extracción sujetos mal clasificados\n",
    "from sklearn.model_selection import StratifiedKFold\n",
    "skf = StratifiedKFold(n_splits=5)\n",
    "\n",
    "le = LabelEncoder()\n",
    "le.fit(y_train)\n",
    "y_train_label = le.fit_transform(y_train)\n",
    "y_test_label = le.fit_transform(y_test)\n",
    "model = pipe.fit(X_train, y_train_label)\n",
    "\n",
    "df_errados = pd.DataFrame(columns=['predicted'])\n",
    "# errores dataset de entrenamiento\n",
    "for i, (train_index, test_index) in enumerate(skf.split(X_train, y_train_label)):\n",
    "    model.fit(X_train.iloc[train_index], y_train_label[train_index])\n",
    "    y_est = model.predict(X_train.iloc[test_index])\n",
    "    errado = test_index[y_train_label[test_index] != y_est]\n",
    "    y_pred = le.inverse_transform(y_est)\n",
    "    y_p_df = pd.DataFrame(data=(y_pred), index=test_index, columns=['predicted'])\n",
    "    errado_idx = pd.Index(errado)\n",
    "    y_errados = y_p_df.loc[errado_idx].copy()\n",
    "    df_errados = pd.concat([df_errados, y_errados], ignore_index=False)\n",
    "y_t = y_train.reset_index().copy()\n",
    "df_errados = pd.merge(y_t, df_errados, how='inner', left_index=True, right_index=True)\n",
    "df_errados.set_index('subject', inplace=True)\n",
    "\n",
    "# errores dataset de prueba\n",
    "y_test_pred = model.predict(X_test)\n",
    "y_test_pred = le.inverse_transform(y_test_pred)\n",
    "y_test_pred_df = pd.DataFrame(data=y_test_pred, index=y_test.index, columns=['predicted'])\n",
    "test_errados_df = pd.merge(y_test, y_test_pred_df, left_index=True, right_index=True)\n",
    "test_errados_df = test_errados_df[test_errados_df['type'] != test_errados_df['predicted']]\n",
    "\n",
    "df_errados = pd.concat([df_errados, test_errados_df], ignore_index=False)\n",
    "df_errados"
   ],
   "metadata": {
    "collapsed": false
   }
  },
  {
   "cell_type": "code",
   "execution_count": 0,
   "outputs": [],
   "source": [
    "datos_errados = pd.merge(df_errados, data, how='inner', left_index=True, right_index=True)\n",
    "datos_errados.rename(columns={'type_x':'type'}, inplace=True)\n",
    "variables = lista_atributos\n",
    "variables.append('type')\n",
    "variables.append('predicted')\n",
    "print(variables)\n",
    "datos_errados = datos_errados[variables]\n",
    "datos_errados.head()"
   ],
   "metadata": {
    "collapsed": false
   }
  },
  {
   "cell_type": "code",
   "execution_count": 42,
   "outputs": [],
   "source": [
    "datos_errados.to_csv('sujetos errados clasificación conectividad grupos Natalia.csv')"
   ],
   "metadata": {
    "collapsed": false
   }
  },
  {
   "cell_type": "code",
   "execution_count": null,
   "outputs": [],
   "source": [],
   "metadata": {
    "collapsed": false
   }
  }
 ],
 "metadata": {
  "kernelspec": {
   "display_name": "Python 3",
   "language": "python",
   "name": "python3"
  },
  "language_info": {
   "codemirror_mode": {
    "name": "ipython",
    "version": 2
   },
   "file_extension": ".py",
   "mimetype": "text/x-python",
   "name": "python",
   "nbconvert_exporter": "python",
   "pygments_lexer": "ipython2",
   "version": "2.7.6"
  }
 },
 "nbformat": 4,
 "nbformat_minor": 0
}
