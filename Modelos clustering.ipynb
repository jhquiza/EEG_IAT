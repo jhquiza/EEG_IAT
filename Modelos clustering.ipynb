{
 "cells": [
  {
   "cell_type": "code",
   "execution_count": 1,
   "metadata": {
    "collapsed": true
   },
   "outputs": [],
   "source": [
    "import numpy as np\n",
    "import pandas as pd\n",
    "from sklearn.preprocessing import StandardScaler, MinMaxScaler, PowerTransformer\n",
    "from sklearn.compose import ColumnTransformer\n",
    "from sklearn.decomposition import PCA\n",
    "from sklearn.pipeline import Pipeline\n",
    "from sklearn.cluster import KMeans, SpectralClustering\n",
    "from sklearn.mixture import GaussianMixture\n",
    "from sklearn.metrics import silhouette_score, calinski_harabasz_score, davies_bouldin_score\n",
    "from mango import Tuner, scheduler\n",
    "import matplotlib.pyplot as plt\n",
    "%matplotlib qt5"
   ]
  },
  {
   "cell_type": "code",
   "execution_count": 2,
   "outputs": [
    {
     "name": "stdout",
     "output_type": "stream",
     "text": [
      "<class 'pandas.core.frame.DataFrame'>\n",
      "Int64Index: 88 entries, 21100 to 24101\n",
      "Data columns (total 10 columns):\n",
      " #   Column                 Non-Null Count  Dtype  \n",
      "---  ------                 --------------  -----  \n",
      " 0   EX2_score              88 non-null     int64  \n",
      " 1   IRI_PT                 88 non-null     float64\n",
      " 2   gender                 88 non-null     object \n",
      " 3   IRI_EC                 88 non-null     float64\n",
      " 4   mean_eccentricity_ti   88 non-null     float64\n",
      " 5   mean_eccentricity_b2i  88 non-null     float64\n",
      " 6   school_years           88 non-null     int64  \n",
      " 7   mean_eccentricity_b2d  88 non-null     float64\n",
      " 8   AL                     88 non-null     float64\n",
      " 9   victims_self           88 non-null     object \n",
      "dtypes: float64(6), int64(2), object(2)\n",
      "memory usage: 7.6+ KB\n"
     ]
    }
   ],
   "source": [
    "data = pd.read_csv('medidas_conectividad_globales_comportamentales_demograficos_2.csv')\n",
    "data.set_index('subject', inplace=True)\n",
    "# variables más importantes según modelos de clasificación\n",
    "data = data[['EX2_score', 'IRI_PT', 'gender', 'IRI_EC', 'mean_eccentricity_ti', 'mean_eccentricity_b2i', 'school_years', 'mean_eccentricity_b2d', 'AL', 'victims_self']]\n",
    "# eliminación de sujetos con datos incompletos\n",
    "data.dropna(inplace=True)\n",
    "df = data.copy()\n",
    "# codificación de variables categóricas\n",
    "data = pd.get_dummies(data)\n",
    "data.info()"
   ],
   "metadata": {
    "collapsed": false
   }
  },
  {
   "cell_type": "code",
   "execution_count": 4,
   "outputs": [],
   "source": [
    "# normalización de datos con standard escaler\n",
    "continuas_cols = data.select_dtypes(include=['float64']).columns.to_list()\n",
    "discretas_cols = data.select_dtypes(include=['int64']).columns.to_list()\n",
    "preprocessor = ColumnTransformer([('scaler', StandardScaler(), continuas_cols), ('min_max', MinMaxScaler(), discretas_cols)], remainder='passthrough')\n",
    "data_sc = preprocessor.fit_transform(data)"
   ],
   "metadata": {
    "collapsed": false
   }
  },
  {
   "cell_type": "code",
   "execution_count": 5,
   "outputs": [],
   "source": [
    "# normalización de datos con power transformer\n",
    "continuas_cols = data.select_dtypes(include=['float64']).columns.to_list()\n",
    "discretas_cols = data.select_dtypes(include=['int64']).columns.to_list()\n",
    "preprocessor = ColumnTransformer([('pt', PowerTransformer(), continuas_cols), ('min_max', MinMaxScaler(), discretas_cols)], remainder='passthrough')\n",
    "data_pt = preprocessor.fit_transform(data)"
   ],
   "metadata": {
    "collapsed": false
   }
  },
  {
   "cell_type": "code",
   "execution_count": 18,
   "outputs": [
    {
     "data": {
      "text/plain": "   silhouette kmeans  calinski kmeans  davies kmeans\n2           0.187889        22.126945       1.876505\n3           0.174086        20.442510       1.726440\n4           0.156731        17.652485       1.792626\n5           0.143442        15.422921       1.755334\n6           0.127261        14.053908       1.648325",
      "text/html": "<div>\n<style scoped>\n    .dataframe tbody tr th:only-of-type {\n        vertical-align: middle;\n    }\n\n    .dataframe tbody tr th {\n        vertical-align: top;\n    }\n\n    .dataframe thead th {\n        text-align: right;\n    }\n</style>\n<table border=\"1\" class=\"dataframe\">\n  <thead>\n    <tr style=\"text-align: right;\">\n      <th></th>\n      <th>silhouette kmeans</th>\n      <th>calinski kmeans</th>\n      <th>davies kmeans</th>\n    </tr>\n  </thead>\n  <tbody>\n    <tr>\n      <th>2</th>\n      <td>0.187889</td>\n      <td>22.126945</td>\n      <td>1.876505</td>\n    </tr>\n    <tr>\n      <th>3</th>\n      <td>0.174086</td>\n      <td>20.442510</td>\n      <td>1.726440</td>\n    </tr>\n    <tr>\n      <th>4</th>\n      <td>0.156731</td>\n      <td>17.652485</td>\n      <td>1.792626</td>\n    </tr>\n    <tr>\n      <th>5</th>\n      <td>0.143442</td>\n      <td>15.422921</td>\n      <td>1.755334</td>\n    </tr>\n    <tr>\n      <th>6</th>\n      <td>0.127261</td>\n      <td>14.053908</td>\n      <td>1.648325</td>\n    </tr>\n  </tbody>\n</table>\n</div>"
     },
     "execution_count": 18,
     "metadata": {},
     "output_type": "execute_result"
    }
   ],
   "source": [
    "# clústeres por KMeans\n",
    "inertias = []\n",
    "sil_scores = []\n",
    "cal_scores = []\n",
    "dav_scores = []\n",
    "for i in range(2,12):\n",
    "    kmeans = KMeans(i, random_state=72).fit(data)\n",
    "    inertia = kmeans.inertia_\n",
    "    inertias.append(inertia)\n",
    "    labels = kmeans.labels_\n",
    "    sil = silhouette_score(X=data, labels=labels)\n",
    "    sil_scores.append(sil)\n",
    "    cal = calinski_harabasz_score(X=data, labels=labels)\n",
    "    cal_scores.append(cal)\n",
    "    dav = davies_bouldin_score(X=data, labels=labels)\n",
    "    dav_scores.append(dav)\n",
    "plt.subplot(2,2,1)\n",
    "plt.plot(range(2,12), inertias, 'or')\n",
    "plt.xlabel('number of clusters')\n",
    "plt.ylabel('inertias')\n",
    "plt.subplot(2,2,2)\n",
    "plt.plot(range(2,12), sil_scores, 'or')\n",
    "plt.xlabel('number of clusters')\n",
    "plt.ylabel('silhouette scores')\n",
    "plt.subplot(2,2,3)\n",
    "plt.plot(range(2,12), cal_scores, 'or')\n",
    "plt.xlabel('number of clusters')\n",
    "plt.ylabel('calinski harabasz scores')\n",
    "plt.subplot(2,2,4)\n",
    "plt.plot(range(2,12), dav_scores, 'or')\n",
    "plt.xlabel('number of clusters')\n",
    "plt.ylabel('davies bouldin scores')\n",
    "\n",
    "df = pd.DataFrame(data=[sil_scores, cal_scores, dav_scores], index=['silhouette kmeans', 'calinski kmeans', 'davies kmeans'], columns=range(2,12))\n",
    "df = df.transpose()\n",
    "df.head()"
   ],
   "metadata": {
    "collapsed": false
   }
  },
  {
   "cell_type": "code",
   "execution_count": 19,
   "outputs": [
    {
     "data": {
      "text/plain": "   silhouette kmeans  calinski kmeans  davies kmeans  silhouette kmeans sc  \\\n2           0.187889        22.126945       1.876505              0.152998   \n3           0.174086        20.442510       1.726440              0.170100   \n4           0.156731        17.652485       1.792626              0.160954   \n5           0.143442        15.422921       1.755334              0.145071   \n6           0.127261        14.053908       1.648325              0.149932   \n\n   calinski kmeans sc  davies kmeans sc  \n2           17.765369          2.116490  \n3           18.712719          1.747855  \n4           17.139713          1.711894  \n5           15.494967          1.706103  \n6           14.783664          1.586329  ",
      "text/html": "<div>\n<style scoped>\n    .dataframe tbody tr th:only-of-type {\n        vertical-align: middle;\n    }\n\n    .dataframe tbody tr th {\n        vertical-align: top;\n    }\n\n    .dataframe thead th {\n        text-align: right;\n    }\n</style>\n<table border=\"1\" class=\"dataframe\">\n  <thead>\n    <tr style=\"text-align: right;\">\n      <th></th>\n      <th>silhouette kmeans</th>\n      <th>calinski kmeans</th>\n      <th>davies kmeans</th>\n      <th>silhouette kmeans sc</th>\n      <th>calinski kmeans sc</th>\n      <th>davies kmeans sc</th>\n    </tr>\n  </thead>\n  <tbody>\n    <tr>\n      <th>2</th>\n      <td>0.187889</td>\n      <td>22.126945</td>\n      <td>1.876505</td>\n      <td>0.152998</td>\n      <td>17.765369</td>\n      <td>2.116490</td>\n    </tr>\n    <tr>\n      <th>3</th>\n      <td>0.174086</td>\n      <td>20.442510</td>\n      <td>1.726440</td>\n      <td>0.170100</td>\n      <td>18.712719</td>\n      <td>1.747855</td>\n    </tr>\n    <tr>\n      <th>4</th>\n      <td>0.156731</td>\n      <td>17.652485</td>\n      <td>1.792626</td>\n      <td>0.160954</td>\n      <td>17.139713</td>\n      <td>1.711894</td>\n    </tr>\n    <tr>\n      <th>5</th>\n      <td>0.143442</td>\n      <td>15.422921</td>\n      <td>1.755334</td>\n      <td>0.145071</td>\n      <td>15.494967</td>\n      <td>1.706103</td>\n    </tr>\n    <tr>\n      <th>6</th>\n      <td>0.127261</td>\n      <td>14.053908</td>\n      <td>1.648325</td>\n      <td>0.149932</td>\n      <td>14.783664</td>\n      <td>1.586329</td>\n    </tr>\n  </tbody>\n</table>\n</div>"
     },
     "execution_count": 19,
     "metadata": {},
     "output_type": "execute_result"
    }
   ],
   "source": [
    "# clústeres por KMeans\n",
    "inertias = []\n",
    "sil_scores = []\n",
    "cal_scores = []\n",
    "dav_scores = []\n",
    "for i in range(2,12):\n",
    "    kmeans = KMeans(i, random_state=72).fit(data_sc)\n",
    "    inertia = kmeans.inertia_\n",
    "    inertias.append(inertia)\n",
    "    labels = kmeans.labels_\n",
    "    sil = silhouette_score(X=data_sc, labels=labels)\n",
    "    sil_scores.append(sil)\n",
    "    cal = calinski_harabasz_score(X=data_sc, labels=labels)\n",
    "    cal_scores.append(cal)\n",
    "    dav = davies_bouldin_score(X=data_sc, labels=labels)\n",
    "    dav_scores.append(dav)\n",
    "plt.subplot(2,2,1)\n",
    "plt.plot(range(2,12), inertias, 'b+')\n",
    "plt.xlabel('number of clusters')\n",
    "plt.ylabel('inertias')\n",
    "plt.subplot(2,2,2)\n",
    "plt.plot(range(2,12), sil_scores, 'b+')\n",
    "plt.xlabel('number of clusters')\n",
    "plt.ylabel('silhouette scores')\n",
    "plt.subplot(2,2,3)\n",
    "plt.plot(range(2,12), cal_scores, 'b+')\n",
    "plt.xlabel('number of clusters')\n",
    "plt.ylabel('calinski harabasz scores')\n",
    "plt.subplot(2,2,4)\n",
    "plt.plot(range(2,12), dav_scores, 'b+')\n",
    "plt.xlabel('number of clusters')\n",
    "plt.ylabel('davies bouldin scores')\n",
    "\n",
    "df['silhouette kmeans sc'] = sil_scores\n",
    "df['calinski kmeans sc'] = cal_scores\n",
    "df['davies kmeans sc'] = dav_scores\n",
    "df.head()"
   ],
   "metadata": {
    "collapsed": false
   }
  },
  {
   "cell_type": "code",
   "execution_count": 20,
   "outputs": [
    {
     "data": {
      "text/plain": "   silhouette kmeans  calinski kmeans  davies kmeans  silhouette kmeans sc  \\\n2           0.187889        22.126945       1.876505              0.152998   \n3           0.174086        20.442510       1.726440              0.170100   \n4           0.156731        17.652485       1.792626              0.160954   \n5           0.143442        15.422921       1.755334              0.145071   \n6           0.127261        14.053908       1.648325              0.149932   \n\n   calinski kmeans sc  davies kmeans sc  silhouette kmeans pt  \\\n2           17.765369          2.116490              0.155111   \n3           18.712719          1.747855              0.160143   \n4           17.139713          1.711894              0.156644   \n5           15.494967          1.706103              0.140067   \n6           14.783664          1.586329              0.141026   \n\n   calinski kmeans pt  davies kmeans pt  \n2           18.477087          2.091533  \n3           18.254031          1.751729  \n4           16.722571          1.694557  \n5           14.789860          1.779262  \n6           13.759064          1.659389  ",
      "text/html": "<div>\n<style scoped>\n    .dataframe tbody tr th:only-of-type {\n        vertical-align: middle;\n    }\n\n    .dataframe tbody tr th {\n        vertical-align: top;\n    }\n\n    .dataframe thead th {\n        text-align: right;\n    }\n</style>\n<table border=\"1\" class=\"dataframe\">\n  <thead>\n    <tr style=\"text-align: right;\">\n      <th></th>\n      <th>silhouette kmeans</th>\n      <th>calinski kmeans</th>\n      <th>davies kmeans</th>\n      <th>silhouette kmeans sc</th>\n      <th>calinski kmeans sc</th>\n      <th>davies kmeans sc</th>\n      <th>silhouette kmeans pt</th>\n      <th>calinski kmeans pt</th>\n      <th>davies kmeans pt</th>\n    </tr>\n  </thead>\n  <tbody>\n    <tr>\n      <th>2</th>\n      <td>0.187889</td>\n      <td>22.126945</td>\n      <td>1.876505</td>\n      <td>0.152998</td>\n      <td>17.765369</td>\n      <td>2.116490</td>\n      <td>0.155111</td>\n      <td>18.477087</td>\n      <td>2.091533</td>\n    </tr>\n    <tr>\n      <th>3</th>\n      <td>0.174086</td>\n      <td>20.442510</td>\n      <td>1.726440</td>\n      <td>0.170100</td>\n      <td>18.712719</td>\n      <td>1.747855</td>\n      <td>0.160143</td>\n      <td>18.254031</td>\n      <td>1.751729</td>\n    </tr>\n    <tr>\n      <th>4</th>\n      <td>0.156731</td>\n      <td>17.652485</td>\n      <td>1.792626</td>\n      <td>0.160954</td>\n      <td>17.139713</td>\n      <td>1.711894</td>\n      <td>0.156644</td>\n      <td>16.722571</td>\n      <td>1.694557</td>\n    </tr>\n    <tr>\n      <th>5</th>\n      <td>0.143442</td>\n      <td>15.422921</td>\n      <td>1.755334</td>\n      <td>0.145071</td>\n      <td>15.494967</td>\n      <td>1.706103</td>\n      <td>0.140067</td>\n      <td>14.789860</td>\n      <td>1.779262</td>\n    </tr>\n    <tr>\n      <th>6</th>\n      <td>0.127261</td>\n      <td>14.053908</td>\n      <td>1.648325</td>\n      <td>0.149932</td>\n      <td>14.783664</td>\n      <td>1.586329</td>\n      <td>0.141026</td>\n      <td>13.759064</td>\n      <td>1.659389</td>\n    </tr>\n  </tbody>\n</table>\n</div>"
     },
     "execution_count": 20,
     "metadata": {},
     "output_type": "execute_result"
    }
   ],
   "source": [
    "# clústeres por KMeans\n",
    "inertias = []\n",
    "sil_scores = []\n",
    "cal_scores = []\n",
    "dav_scores = []\n",
    "for i in range(2,12):\n",
    "    kmeans = KMeans(i, random_state=72).fit(data_pt)\n",
    "    inertia = kmeans.inertia_\n",
    "    inertias.append(inertia)\n",
    "    labels = kmeans.labels_\n",
    "    sil = silhouette_score(X=data_pt, labels=labels)\n",
    "    sil_scores.append(sil)\n",
    "    cal = calinski_harabasz_score(X=data_pt, labels=labels)\n",
    "    cal_scores.append(cal)\n",
    "    dav = davies_bouldin_score(X=data_pt, labels=labels)\n",
    "    dav_scores.append(dav)\n",
    "\n",
    "plt.subplot(2,2,1)\n",
    "plt.plot(range(2,12), inertias, 'ks')\n",
    "plt.xlabel('number of clusters')\n",
    "plt.ylabel('inertias')\n",
    "plt.subplot(2,2,2)\n",
    "plt.plot(range(2,12), sil_scores, 'ks')\n",
    "plt.xlabel('number of clusters')\n",
    "plt.ylabel('silhouette scores')\n",
    "plt.subplot(2,2,3)\n",
    "plt.plot(range(2,12), cal_scores, 'ks')\n",
    "plt.xlabel('number of clusters')\n",
    "plt.ylabel('calinski harabasz scores')\n",
    "plt.subplot(2,2,4)\n",
    "plt.plot(range(2,12), dav_scores, 'ks')\n",
    "plt.xlabel('number of clusters')\n",
    "plt.ylabel('davies bouldin scores')\n",
    "\n",
    "df['silhouette kmeans pt'] = sil_scores\n",
    "df['calinski kmeans pt'] = cal_scores\n",
    "df['davies kmeans pt'] = dav_scores\n",
    "df.head()"
   ],
   "metadata": {
    "collapsed": false
   }
  },
  {
   "cell_type": "code",
   "execution_count": 21,
   "outputs": [
    {
     "data": {
      "text/plain": "Text(710.7926767676767, 0.5, 'davies bouldin scores')"
     },
     "execution_count": 21,
     "metadata": {},
     "output_type": "execute_result"
    }
   ],
   "source": [
    "scores = []\n",
    "sil_scores = []\n",
    "cal_scores = []\n",
    "dav_scores = []\n",
    "for i in range(2,12):\n",
    "    gauss = GaussianMixture(i, random_state=72).fit(data)\n",
    "    labels = gauss.predict(data)\n",
    "    score = gauss.score(data)\n",
    "    scores.append(score)\n",
    "    sil = silhouette_score(X=data, labels=labels)\n",
    "    sil_scores.append(sil)\n",
    "    cal = calinski_harabasz_score(X=data, labels=labels)\n",
    "    cal_scores.append(cal)\n",
    "    dav = davies_bouldin_score(X=data, labels=labels)\n",
    "    dav_scores.append(dav)\n",
    "\n",
    "df['silhouette gauss'] = sil_scores\n",
    "df['calinski gauss'] = cal_scores\n",
    "df['davies gauss'] = dav_scores\n",
    "\n",
    "df.head()\n",
    "# plt.subplot(2,2,1)\n",
    "# plt.plot(range(2,12), scores, 'or')\n",
    "# plt.xlabel('number of clusters')\n",
    "# plt.ylabel('logprob scores')\n",
    "plt.subplot(2,2,2)\n",
    "plt.plot(range(2,12), sil_scores, 'g*')\n",
    "plt.xlabel('number of clusters')\n",
    "plt.ylabel('silhouette scores')\n",
    "plt.subplot(2,2,3)\n",
    "plt.plot(range(2,12), cal_scores, 'g*')\n",
    "plt.xlabel('number of clusters')\n",
    "plt.ylabel('calinski harabasz scores')\n",
    "plt.subplot(2,2,4)\n",
    "plt.plot(range(2,12), dav_scores, 'g*')\n",
    "plt.xlabel('number of clusters')\n",
    "plt.ylabel('davies bouldin scores')"
   ],
   "metadata": {
    "collapsed": false
   }
  },
  {
   "cell_type": "code",
   "execution_count": 22,
   "outputs": [
    {
     "data": {
      "text/plain": "Text(710.7926767676767, 0.5, 'davies bouldin scores')"
     },
     "execution_count": 22,
     "metadata": {},
     "output_type": "execute_result"
    }
   ],
   "source": [
    "scores = []\n",
    "sil_scores = []\n",
    "cal_scores = []\n",
    "dav_scores = []\n",
    "for i in range(2,12):\n",
    "    gauss = GaussianMixture(i, random_state=72).fit(data_sc)\n",
    "    labels = gauss.predict(data_sc)\n",
    "    score = gauss.score(data_sc)\n",
    "    scores.append(score)\n",
    "    sil = silhouette_score(X=data_sc, labels=labels)\n",
    "    sil_scores.append(sil)\n",
    "    cal = calinski_harabasz_score(X=data_sc, labels=labels)\n",
    "    cal_scores.append(cal)\n",
    "    dav = davies_bouldin_score(X=data_sc, labels=labels)\n",
    "    dav_scores.append(dav)\n",
    "\n",
    "df['silhouette gauss sc'] = sil_scores\n",
    "df['calinski gauss sc'] = cal_scores\n",
    "df['davies gauss sc'] = dav_scores\n",
    "df.head()\n",
    "\n",
    "# plt.subplot(2,2,1)\n",
    "# plt.plot(range(2,12), scores, 'or')\n",
    "# plt.xlabel('number of clusters')\n",
    "# plt.ylabel('logprob scores')\n",
    "plt.subplot(2,2,2)\n",
    "plt.plot(range(2,12), sil_scores, 'y>')\n",
    "plt.xlabel('number of clusters')\n",
    "plt.ylabel('silhouette scores')\n",
    "plt.subplot(2,2,3)\n",
    "plt.plot(range(2,12), cal_scores, 'y>')\n",
    "plt.xlabel('number of clusters')\n",
    "plt.ylabel('calinski harabasz scores')\n",
    "plt.subplot(2,2,4)\n",
    "plt.plot(range(2,12), dav_scores, 'y>')\n",
    "plt.xlabel('number of clusters')\n",
    "plt.ylabel('davies bouldin scores')"
   ],
   "metadata": {
    "collapsed": false
   }
  },
  {
   "cell_type": "code",
   "execution_count": 23,
   "outputs": [
    {
     "data": {
      "text/plain": "Text(710.7926767676767, 0.5, 'davies bouldin scores')"
     },
     "execution_count": 23,
     "metadata": {},
     "output_type": "execute_result"
    }
   ],
   "source": [
    "scores = []\n",
    "sil_scores = []\n",
    "cal_scores = []\n",
    "dav_scores = []\n",
    "for i in range(2,12):\n",
    "    gauss = GaussianMixture(i, random_state=72).fit(data_pt)\n",
    "    labels = gauss.predict(data_pt)\n",
    "    score = gauss.score(data_pt)\n",
    "    scores.append(score)\n",
    "    sil = silhouette_score(X=data_pt, labels=labels)\n",
    "    sil_scores.append(sil)\n",
    "    cal = calinski_harabasz_score(X=data_pt, labels=labels)\n",
    "    cal_scores.append(cal)\n",
    "    dav = davies_bouldin_score(X=data_pt, labels=labels)\n",
    "    dav_scores.append(dav)\n",
    "\n",
    "df['silhouette gauss pt'] = sil_scores\n",
    "df['calinski gauss pt'] = cal_scores\n",
    "df['davies gauss pt'] = dav_scores\n",
    "df.head()\n",
    "\n",
    "# plt.subplot(2,2,1)\n",
    "# plt.plot(range(2,12), scores, 'or')\n",
    "# plt.xlabel('number of clusters')\n",
    "# plt.ylabel('logprob scores')\n",
    "plt.subplot(2,2,2)\n",
    "plt.plot(range(2,12), sil_scores, 'md')\n",
    "plt.xlabel('number of clusters')\n",
    "plt.ylabel('silhouette scores')\n",
    "plt.subplot(2,2,3)\n",
    "plt.plot(range(2,12), cal_scores, 'md')\n",
    "plt.xlabel('number of clusters')\n",
    "plt.ylabel('calinski harabasz scores')\n",
    "plt.subplot(2,2,4)\n",
    "plt.plot(range(2,12), dav_scores, 'md')\n",
    "plt.xlabel('number of clusters')\n",
    "plt.ylabel('davies bouldin scores')"
   ],
   "metadata": {
    "collapsed": false
   }
  },
  {
   "cell_type": "code",
   "execution_count": 26,
   "outputs": [
    {
     "data": {
      "text/plain": "Text(710.9176767676767, 0.5, 'davies bouldin scores')"
     },
     "execution_count": 26,
     "metadata": {},
     "output_type": "execute_result"
    }
   ],
   "source": [
    "from sklearn.cluster import SpectralClustering\n",
    "sil_scores = []\n",
    "cal_scores = []\n",
    "dav_scores = []\n",
    "for i in range(2,12):\n",
    "    sc = SpectralClustering(i, random_state=72).fit(data)\n",
    "    labels = sc.labels_\n",
    "    sil = silhouette_score(X=data, labels=labels)\n",
    "    sil_scores.append(sil)\n",
    "    cal = calinski_harabasz_score(X=data, labels=labels)\n",
    "    cal_scores.append(cal)\n",
    "    dav = davies_bouldin_score(X=data, labels=labels)\n",
    "    dav_scores.append(dav)\n",
    "\n",
    "df['silhouette spectral'] = sil_scores\n",
    "df['calinski spectral'] = cal_scores\n",
    "df['davies spectral'] = dav_scores\n",
    "df.head()\n",
    "\n",
    "# plt.subplot(2,2,1)\n",
    "# plt.plot(range(2,12), scores, 'cx')\n",
    "# plt.xlabel('number of clusters')\n",
    "# plt.ylabel('logprob scores')\n",
    "plt.subplot(2,2,2)\n",
    "plt.plot(range(2,12), sil_scores, 'cx')\n",
    "plt.xlabel('number of clusters')\n",
    "plt.ylabel('silhouette scores')\n",
    "plt.subplot(2,2,3)\n",
    "plt.plot(range(2,12), cal_scores, 'cx')\n",
    "plt.xlabel('number of clusters')\n",
    "plt.ylabel('calinski harabasz scores')\n",
    "plt.subplot(2,2,4)\n",
    "plt.plot(range(2,12), dav_scores, 'cx')\n",
    "plt.xlabel('number of clusters')\n",
    "plt.ylabel('davies bouldin scores')"
   ],
   "metadata": {
    "collapsed": false
   }
  },
  {
   "cell_type": "code",
   "execution_count": 25,
   "outputs": [
    {
     "data": {
      "text/plain": "Text(710.9176767676767, 0.5, 'davies bouldin scores')"
     },
     "execution_count": 25,
     "metadata": {},
     "output_type": "execute_result"
    }
   ],
   "source": [
    "from sklearn.cluster import SpectralClustering\n",
    "sil_scores = []\n",
    "cal_scores = []\n",
    "dav_scores = []\n",
    "for i in range(2,12):\n",
    "    sc = SpectralClustering(i, random_state=72).fit(data_sc)\n",
    "    labels = sc.labels_\n",
    "    sil = silhouette_score(X=data_sc, labels=labels)\n",
    "    sil_scores.append(sil)\n",
    "    cal = calinski_harabasz_score(X=data_sc, labels=labels)\n",
    "    cal_scores.append(cal)\n",
    "    dav = davies_bouldin_score(X=data_sc, labels=labels)\n",
    "    dav_scores.append(dav)\n",
    "\n",
    "df['silhouette spectral sc'] = sil_scores\n",
    "df['calinski spectral sc'] = cal_scores\n",
    "df['davies spectral sc'] = dav_scores\n",
    "df.head()\n",
    "\n",
    "# plt.subplot(2,2,1)\n",
    "# plt.plot(range(2,12), scores, 'rx')\n",
    "# plt.xlabel('number of clusters')\n",
    "# plt.ylabel('logprob scores')\n",
    "plt.subplot(2,2,2)\n",
    "plt.plot(range(2,12), sil_scores, 'rx')\n",
    "plt.xlabel('number of clusters')\n",
    "plt.ylabel('silhouette scores')\n",
    "plt.subplot(2,2,3)\n",
    "plt.plot(range(2,12), cal_scores, 'rx')\n",
    "plt.xlabel('number of clusters')\n",
    "plt.ylabel('calinski harabasz scores')\n",
    "plt.subplot(2,2,4)\n",
    "plt.plot(range(2,12), dav_scores, 'rx')\n",
    "plt.xlabel('number of clusters')\n",
    "plt.ylabel('davies bouldin scores')"
   ],
   "metadata": {
    "collapsed": false
   }
  },
  {
   "cell_type": "code",
   "execution_count": 27,
   "outputs": [
    {
     "data": {
      "text/plain": "Text(710.9176767676767, 0.5, 'davies bouldin scores')"
     },
     "execution_count": 27,
     "metadata": {},
     "output_type": "execute_result"
    }
   ],
   "source": [
    "from sklearn.cluster import SpectralClustering\n",
    "sil_scores = []\n",
    "cal_scores = []\n",
    "dav_scores = []\n",
    "for i in range(2,12):\n",
    "    sc = SpectralClustering(i, random_state=72).fit(data_pt)\n",
    "    labels = sc.labels_\n",
    "    sil = silhouette_score(X=data_pt, labels=labels)\n",
    "    sil_scores.append(sil)\n",
    "    cal = calinski_harabasz_score(X=data_pt, labels=labels)\n",
    "    cal_scores.append(cal)\n",
    "    dav = davies_bouldin_score(X=data_pt, labels=labels)\n",
    "    dav_scores.append(dav)\n",
    "\n",
    "df['silhouette spectral pt'] = sil_scores\n",
    "df['calinski spectral pt'] = cal_scores\n",
    "df['davies spectral pt'] = dav_scores\n",
    "df.head()\n",
    "\n",
    "# plt.subplot(2,2,1)\n",
    "# plt.plot(range(2,12), scores, 'rx')\n",
    "# plt.xlabel('number of clusters')\n",
    "# plt.ylabel('logprob scores')\n",
    "plt.subplot(2,2,2)\n",
    "plt.plot(range(2,12), sil_scores, 'kx')\n",
    "plt.xlabel('number of clusters')\n",
    "plt.ylabel('silhouette scores')\n",
    "plt.subplot(2,2,3)\n",
    "plt.plot(range(2,12), cal_scores, 'kx')\n",
    "plt.xlabel('number of clusters')\n",
    "plt.ylabel('calinski harabasz scores')\n",
    "plt.subplot(2,2,4)\n",
    "plt.plot(range(2,12), dav_scores, 'kx')\n",
    "plt.xlabel('number of clusters')\n",
    "plt.ylabel('davies bouldin scores')"
   ],
   "metadata": {
    "collapsed": false
   }
  },
  {
   "cell_type": "code",
   "execution_count": 29,
   "outputs": [
    {
     "data": {
      "text/plain": "         EX2_score  IRI_PT  IRI_EC  mean_eccentricity_ti  \\\nsubject                                                    \n21100            8    12.0    11.0             15.203125   \n21101            8    25.0    13.0             18.015625   \n21102            1    20.0    15.0             14.703125   \n21103            8    16.0    16.0             13.343750   \n21104            5    23.0    18.0             16.593750   \n\n         mean_eccentricity_b2i  school_years  mean_eccentricity_b2d    AL  \\\nsubject                                                                     \n21100                11.312500            11               2.843750  9.00   \n21101                17.062500            11              -0.812500  9.50   \n21102                14.531250            11              -1.921875  4.50   \n21103                14.078125            18               2.625000  6.25   \n21104                18.000000            11              -4.515625  7.50   \n\n         gender_F  gender_M  victims_self_no  victims_self_yes  labels  \nsubject                                                                 \n21100           1         0                0                 1       1  \n21101           0         1                0                 1       0  \n21102           0         1                0                 1       0  \n21103           0         1                0                 1       0  \n21104           0         1                0                 1       0  ",
      "text/html": "<div>\n<style scoped>\n    .dataframe tbody tr th:only-of-type {\n        vertical-align: middle;\n    }\n\n    .dataframe tbody tr th {\n        vertical-align: top;\n    }\n\n    .dataframe thead th {\n        text-align: right;\n    }\n</style>\n<table border=\"1\" class=\"dataframe\">\n  <thead>\n    <tr style=\"text-align: right;\">\n      <th></th>\n      <th>EX2_score</th>\n      <th>IRI_PT</th>\n      <th>IRI_EC</th>\n      <th>mean_eccentricity_ti</th>\n      <th>mean_eccentricity_b2i</th>\n      <th>school_years</th>\n      <th>mean_eccentricity_b2d</th>\n      <th>AL</th>\n      <th>gender_F</th>\n      <th>gender_M</th>\n      <th>victims_self_no</th>\n      <th>victims_self_yes</th>\n      <th>labels</th>\n    </tr>\n    <tr>\n      <th>subject</th>\n      <th></th>\n      <th></th>\n      <th></th>\n      <th></th>\n      <th></th>\n      <th></th>\n      <th></th>\n      <th></th>\n      <th></th>\n      <th></th>\n      <th></th>\n      <th></th>\n      <th></th>\n    </tr>\n  </thead>\n  <tbody>\n    <tr>\n      <th>21100</th>\n      <td>8</td>\n      <td>12.0</td>\n      <td>11.0</td>\n      <td>15.203125</td>\n      <td>11.312500</td>\n      <td>11</td>\n      <td>2.843750</td>\n      <td>9.00</td>\n      <td>1</td>\n      <td>0</td>\n      <td>0</td>\n      <td>1</td>\n      <td>1</td>\n    </tr>\n    <tr>\n      <th>21101</th>\n      <td>8</td>\n      <td>25.0</td>\n      <td>13.0</td>\n      <td>18.015625</td>\n      <td>17.062500</td>\n      <td>11</td>\n      <td>-0.812500</td>\n      <td>9.50</td>\n      <td>0</td>\n      <td>1</td>\n      <td>0</td>\n      <td>1</td>\n      <td>0</td>\n    </tr>\n    <tr>\n      <th>21102</th>\n      <td>1</td>\n      <td>20.0</td>\n      <td>15.0</td>\n      <td>14.703125</td>\n      <td>14.531250</td>\n      <td>11</td>\n      <td>-1.921875</td>\n      <td>4.50</td>\n      <td>0</td>\n      <td>1</td>\n      <td>0</td>\n      <td>1</td>\n      <td>0</td>\n    </tr>\n    <tr>\n      <th>21103</th>\n      <td>8</td>\n      <td>16.0</td>\n      <td>16.0</td>\n      <td>13.343750</td>\n      <td>14.078125</td>\n      <td>18</td>\n      <td>2.625000</td>\n      <td>6.25</td>\n      <td>0</td>\n      <td>1</td>\n      <td>0</td>\n      <td>1</td>\n      <td>0</td>\n    </tr>\n    <tr>\n      <th>21104</th>\n      <td>5</td>\n      <td>23.0</td>\n      <td>18.0</td>\n      <td>16.593750</td>\n      <td>18.000000</td>\n      <td>11</td>\n      <td>-4.515625</td>\n      <td>7.50</td>\n      <td>0</td>\n      <td>1</td>\n      <td>0</td>\n      <td>1</td>\n      <td>0</td>\n    </tr>\n  </tbody>\n</table>\n</div>"
     },
     "execution_count": 29,
     "metadata": {},
     "output_type": "execute_result"
    }
   ],
   "source": [
    "# parece que el mejor modelo es KMeans sin escalizar con 3 clústeres\n",
    "kmeans = KMeans(3, random_state=72).fit(data)\n",
    "inertia = kmeans.inertia_\n",
    "labels = kmeans.labels_\n",
    "data['labels'] = labels\n",
    "data.head()"
   ],
   "metadata": {
    "collapsed": false
   }
  },
  {
   "cell_type": "code",
   "execution_count": 31,
   "outputs": [],
   "source": [
    "data.to_csv('clusters_kmeans_3.csv')"
   ],
   "metadata": {
    "collapsed": false
   }
  },
  {
   "cell_type": "code",
   "execution_count": null,
   "outputs": [],
   "source": [],
   "metadata": {
    "collapsed": false
   }
  }
 ],
 "metadata": {
  "kernelspec": {
   "display_name": "Python 3",
   "language": "python",
   "name": "python3"
  },
  "language_info": {
   "codemirror_mode": {
    "name": "ipython",
    "version": 2
   },
   "file_extension": ".py",
   "mimetype": "text/x-python",
   "name": "python",
   "nbconvert_exporter": "python",
   "pygments_lexer": "ipython2",
   "version": "2.7.6"
  }
 },
 "nbformat": 4,
 "nbformat_minor": 0
}
